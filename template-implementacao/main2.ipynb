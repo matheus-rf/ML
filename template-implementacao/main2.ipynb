{
 "cells": [
  {
   "cell_type": "code",
   "id": "initial_id",
   "metadata": {
    "collapsed": true,
    "ExecuteTime": {
     "end_time": "2025-01-23T18:39:38.298697Z",
     "start_time": "2025-01-23T18:39:38.287751Z"
    }
   },
   "source": [
    "#import das bibliotecas\n",
    "import pandas as pd\n",
    "import numpy as np\n",
    "import matplotlib.pyplot as plt\n",
    "import seaborn as sns\n",
    "\n",
    "import sys\n",
    "import analise_exploratoria as ae\n",
    "from sklearn.ensemble import RandomForestRegressor\n",
    "from sklearn.impute import KNNImputer\n",
    "from sklearn.preprocessing import LabelEncoder\n",
    "from sklearn.model_selection import train_test_split, GridSearchCV, cross_val_score, RandomizedSearchCV\n",
    "from sklearn.metrics import accuracy_score\n",
    "from sklearn.linear_model import LogisticRegression\n",
    "from sklearn.ensemble import RandomForestClassifier, VotingClassifier, StackingClassifier\n",
    "from xgboost import XGBClassifier\n",
    "from lightgbm import LGBMClassifier\n",
    "from catboost import CatBoostClassifier\n",
    "from sklearn.neighbors import KNeighborsClassifier\n",
    "from sklearn.svm import SVC\n",
    "from sklearn.naive_bayes import GaussianNB\n",
    "from sklearn.neural_network import MLPClassifier\n",
    "from sklearn.preprocessing import StandardScaler\n"
   ],
   "outputs": [],
   "execution_count": 90
  },
  {
   "metadata": {
    "ExecuteTime": {
     "end_time": "2025-01-23T18:39:38.510375Z",
     "start_time": "2025-01-23T18:39:38.394128Z"
    }
   },
   "cell_type": "code",
   "source": [
    "# Leitura dos dados\n",
    "data = pd.read_csv('datasets/RHP_data.csv')\n",
    "\n",
    "# Visualização dos dados\n",
    "data.head()"
   ],
   "id": "a1b9b9241b897967",
   "outputs": [
    {
     "data": {
      "text/plain": [
       "   Id  Peso  Altura   IMC Atendimento        DN  IDADE Convenio   PULSOS  \\\n",
       "0   1   5.0      51  19.0    11/05/06  30/03/06   0.12       GS  Normais   \n",
       "1   2   3.5      50  14.0    25/05/05  19/05/05   0.02       GS  Normais   \n",
       "2   3   0.0       0   NaN    12/06/01  08/05/05  -4.05     SULA  Normais   \n",
       "3   4   8.1      65  19.0    15/10/09  21/04/09    0.5      NaN  Normais   \n",
       "4   5  39.5     142  20.0    23/01/09  24/10/99    9.6    Sulam  Normais   \n",
       "\n",
       "   PA SISTOLICA  PA DIASTOLICA            PPA      B2      SOPRO   FC  \\\n",
       "0           NaN            NaN  Não Calculado  Normal  Sistólico  112   \n",
       "1           NaN            NaN  Não Calculado  Normal    ausente  128   \n",
       "2           NaN            NaN  Não Calculado  Normal  Sistólico   88   \n",
       "3           NaN            NaN  Não Calculado  Normal    ausente   92   \n",
       "4          85.0           50.0         Normal  Normal    ausente   90   \n",
       "\n",
       "           HDA 1 HDA2 SEXO                      MOTIVO1  \\\n",
       "0     Palpitacao  NaN    M  6 - Suspeita de cardiopatia   \n",
       "1       Dispneia  NaN    M  6 - Suspeita de cardiopatia   \n",
       "2  Assintomático  NaN    M                 2 - Check-up   \n",
       "3  Assintomático  NaN    M     5 - Parecer cardiológico   \n",
       "4            NaN  NaN    M     5 - Parecer cardiológico   \n",
       "\n",
       "                               MOTIVO2  \n",
       "0  6 - Palpitação/taquicardia/arritmia  \n",
       "1                         6 - Dispnéia  \n",
       "2                                  NaN  \n",
       "3                                  NaN  \n",
       "4                 5 - Atividade física  "
      ],
      "text/html": [
       "<div>\n",
       "<style scoped>\n",
       "    .dataframe tbody tr th:only-of-type {\n",
       "        vertical-align: middle;\n",
       "    }\n",
       "\n",
       "    .dataframe tbody tr th {\n",
       "        vertical-align: top;\n",
       "    }\n",
       "\n",
       "    .dataframe thead th {\n",
       "        text-align: right;\n",
       "    }\n",
       "</style>\n",
       "<table border=\"1\" class=\"dataframe\">\n",
       "  <thead>\n",
       "    <tr style=\"text-align: right;\">\n",
       "      <th></th>\n",
       "      <th>Id</th>\n",
       "      <th>Peso</th>\n",
       "      <th>Altura</th>\n",
       "      <th>IMC</th>\n",
       "      <th>Atendimento</th>\n",
       "      <th>DN</th>\n",
       "      <th>IDADE</th>\n",
       "      <th>Convenio</th>\n",
       "      <th>PULSOS</th>\n",
       "      <th>PA SISTOLICA</th>\n",
       "      <th>PA DIASTOLICA</th>\n",
       "      <th>PPA</th>\n",
       "      <th>B2</th>\n",
       "      <th>SOPRO</th>\n",
       "      <th>FC</th>\n",
       "      <th>HDA 1</th>\n",
       "      <th>HDA2</th>\n",
       "      <th>SEXO</th>\n",
       "      <th>MOTIVO1</th>\n",
       "      <th>MOTIVO2</th>\n",
       "    </tr>\n",
       "  </thead>\n",
       "  <tbody>\n",
       "    <tr>\n",
       "      <th>0</th>\n",
       "      <td>1</td>\n",
       "      <td>5.0</td>\n",
       "      <td>51</td>\n",
       "      <td>19.0</td>\n",
       "      <td>11/05/06</td>\n",
       "      <td>30/03/06</td>\n",
       "      <td>0.12</td>\n",
       "      <td>GS</td>\n",
       "      <td>Normais</td>\n",
       "      <td>NaN</td>\n",
       "      <td>NaN</td>\n",
       "      <td>Não Calculado</td>\n",
       "      <td>Normal</td>\n",
       "      <td>Sistólico</td>\n",
       "      <td>112</td>\n",
       "      <td>Palpitacao</td>\n",
       "      <td>NaN</td>\n",
       "      <td>M</td>\n",
       "      <td>6 - Suspeita de cardiopatia</td>\n",
       "      <td>6 - Palpitação/taquicardia/arritmia</td>\n",
       "    </tr>\n",
       "    <tr>\n",
       "      <th>1</th>\n",
       "      <td>2</td>\n",
       "      <td>3.5</td>\n",
       "      <td>50</td>\n",
       "      <td>14.0</td>\n",
       "      <td>25/05/05</td>\n",
       "      <td>19/05/05</td>\n",
       "      <td>0.02</td>\n",
       "      <td>GS</td>\n",
       "      <td>Normais</td>\n",
       "      <td>NaN</td>\n",
       "      <td>NaN</td>\n",
       "      <td>Não Calculado</td>\n",
       "      <td>Normal</td>\n",
       "      <td>ausente</td>\n",
       "      <td>128</td>\n",
       "      <td>Dispneia</td>\n",
       "      <td>NaN</td>\n",
       "      <td>M</td>\n",
       "      <td>6 - Suspeita de cardiopatia</td>\n",
       "      <td>6 - Dispnéia</td>\n",
       "    </tr>\n",
       "    <tr>\n",
       "      <th>2</th>\n",
       "      <td>3</td>\n",
       "      <td>0.0</td>\n",
       "      <td>0</td>\n",
       "      <td>NaN</td>\n",
       "      <td>12/06/01</td>\n",
       "      <td>08/05/05</td>\n",
       "      <td>-4.05</td>\n",
       "      <td>SULA</td>\n",
       "      <td>Normais</td>\n",
       "      <td>NaN</td>\n",
       "      <td>NaN</td>\n",
       "      <td>Não Calculado</td>\n",
       "      <td>Normal</td>\n",
       "      <td>Sistólico</td>\n",
       "      <td>88</td>\n",
       "      <td>Assintomático</td>\n",
       "      <td>NaN</td>\n",
       "      <td>M</td>\n",
       "      <td>2 - Check-up</td>\n",
       "      <td>NaN</td>\n",
       "    </tr>\n",
       "    <tr>\n",
       "      <th>3</th>\n",
       "      <td>4</td>\n",
       "      <td>8.1</td>\n",
       "      <td>65</td>\n",
       "      <td>19.0</td>\n",
       "      <td>15/10/09</td>\n",
       "      <td>21/04/09</td>\n",
       "      <td>0.5</td>\n",
       "      <td>NaN</td>\n",
       "      <td>Normais</td>\n",
       "      <td>NaN</td>\n",
       "      <td>NaN</td>\n",
       "      <td>Não Calculado</td>\n",
       "      <td>Normal</td>\n",
       "      <td>ausente</td>\n",
       "      <td>92</td>\n",
       "      <td>Assintomático</td>\n",
       "      <td>NaN</td>\n",
       "      <td>M</td>\n",
       "      <td>5 - Parecer cardiológico</td>\n",
       "      <td>NaN</td>\n",
       "    </tr>\n",
       "    <tr>\n",
       "      <th>4</th>\n",
       "      <td>5</td>\n",
       "      <td>39.5</td>\n",
       "      <td>142</td>\n",
       "      <td>20.0</td>\n",
       "      <td>23/01/09</td>\n",
       "      <td>24/10/99</td>\n",
       "      <td>9.6</td>\n",
       "      <td>Sulam</td>\n",
       "      <td>Normais</td>\n",
       "      <td>85.0</td>\n",
       "      <td>50.0</td>\n",
       "      <td>Normal</td>\n",
       "      <td>Normal</td>\n",
       "      <td>ausente</td>\n",
       "      <td>90</td>\n",
       "      <td>NaN</td>\n",
       "      <td>NaN</td>\n",
       "      <td>M</td>\n",
       "      <td>5 - Parecer cardiológico</td>\n",
       "      <td>5 - Atividade física</td>\n",
       "    </tr>\n",
       "  </tbody>\n",
       "</table>\n",
       "</div>"
      ]
     },
     "execution_count": 91,
     "metadata": {},
     "output_type": "execute_result"
    }
   ],
   "execution_count": 91
  },
  {
   "metadata": {
    "ExecuteTime": {
     "end_time": "2025-01-23T18:39:38.609200Z",
     "start_time": "2025-01-23T18:39:38.597044Z"
    }
   },
   "cell_type": "code",
   "source": [
    "# padronização dos nomes das colunas\n",
    "ae.padronizar_colunas(data)"
   ],
   "id": "efdf1a6ca332774",
   "outputs": [],
   "execution_count": 92
  },
  {
   "metadata": {
    "ExecuteTime": {
     "end_time": "2025-01-23T18:39:38.722459Z",
     "start_time": "2025-01-23T18:39:38.710017Z"
    }
   },
   "cell_type": "code",
   "source": [
    "#dropar colunas que não serão utilizadas\n",
    "data.drop(columns=['atendimento', 'dn','convenio','hda_2'], inplace=True)"
   ],
   "id": "6a6b20c193fc29c1",
   "outputs": [],
   "execution_count": 93
  },
  {
   "metadata": {
    "ExecuteTime": {
     "end_time": "2025-01-23T18:39:39.091903Z",
     "start_time": "2025-01-23T18:39:38.959007Z"
    }
   },
   "cell_type": "code",
   "source": [
    "#colunas numericas\n",
    "cols_numericas = ['peso', 'altura','idade', 'imc', 'pa_sistolica', 'pa_diastolica'] #fc tratar depois\n",
    "\n",
    "#ae.tratar_dados_nulos(data, cols_numericas) todo: implementar essa função\n",
    "\n",
    "for col in cols_numericas:\n",
    "    data[col] = data[col].apply(lambda x: 0 if x == '#VALUE!' else float(x))\n",
    "    data[col] = data[col].apply(lambda x: 0 if x < 0 else x)\n",
    "    data[col] = data[col].fillna(0)\n",
    "\n",
    "    \n",
    "data[cols_numericas].isnull().sum()"
   ],
   "id": "a59219adadb229f9",
   "outputs": [
    {
     "data": {
      "text/plain": [
       "peso             0\n",
       "altura           0\n",
       "idade            0\n",
       "imc              0\n",
       "pa_sistolica     0\n",
       "pa_diastolica    0\n",
       "dtype: int64"
      ]
     },
     "execution_count": 94,
     "metadata": {},
     "output_type": "execute_result"
    }
   ],
   "execution_count": 94
  },
  {
   "metadata": {
    "ExecuteTime": {
     "end_time": "2025-01-23T18:39:39.380222Z",
     "start_time": "2025-01-23T18:39:39.213723Z"
    }
   },
   "cell_type": "code",
   "source": [
    "## TODO: implementar essa função\n",
    "#colunas categoricas\n",
    "cols_categoricas = [ 'pulsos', 'ppa', 'b2', 'sexo', 'sopro', 'hda_1', 'motivo_1', 'motivo_2']\n",
    "\n",
    "for col in cols_categoricas:\n",
    "    data[col] = data[col].replace('#VALUE!', pd.NA)\n",
    "    data[col] = data[col].fillna('Nao informado')\n",
    "    data[col] = data[col].apply(lambda x: x.lower())\n",
    "\n",
    "# em sexo, substituir 'masculino' por 'm' e 'feminino' por 'f'\n",
    "data['sexo'] = data['sexo'].replace('masculino', 'm')\n",
    "data['sexo'] = data['sexo'].replace('feminino', 'f')\n",
    "\n",
    "\n",
    "\n",
    "data[cols_categoricas].isnull().sum()"
   ],
   "id": "5c6a31a129b457c9",
   "outputs": [
    {
     "data": {
      "text/plain": [
       "pulsos      0\n",
       "ppa         0\n",
       "b2          0\n",
       "sexo        0\n",
       "sopro       0\n",
       "hda_1       0\n",
       "motivo_1    0\n",
       "motivo_2    0\n",
       "dtype: int64"
      ]
     },
     "execution_count": 95,
     "metadata": {},
     "output_type": "execute_result"
    }
   ],
   "execution_count": 95
  },
  {
   "metadata": {
    "ExecuteTime": {
     "end_time": "2025-01-23T18:39:39.544398Z",
     "start_time": "2025-01-23T18:39:39.533623Z"
    }
   },
   "cell_type": "code",
   "source": [
    "# vendo os tipos das colunas\n",
    "data.dtypes"
   ],
   "id": "81aaec7eb838a4c8",
   "outputs": [
    {
     "data": {
      "text/plain": [
       "id                 int64\n",
       "peso             float64\n",
       "altura           float64\n",
       "imc              float64\n",
       "idade            float64\n",
       "pulsos            object\n",
       "pa_sistolica     float64\n",
       "pa_diastolica    float64\n",
       "ppa               object\n",
       "b2                object\n",
       "sopro             object\n",
       "fc                object\n",
       "hda_1             object\n",
       "sexo              object\n",
       "motivo_1          object\n",
       "motivo_2          object\n",
       "dtype: object"
      ]
     },
     "execution_count": 96,
     "metadata": {},
     "output_type": "execute_result"
    }
   ],
   "execution_count": 96
  },
  {
   "metadata": {
    "ExecuteTime": {
     "end_time": "2025-01-23T18:39:39.883387Z",
     "start_time": "2025-01-23T18:39:39.829367Z"
    }
   },
   "cell_type": "code",
   "source": [
    "# Transforming 'fc' column to float\n",
    "# If 'fc' has a format like 'number a number', take the first number\n",
    "data['fc'] = data['fc'].fillna(0)  # Replace NaN with 0\n",
    "data['fc'] = data['fc'].astype(str).str.extract(r'(\\d+)')[0]  # Extract the first number\n",
    "data['fc'] = data['fc'].astype(float)  # Convert to float"
   ],
   "id": "357bdd0bd405bd07",
   "outputs": [],
   "execution_count": 97
  },
  {
   "metadata": {},
   "cell_type": "markdown",
   "source": "### preenchendo as colunas 0 com a mediana",
   "id": "be03bcfd9cc3220b"
  },
  {
   "metadata": {
    "ExecuteTime": {
     "end_time": "2025-01-23T18:39:47.911185Z",
     "start_time": "2025-01-23T18:39:40.047698Z"
    }
   },
   "cell_type": "code",
   "source": [
    "#preenchendo as colunas 0 com a mediana\n",
    "for col in cols_numericas:\n",
    "    data[col] = data[col].apply(lambda x: data[col].median() if x == 0 else x)"
   ],
   "id": "8af9df504096704a",
   "outputs": [],
   "execution_count": 98
  },
  {
   "metadata": {},
   "cell_type": "markdown",
   "source": "### preenchendo nao informado com a moda",
   "id": "c07f2f324152ac3e"
  },
  {
   "metadata": {
    "ExecuteTime": {
     "end_time": "2025-01-23T18:40:30.443344Z",
     "start_time": "2025-01-23T18:39:48.000010Z"
    }
   },
   "cell_type": "code",
   "source": [
    "#preenchendo nao informado com a moda\n",
    "for col in cols_categoricas:\n",
    "    data[col] = data[col].apply(lambda x: data[col].mode()[0] if x == 'nao informado' else x)"
   ],
   "id": "7164d5ba258ec8fd",
   "outputs": [],
   "execution_count": 99
  },
  {
   "metadata": {},
   "cell_type": "markdown",
   "source": "### separando os dados em treino e teste",
   "id": "736fa3562afd33c8"
  },
  {
   "metadata": {
    "ExecuteTime": {
     "end_time": "2025-01-23T18:40:30.524976Z",
     "start_time": "2025-01-23T18:40:30.451131Z"
    }
   },
   "cell_type": "code",
   "source": [
    "# separando os dados em treino e teste\n",
    "df_test = pd.read_csv('test.csv')\n",
    "df_train = pd.read_csv('train.csv')\n",
    "\n",
    "#trocando o nome da coluna Id para id em df_test e df_train\n",
    "df_test.rename(columns={'Id':'id'}, inplace=True)\n",
    "df_train.rename(columns={'Id':'id'}, inplace=True)\n",
    "\n",
    "#dando merge de data com df_train usando o id, mas mantendo a ordem de ids de df_train\n",
    "data_train = pd.merge(df_train, data, on='id', how='inner')\n",
    "\n",
    "#dando merge de data com df_test usando o id, mas mantendo a ordem de ids de df_test\n",
    "data_test = pd.merge(df_test, data, on='id', how='inner')"
   ],
   "id": "795e58793504b2ad",
   "outputs": [],
   "execution_count": 100
  },
  {
   "metadata": {
    "ExecuteTime": {
     "end_time": "2025-01-23T18:40:30.612060Z",
     "start_time": "2025-01-23T18:40:30.582528Z"
    }
   },
   "cell_type": "code",
   "source": "data_train.head()",
   "id": "698f43b2c7686961",
   "outputs": [
    {
     "data": {
      "text/plain": [
       "      id   CLASSE  peso  altura   imc  idade   pulsos  pa_sistolica  \\\n",
       "0  10524   Normal  28.0   123.0  19.0   5.79  normais         110.0   \n",
       "1  17249  Anormal  32.0    99.0  16.0  12.11  normais         100.0   \n",
       "2   4483  Anormal  13.0    87.0  17.0   2.21  normais          90.0   \n",
       "3   6830   Normal  11.0    99.0  16.0   1.60  normais          90.0   \n",
       "4  11652   Normal  42.4   136.0  23.0   0.06  normais         100.0   \n",
       "\n",
       "   pa_diastolica            ppa      b2      sopro     fc          hda_1 sexo  \\\n",
       "0           80.0      has-1 pad  normal    ausente  100.0     palpitacao    m   \n",
       "1           60.0  não calculado  normal  sistólico  100.0  assintomático    m   \n",
       "2           50.0  não calculado  normal  sistólico  100.0  assintomático    m   \n",
       "3           50.0  não calculado  normal    ausente  100.0  assintomático    f   \n",
       "4           60.0  não calculado  normal    ausente   78.0  assintomático    f   \n",
       "\n",
       "                          motivo_1                             motivo_2  \n",
       "0      6 - suspeita de cardiopatia  6 - palpitação/taquicardia/arritmia  \n",
       "1         5 - parecer cardiológico                        nao informado  \n",
       "2      6 - suspeita de cardiopatia                            6 - sopro  \n",
       "3  1 - cardiopatia já estabelecida            1 - cardiopatia congenica  \n",
       "4         5 - parecer cardiológico                        nao informado  "
      ],
      "text/html": [
       "<div>\n",
       "<style scoped>\n",
       "    .dataframe tbody tr th:only-of-type {\n",
       "        vertical-align: middle;\n",
       "    }\n",
       "\n",
       "    .dataframe tbody tr th {\n",
       "        vertical-align: top;\n",
       "    }\n",
       "\n",
       "    .dataframe thead th {\n",
       "        text-align: right;\n",
       "    }\n",
       "</style>\n",
       "<table border=\"1\" class=\"dataframe\">\n",
       "  <thead>\n",
       "    <tr style=\"text-align: right;\">\n",
       "      <th></th>\n",
       "      <th>id</th>\n",
       "      <th>CLASSE</th>\n",
       "      <th>peso</th>\n",
       "      <th>altura</th>\n",
       "      <th>imc</th>\n",
       "      <th>idade</th>\n",
       "      <th>pulsos</th>\n",
       "      <th>pa_sistolica</th>\n",
       "      <th>pa_diastolica</th>\n",
       "      <th>ppa</th>\n",
       "      <th>b2</th>\n",
       "      <th>sopro</th>\n",
       "      <th>fc</th>\n",
       "      <th>hda_1</th>\n",
       "      <th>sexo</th>\n",
       "      <th>motivo_1</th>\n",
       "      <th>motivo_2</th>\n",
       "    </tr>\n",
       "  </thead>\n",
       "  <tbody>\n",
       "    <tr>\n",
       "      <th>0</th>\n",
       "      <td>10524</td>\n",
       "      <td>Normal</td>\n",
       "      <td>28.0</td>\n",
       "      <td>123.0</td>\n",
       "      <td>19.0</td>\n",
       "      <td>5.79</td>\n",
       "      <td>normais</td>\n",
       "      <td>110.0</td>\n",
       "      <td>80.0</td>\n",
       "      <td>has-1 pad</td>\n",
       "      <td>normal</td>\n",
       "      <td>ausente</td>\n",
       "      <td>100.0</td>\n",
       "      <td>palpitacao</td>\n",
       "      <td>m</td>\n",
       "      <td>6 - suspeita de cardiopatia</td>\n",
       "      <td>6 - palpitação/taquicardia/arritmia</td>\n",
       "    </tr>\n",
       "    <tr>\n",
       "      <th>1</th>\n",
       "      <td>17249</td>\n",
       "      <td>Anormal</td>\n",
       "      <td>32.0</td>\n",
       "      <td>99.0</td>\n",
       "      <td>16.0</td>\n",
       "      <td>12.11</td>\n",
       "      <td>normais</td>\n",
       "      <td>100.0</td>\n",
       "      <td>60.0</td>\n",
       "      <td>não calculado</td>\n",
       "      <td>normal</td>\n",
       "      <td>sistólico</td>\n",
       "      <td>100.0</td>\n",
       "      <td>assintomático</td>\n",
       "      <td>m</td>\n",
       "      <td>5 - parecer cardiológico</td>\n",
       "      <td>nao informado</td>\n",
       "    </tr>\n",
       "    <tr>\n",
       "      <th>2</th>\n",
       "      <td>4483</td>\n",
       "      <td>Anormal</td>\n",
       "      <td>13.0</td>\n",
       "      <td>87.0</td>\n",
       "      <td>17.0</td>\n",
       "      <td>2.21</td>\n",
       "      <td>normais</td>\n",
       "      <td>90.0</td>\n",
       "      <td>50.0</td>\n",
       "      <td>não calculado</td>\n",
       "      <td>normal</td>\n",
       "      <td>sistólico</td>\n",
       "      <td>100.0</td>\n",
       "      <td>assintomático</td>\n",
       "      <td>m</td>\n",
       "      <td>6 - suspeita de cardiopatia</td>\n",
       "      <td>6 - sopro</td>\n",
       "    </tr>\n",
       "    <tr>\n",
       "      <th>3</th>\n",
       "      <td>6830</td>\n",
       "      <td>Normal</td>\n",
       "      <td>11.0</td>\n",
       "      <td>99.0</td>\n",
       "      <td>16.0</td>\n",
       "      <td>1.60</td>\n",
       "      <td>normais</td>\n",
       "      <td>90.0</td>\n",
       "      <td>50.0</td>\n",
       "      <td>não calculado</td>\n",
       "      <td>normal</td>\n",
       "      <td>ausente</td>\n",
       "      <td>100.0</td>\n",
       "      <td>assintomático</td>\n",
       "      <td>f</td>\n",
       "      <td>1 - cardiopatia já estabelecida</td>\n",
       "      <td>1 - cardiopatia congenica</td>\n",
       "    </tr>\n",
       "    <tr>\n",
       "      <th>4</th>\n",
       "      <td>11652</td>\n",
       "      <td>Normal</td>\n",
       "      <td>42.4</td>\n",
       "      <td>136.0</td>\n",
       "      <td>23.0</td>\n",
       "      <td>0.06</td>\n",
       "      <td>normais</td>\n",
       "      <td>100.0</td>\n",
       "      <td>60.0</td>\n",
       "      <td>não calculado</td>\n",
       "      <td>normal</td>\n",
       "      <td>ausente</td>\n",
       "      <td>78.0</td>\n",
       "      <td>assintomático</td>\n",
       "      <td>f</td>\n",
       "      <td>5 - parecer cardiológico</td>\n",
       "      <td>nao informado</td>\n",
       "    </tr>\n",
       "  </tbody>\n",
       "</table>\n",
       "</div>"
      ]
     },
     "execution_count": 101,
     "metadata": {},
     "output_type": "execute_result"
    }
   ],
   "execution_count": 101
  },
  {
   "metadata": {
    "ExecuteTime": {
     "end_time": "2025-01-23T18:40:30.751535Z",
     "start_time": "2025-01-23T18:40:30.741853Z"
    }
   },
   "cell_type": "code",
   "source": [
    "#removendo outliers\n",
    "def remove_outliers(df, col):\n",
    "    Q1 = df[col].quantile(0.25)\n",
    "    Q3 = df[col].quantile(0.75)\n",
    "    IQR = Q3 - Q1\n",
    "    df = df[(df[col] <= (Q3 + 1.5 * IQR)) & (df[col] >= (Q1 - 1.5 * IQR))]\n",
    "    return df"
   ],
   "id": "9c73cbcb6990aa95",
   "outputs": [],
   "execution_count": 102
  },
  {
   "metadata": {
    "ExecuteTime": {
     "end_time": "2025-01-23T18:40:30.935428Z",
     "start_time": "2025-01-23T18:40:30.877021Z"
    }
   },
   "cell_type": "code",
   "source": [
    "for col in cols_numericas:\n",
    "    data_train = remove_outliers(data_train, col)"
   ],
   "id": "e223cc9f4c29c6a5",
   "outputs": [],
   "execution_count": 103
  },
  {
   "metadata": {
    "ExecuteTime": {
     "end_time": "2025-01-23T18:40:31.104547Z",
     "start_time": "2025-01-23T18:40:31.094078Z"
    }
   },
   "cell_type": "code",
   "source": "data_train.shape",
   "id": "c9900d0e8bd3e87a",
   "outputs": [
    {
     "data": {
      "text/plain": [
       "(11398, 17)"
      ]
     },
     "execution_count": 104,
     "metadata": {},
     "output_type": "execute_result"
    }
   ],
   "execution_count": 104
  },
  {
   "metadata": {
    "ExecuteTime": {
     "end_time": "2025-01-23T18:40:31.247873Z",
     "start_time": "2025-01-23T18:40:31.204733Z"
    }
   },
   "cell_type": "code",
   "source": [
    "#transformando as colunas categoricas em dummies\n",
    "data_train = pd.get_dummies(data_train, columns=cols_categoricas)"
   ],
   "id": "c54722c09a36282a",
   "outputs": [],
   "execution_count": 105
  },
  {
   "metadata": {},
   "cell_type": "markdown",
   "source": "### testar modelos",
   "id": "288f34d559aa8f67"
  },
  {
   "metadata": {
    "ExecuteTime": {
     "end_time": "2025-01-23T18:40:31.370555Z",
     "start_time": "2025-01-23T18:40:31.365492Z"
    }
   },
   "cell_type": "code",
   "source": "",
   "id": "89490d9508f0cd58",
   "outputs": [],
   "execution_count": null
  },
  {
   "metadata": {
    "ExecuteTime": {
     "end_time": "2025-01-23T18:40:43.504467Z",
     "start_time": "2025-01-23T18:40:43.493973Z"
    }
   },
   "cell_type": "code",
   "source": [
    "#separando x_train e y_train\n",
    "x_train = data_train.drop(columns=['id', 'CLASSE'])\n",
    "y_train = data_train['CLASSE']"
   ],
   "id": "ec439cf79c2b10a2",
   "outputs": [],
   "execution_count": 106
  },
  {
   "metadata": {
    "ExecuteTime": {
     "end_time": "2025-01-23T18:40:47.481955Z",
     "start_time": "2025-01-23T18:40:47.463711Z"
    }
   },
   "cell_type": "code",
   "source": [
    "#vendo se tem algum valor nulo em x_train e y_train\n",
    "x_train.isnull().sum()"
   ],
   "id": "d3c3defab60e1af",
   "outputs": [
    {
     "data": {
      "text/plain": [
       "peso                                            0\n",
       "altura                                          0\n",
       "imc                                             0\n",
       "idade                                           0\n",
       "pa_sistolica                                    0\n",
       "                                               ..\n",
       "motivo_2_6 - has/dislipidemia/obesidade         0\n",
       "motivo_2_6 - palpitação/taquicardia/arritmia    0\n",
       "motivo_2_6 - sopro                              0\n",
       "motivo_2_nao informado                          0\n",
       "motivo_2_outro                                  0\n",
       "Length: 63, dtype: int64"
      ]
     },
     "execution_count": 107,
     "metadata": {},
     "output_type": "execute_result"
    }
   ],
   "execution_count": 107
  },
  {
   "metadata": {
    "ExecuteTime": {
     "end_time": "2025-01-23T18:42:31.809750Z",
     "start_time": "2025-01-23T18:42:31.789165Z"
    }
   },
   "cell_type": "code",
   "source": [
    "#usando dummies para as colunas categoricas de y_train\n",
    "y_train = pd.get_dummies(y_train)\n",
    "\n",
    "y_train.value_counts()"
   ],
   "id": "ce30e69954e1799f",
   "outputs": [
    {
     "data": {
      "text/plain": [
       "Anormal  Normal\n",
       "False    True      6302\n",
       "True     False     4026\n",
       "False    False     1070\n",
       "Name: count, dtype: int64"
      ]
     },
     "execution_count": 111,
     "metadata": {},
     "output_type": "execute_result"
    }
   ],
   "execution_count": 111
  },
  {
   "metadata": {
    "ExecuteTime": {
     "end_time": "2025-01-23T18:43:18.909099Z",
     "start_time": "2025-01-23T18:43:17.013290Z"
    }
   },
   "cell_type": "code",
   "source": [
    "#remover as linhas onde Normal e Anormal for false\n",
    "\n"
   ],
   "id": "ef0267eff75fea01",
   "outputs": [
    {
     "ename": "ValueError",
     "evalue": "No group keys passed!",
     "output_type": "error",
     "traceback": [
      "\u001B[1;31m---------------------------------------------------------------------------\u001B[0m",
      "\u001B[1;31mValueError\u001B[0m                                Traceback (most recent call last)",
      "Cell \u001B[1;32mIn[113], line 4\u001B[0m\n\u001B[0;32m      1\u001B[0m \u001B[38;5;66;03m#se anormal e normal for false, remove\u001B[39;00m\n\u001B[0;32m      2\u001B[0m y_train \u001B[38;5;241m=\u001B[39m y_train\u001B[38;5;241m.\u001B[39mdrop(columns\u001B[38;5;241m=\u001B[39m[\u001B[38;5;124m'\u001B[39m\u001B[38;5;124mAnormal\u001B[39m\u001B[38;5;124m'\u001B[39m, \u001B[38;5;124m'\u001B[39m\u001B[38;5;124mNormal\u001B[39m\u001B[38;5;124m'\u001B[39m])\n\u001B[1;32m----> 4\u001B[0m y_train\u001B[38;5;241m.\u001B[39mvalue_counts()\n",
      "File \u001B[1;32m~\\anaconda3\\Lib\\site-packages\\pandas\\core\\frame.py:7509\u001B[0m, in \u001B[0;36mDataFrame.value_counts\u001B[1;34m(self, subset, normalize, sort, ascending, dropna)\u001B[0m\n\u001B[0;32m   7506\u001B[0m     subset \u001B[38;5;241m=\u001B[39m \u001B[38;5;28mself\u001B[39m\u001B[38;5;241m.\u001B[39mcolumns\u001B[38;5;241m.\u001B[39mtolist()\n\u001B[0;32m   7508\u001B[0m name \u001B[38;5;241m=\u001B[39m \u001B[38;5;124m\"\u001B[39m\u001B[38;5;124mproportion\u001B[39m\u001B[38;5;124m\"\u001B[39m \u001B[38;5;28;01mif\u001B[39;00m normalize \u001B[38;5;28;01melse\u001B[39;00m \u001B[38;5;124m\"\u001B[39m\u001B[38;5;124mcount\u001B[39m\u001B[38;5;124m\"\u001B[39m\n\u001B[1;32m-> 7509\u001B[0m counts \u001B[38;5;241m=\u001B[39m \u001B[38;5;28mself\u001B[39m\u001B[38;5;241m.\u001B[39mgroupby(subset, dropna\u001B[38;5;241m=\u001B[39mdropna, observed\u001B[38;5;241m=\u001B[39m\u001B[38;5;28;01mFalse\u001B[39;00m)\u001B[38;5;241m.\u001B[39m_grouper\u001B[38;5;241m.\u001B[39msize()\n\u001B[0;32m   7510\u001B[0m counts\u001B[38;5;241m.\u001B[39mname \u001B[38;5;241m=\u001B[39m name\n\u001B[0;32m   7512\u001B[0m \u001B[38;5;28;01mif\u001B[39;00m sort:\n",
      "File \u001B[1;32m~\\anaconda3\\Lib\\site-packages\\pandas\\core\\frame.py:9183\u001B[0m, in \u001B[0;36mDataFrame.groupby\u001B[1;34m(self, by, axis, level, as_index, sort, group_keys, observed, dropna)\u001B[0m\n\u001B[0;32m   9180\u001B[0m \u001B[38;5;28;01mif\u001B[39;00m level \u001B[38;5;129;01mis\u001B[39;00m \u001B[38;5;28;01mNone\u001B[39;00m \u001B[38;5;129;01mand\u001B[39;00m by \u001B[38;5;129;01mis\u001B[39;00m \u001B[38;5;28;01mNone\u001B[39;00m:\n\u001B[0;32m   9181\u001B[0m     \u001B[38;5;28;01mraise\u001B[39;00m \u001B[38;5;167;01mTypeError\u001B[39;00m(\u001B[38;5;124m\"\u001B[39m\u001B[38;5;124mYou have to supply one of \u001B[39m\u001B[38;5;124m'\u001B[39m\u001B[38;5;124mby\u001B[39m\u001B[38;5;124m'\u001B[39m\u001B[38;5;124m and \u001B[39m\u001B[38;5;124m'\u001B[39m\u001B[38;5;124mlevel\u001B[39m\u001B[38;5;124m'\u001B[39m\u001B[38;5;124m\"\u001B[39m)\n\u001B[1;32m-> 9183\u001B[0m \u001B[38;5;28;01mreturn\u001B[39;00m DataFrameGroupBy(\n\u001B[0;32m   9184\u001B[0m     obj\u001B[38;5;241m=\u001B[39m\u001B[38;5;28mself\u001B[39m,\n\u001B[0;32m   9185\u001B[0m     keys\u001B[38;5;241m=\u001B[39mby,\n\u001B[0;32m   9186\u001B[0m     axis\u001B[38;5;241m=\u001B[39maxis,\n\u001B[0;32m   9187\u001B[0m     level\u001B[38;5;241m=\u001B[39mlevel,\n\u001B[0;32m   9188\u001B[0m     as_index\u001B[38;5;241m=\u001B[39mas_index,\n\u001B[0;32m   9189\u001B[0m     sort\u001B[38;5;241m=\u001B[39msort,\n\u001B[0;32m   9190\u001B[0m     group_keys\u001B[38;5;241m=\u001B[39mgroup_keys,\n\u001B[0;32m   9191\u001B[0m     observed\u001B[38;5;241m=\u001B[39mobserved,\n\u001B[0;32m   9192\u001B[0m     dropna\u001B[38;5;241m=\u001B[39mdropna,\n\u001B[0;32m   9193\u001B[0m )\n",
      "File \u001B[1;32m~\\anaconda3\\Lib\\site-packages\\pandas\\core\\groupby\\groupby.py:1329\u001B[0m, in \u001B[0;36mGroupBy.__init__\u001B[1;34m(self, obj, keys, axis, level, grouper, exclusions, selection, as_index, sort, group_keys, observed, dropna)\u001B[0m\n\u001B[0;32m   1326\u001B[0m \u001B[38;5;28mself\u001B[39m\u001B[38;5;241m.\u001B[39mdropna \u001B[38;5;241m=\u001B[39m dropna\n\u001B[0;32m   1328\u001B[0m \u001B[38;5;28;01mif\u001B[39;00m grouper \u001B[38;5;129;01mis\u001B[39;00m \u001B[38;5;28;01mNone\u001B[39;00m:\n\u001B[1;32m-> 1329\u001B[0m     grouper, exclusions, obj \u001B[38;5;241m=\u001B[39m get_grouper(\n\u001B[0;32m   1330\u001B[0m         obj,\n\u001B[0;32m   1331\u001B[0m         keys,\n\u001B[0;32m   1332\u001B[0m         axis\u001B[38;5;241m=\u001B[39maxis,\n\u001B[0;32m   1333\u001B[0m         level\u001B[38;5;241m=\u001B[39mlevel,\n\u001B[0;32m   1334\u001B[0m         sort\u001B[38;5;241m=\u001B[39msort,\n\u001B[0;32m   1335\u001B[0m         observed\u001B[38;5;241m=\u001B[39m\u001B[38;5;28;01mFalse\u001B[39;00m \u001B[38;5;28;01mif\u001B[39;00m observed \u001B[38;5;129;01mis\u001B[39;00m lib\u001B[38;5;241m.\u001B[39mno_default \u001B[38;5;28;01melse\u001B[39;00m observed,\n\u001B[0;32m   1336\u001B[0m         dropna\u001B[38;5;241m=\u001B[39m\u001B[38;5;28mself\u001B[39m\u001B[38;5;241m.\u001B[39mdropna,\n\u001B[0;32m   1337\u001B[0m     )\n\u001B[0;32m   1339\u001B[0m \u001B[38;5;28;01mif\u001B[39;00m observed \u001B[38;5;129;01mis\u001B[39;00m lib\u001B[38;5;241m.\u001B[39mno_default:\n\u001B[0;32m   1340\u001B[0m     \u001B[38;5;28;01mif\u001B[39;00m \u001B[38;5;28many\u001B[39m(ping\u001B[38;5;241m.\u001B[39m_passed_categorical \u001B[38;5;28;01mfor\u001B[39;00m ping \u001B[38;5;129;01min\u001B[39;00m grouper\u001B[38;5;241m.\u001B[39mgroupings):\n",
      "File \u001B[1;32m~\\anaconda3\\Lib\\site-packages\\pandas\\core\\groupby\\grouper.py:1071\u001B[0m, in \u001B[0;36mget_grouper\u001B[1;34m(obj, key, axis, level, sort, observed, validate, dropna)\u001B[0m\n\u001B[0;32m   1068\u001B[0m     groupings\u001B[38;5;241m.\u001B[39mappend(ping)\n\u001B[0;32m   1070\u001B[0m \u001B[38;5;28;01mif\u001B[39;00m \u001B[38;5;28mlen\u001B[39m(groupings) \u001B[38;5;241m==\u001B[39m \u001B[38;5;241m0\u001B[39m \u001B[38;5;129;01mand\u001B[39;00m \u001B[38;5;28mlen\u001B[39m(obj):\n\u001B[1;32m-> 1071\u001B[0m     \u001B[38;5;28;01mraise\u001B[39;00m \u001B[38;5;167;01mValueError\u001B[39;00m(\u001B[38;5;124m\"\u001B[39m\u001B[38;5;124mNo group keys passed!\u001B[39m\u001B[38;5;124m\"\u001B[39m)\n\u001B[0;32m   1072\u001B[0m \u001B[38;5;28;01mif\u001B[39;00m \u001B[38;5;28mlen\u001B[39m(groupings) \u001B[38;5;241m==\u001B[39m \u001B[38;5;241m0\u001B[39m:\n\u001B[0;32m   1073\u001B[0m     groupings\u001B[38;5;241m.\u001B[39mappend(Grouping(Index([], dtype\u001B[38;5;241m=\u001B[39m\u001B[38;5;124m\"\u001B[39m\u001B[38;5;124mint\u001B[39m\u001B[38;5;124m\"\u001B[39m), np\u001B[38;5;241m.\u001B[39marray([], dtype\u001B[38;5;241m=\u001B[39mnp\u001B[38;5;241m.\u001B[39mintp)))\n",
      "\u001B[1;31mValueError\u001B[0m: No group keys passed!"
     ]
    }
   ],
   "execution_count": 113
  }
 ],
 "metadata": {
  "kernelspec": {
   "display_name": "Python 3",
   "language": "python",
   "name": "python3"
  },
  "language_info": {
   "codemirror_mode": {
    "name": "ipython",
    "version": 2
   },
   "file_extension": ".py",
   "mimetype": "text/x-python",
   "name": "python",
   "nbconvert_exporter": "python",
   "pygments_lexer": "ipython2",
   "version": "2.7.6"
  }
 },
 "nbformat": 4,
 "nbformat_minor": 5
}
