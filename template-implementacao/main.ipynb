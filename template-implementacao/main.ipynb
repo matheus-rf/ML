{
 "cells": [
  {
   "cell_type": "markdown",
   "metadata": {},
   "source": [
    "# <center> <img src=\"figs/LogoUFSCar.jpg\" alt=\"Logo UFScar\" width=\"110\" align=\"left\"/>  <br/> <center>Universidade Federal de São Carlos (UFSCar)<br/><font size=\"4\"> Departamento de Computação, campus Sorocaba</center></font>\n",
    "</p>\n",
    "\n",
    "<font size=\"4\"><center><b>Disciplina: Aprendizado de Máquina</b></center></font>\n",
    "  \n",
    "<font size=\"3\"><center>Prof. Dr. Tiago A. Almeida</center></font>\n",
    "\n",
    "## <center>Projeto Final</center>\n",
    "\n",
    "**Nome**:\n",
    "\n",
    "**RA**: \n"
   ]
  },
  {
   "cell_type": "markdown",
   "metadata": {},
   "source": [
    "---\n",
    "### Análise exploratória\n",
    "\n",
    "Nesta seção, deve ser feita a leitura da base de dados e todas as análises necessárias para interpretar e analisar os dados, tais como:\n",
    "* Significado de cada atributo\n",
    "* Medidas descritivas\n",
    "* Gráficos"
   ]
  },
  {
   "cell_type": "code",
   "metadata": {
    "ExecuteTime": {
     "end_time": "2025-01-20T21:16:19.504688Z",
     "start_time": "2025-01-20T21:16:19.488724Z"
    }
   },
   "source": [
    "#import das bibliotecas\n",
    "import pandas as pd\n",
    "import numpy as np\n",
    "import matplotlib.pyplot as plt\n",
    "import seaborn as sns\n",
    "\n",
    "import sys\n",
    "import analise_exploratoria as ae\n",
    "from sklearn.ensemble import RandomForestRegressor\n",
    "from sklearn.impute import KNNImputer\n",
    "\n"
   ],
   "outputs": [],
   "execution_count": 121
  },
  {
   "metadata": {
    "ExecuteTime": {
     "end_time": "2025-01-20T19:36:11.416240Z",
     "start_time": "2025-01-20T19:36:11.361168Z"
    }
   },
   "cell_type": "code",
   "source": [
    "# Leitura dos dados\n",
    "data = pd.read_csv('datasets/RHP_data.csv')\n",
    "\n",
    "# Visualização dos dados\n",
    "data.head()"
   ],
   "outputs": [
    {
     "data": {
      "text/plain": [
       "   Id  Peso  Altura   IMC Atendimento        DN  IDADE Convenio   PULSOS  \\\n",
       "0   1   5.0      51  19.0    11/05/06  30/03/06   0.12       GS  Normais   \n",
       "1   2   3.5      50  14.0    25/05/05  19/05/05   0.02       GS  Normais   \n",
       "2   3   0.0       0   NaN    12/06/01  08/05/05  -4.05     SULA  Normais   \n",
       "3   4   8.1      65  19.0    15/10/09  21/04/09    0.5      NaN  Normais   \n",
       "4   5  39.5     142  20.0    23/01/09  24/10/99    9.6    Sulam  Normais   \n",
       "\n",
       "   PA SISTOLICA  PA DIASTOLICA            PPA      B2      SOPRO   FC  \\\n",
       "0           NaN            NaN  Não Calculado  Normal  Sistólico  112   \n",
       "1           NaN            NaN  Não Calculado  Normal    ausente  128   \n",
       "2           NaN            NaN  Não Calculado  Normal  Sistólico   88   \n",
       "3           NaN            NaN  Não Calculado  Normal    ausente   92   \n",
       "4          85.0           50.0         Normal  Normal    ausente   90   \n",
       "\n",
       "           HDA 1 HDA2 SEXO                      MOTIVO1  \\\n",
       "0     Palpitacao  NaN    M  6 - Suspeita de cardiopatia   \n",
       "1       Dispneia  NaN    M  6 - Suspeita de cardiopatia   \n",
       "2  Assintomático  NaN    M                 2 - Check-up   \n",
       "3  Assintomático  NaN    M     5 - Parecer cardiológico   \n",
       "4            NaN  NaN    M     5 - Parecer cardiológico   \n",
       "\n",
       "                               MOTIVO2  \n",
       "0  6 - Palpitação/taquicardia/arritmia  \n",
       "1                         6 - Dispnéia  \n",
       "2                                  NaN  \n",
       "3                                  NaN  \n",
       "4                 5 - Atividade física  "
      ],
      "text/html": [
       "<div>\n",
       "<style scoped>\n",
       "    .dataframe tbody tr th:only-of-type {\n",
       "        vertical-align: middle;\n",
       "    }\n",
       "\n",
       "    .dataframe tbody tr th {\n",
       "        vertical-align: top;\n",
       "    }\n",
       "\n",
       "    .dataframe thead th {\n",
       "        text-align: right;\n",
       "    }\n",
       "</style>\n",
       "<table border=\"1\" class=\"dataframe\">\n",
       "  <thead>\n",
       "    <tr style=\"text-align: right;\">\n",
       "      <th></th>\n",
       "      <th>Id</th>\n",
       "      <th>Peso</th>\n",
       "      <th>Altura</th>\n",
       "      <th>IMC</th>\n",
       "      <th>Atendimento</th>\n",
       "      <th>DN</th>\n",
       "      <th>IDADE</th>\n",
       "      <th>Convenio</th>\n",
       "      <th>PULSOS</th>\n",
       "      <th>PA SISTOLICA</th>\n",
       "      <th>PA DIASTOLICA</th>\n",
       "      <th>PPA</th>\n",
       "      <th>B2</th>\n",
       "      <th>SOPRO</th>\n",
       "      <th>FC</th>\n",
       "      <th>HDA 1</th>\n",
       "      <th>HDA2</th>\n",
       "      <th>SEXO</th>\n",
       "      <th>MOTIVO1</th>\n",
       "      <th>MOTIVO2</th>\n",
       "    </tr>\n",
       "  </thead>\n",
       "  <tbody>\n",
       "    <tr>\n",
       "      <th>0</th>\n",
       "      <td>1</td>\n",
       "      <td>5.0</td>\n",
       "      <td>51</td>\n",
       "      <td>19.0</td>\n",
       "      <td>11/05/06</td>\n",
       "      <td>30/03/06</td>\n",
       "      <td>0.12</td>\n",
       "      <td>GS</td>\n",
       "      <td>Normais</td>\n",
       "      <td>NaN</td>\n",
       "      <td>NaN</td>\n",
       "      <td>Não Calculado</td>\n",
       "      <td>Normal</td>\n",
       "      <td>Sistólico</td>\n",
       "      <td>112</td>\n",
       "      <td>Palpitacao</td>\n",
       "      <td>NaN</td>\n",
       "      <td>M</td>\n",
       "      <td>6 - Suspeita de cardiopatia</td>\n",
       "      <td>6 - Palpitação/taquicardia/arritmia</td>\n",
       "    </tr>\n",
       "    <tr>\n",
       "      <th>1</th>\n",
       "      <td>2</td>\n",
       "      <td>3.5</td>\n",
       "      <td>50</td>\n",
       "      <td>14.0</td>\n",
       "      <td>25/05/05</td>\n",
       "      <td>19/05/05</td>\n",
       "      <td>0.02</td>\n",
       "      <td>GS</td>\n",
       "      <td>Normais</td>\n",
       "      <td>NaN</td>\n",
       "      <td>NaN</td>\n",
       "      <td>Não Calculado</td>\n",
       "      <td>Normal</td>\n",
       "      <td>ausente</td>\n",
       "      <td>128</td>\n",
       "      <td>Dispneia</td>\n",
       "      <td>NaN</td>\n",
       "      <td>M</td>\n",
       "      <td>6 - Suspeita de cardiopatia</td>\n",
       "      <td>6 - Dispnéia</td>\n",
       "    </tr>\n",
       "    <tr>\n",
       "      <th>2</th>\n",
       "      <td>3</td>\n",
       "      <td>0.0</td>\n",
       "      <td>0</td>\n",
       "      <td>NaN</td>\n",
       "      <td>12/06/01</td>\n",
       "      <td>08/05/05</td>\n",
       "      <td>-4.05</td>\n",
       "      <td>SULA</td>\n",
       "      <td>Normais</td>\n",
       "      <td>NaN</td>\n",
       "      <td>NaN</td>\n",
       "      <td>Não Calculado</td>\n",
       "      <td>Normal</td>\n",
       "      <td>Sistólico</td>\n",
       "      <td>88</td>\n",
       "      <td>Assintomático</td>\n",
       "      <td>NaN</td>\n",
       "      <td>M</td>\n",
       "      <td>2 - Check-up</td>\n",
       "      <td>NaN</td>\n",
       "    </tr>\n",
       "    <tr>\n",
       "      <th>3</th>\n",
       "      <td>4</td>\n",
       "      <td>8.1</td>\n",
       "      <td>65</td>\n",
       "      <td>19.0</td>\n",
       "      <td>15/10/09</td>\n",
       "      <td>21/04/09</td>\n",
       "      <td>0.5</td>\n",
       "      <td>NaN</td>\n",
       "      <td>Normais</td>\n",
       "      <td>NaN</td>\n",
       "      <td>NaN</td>\n",
       "      <td>Não Calculado</td>\n",
       "      <td>Normal</td>\n",
       "      <td>ausente</td>\n",
       "      <td>92</td>\n",
       "      <td>Assintomático</td>\n",
       "      <td>NaN</td>\n",
       "      <td>M</td>\n",
       "      <td>5 - Parecer cardiológico</td>\n",
       "      <td>NaN</td>\n",
       "    </tr>\n",
       "    <tr>\n",
       "      <th>4</th>\n",
       "      <td>5</td>\n",
       "      <td>39.5</td>\n",
       "      <td>142</td>\n",
       "      <td>20.0</td>\n",
       "      <td>23/01/09</td>\n",
       "      <td>24/10/99</td>\n",
       "      <td>9.6</td>\n",
       "      <td>Sulam</td>\n",
       "      <td>Normais</td>\n",
       "      <td>85.0</td>\n",
       "      <td>50.0</td>\n",
       "      <td>Normal</td>\n",
       "      <td>Normal</td>\n",
       "      <td>ausente</td>\n",
       "      <td>90</td>\n",
       "      <td>NaN</td>\n",
       "      <td>NaN</td>\n",
       "      <td>M</td>\n",
       "      <td>5 - Parecer cardiológico</td>\n",
       "      <td>5 - Atividade física</td>\n",
       "    </tr>\n",
       "  </tbody>\n",
       "</table>\n",
       "</div>"
      ]
     },
     "execution_count": 64,
     "metadata": {},
     "output_type": "execute_result"
    }
   ],
   "execution_count": 64
  },
  {
   "metadata": {
    "ExecuteTime": {
     "end_time": "2025-01-20T18:12:28.118139Z",
     "start_time": "2025-01-20T18:12:28.099693Z"
    }
   },
   "cell_type": "code",
   "source": [
    "# Quantidade de dados nulos\n",
    "data.isnull().sum()"
   ],
   "outputs": [
    {
     "data": {
      "text/plain": [
       "Id                   0\n",
       "Peso               318\n",
       "Altura               0\n",
       "IMC               4727\n",
       "Atendimento        983\n",
       "DN                1376\n",
       "IDADE             1376\n",
       "Convenio          5304\n",
       "PULSOS            1198\n",
       "PA SISTOLICA      7730\n",
       "PA DIASTOLICA     7740\n",
       "PPA                217\n",
       "B2                1179\n",
       "SOPRO             1167\n",
       "FC                2041\n",
       "HDA 1             5414\n",
       "HDA2             17221\n",
       "SEXO                 4\n",
       "MOTIVO1           1097\n",
       "MOTIVO2           4778\n",
       "dtype: int64"
      ]
     },
     "execution_count": 3,
     "metadata": {},
     "output_type": "execute_result"
    }
   ],
   "execution_count": 3
  },
  {
   "metadata": {
    "ExecuteTime": {
     "end_time": "2025-01-20T18:12:28.203758Z",
     "start_time": "2025-01-20T18:12:28.164639Z"
    }
   },
   "cell_type": "code",
   "source": [
    "# Estatísticas descritivas\n",
    "data.describe()"
   ],
   "outputs": [
    {
     "data": {
      "text/plain": [
       "                 Id          Peso        Altura           IMC  PA SISTOLICA  \\\n",
       "count  17873.000000  17555.000000  17873.000000  13146.000000  10143.000000   \n",
       "mean    8937.000000     21.163520     83.865216     17.806329    101.314108   \n",
       "std     5159.635016     18.061021     56.583610     12.071950     15.510066   \n",
       "min        1.000000    -40.000000      0.000000      0.000000     10.000000   \n",
       "25%     4469.000000      6.600000     36.000000     15.000000     90.000000   \n",
       "50%     8937.000000     18.000000     99.000000     17.000000    100.000000   \n",
       "75%    13405.000000     31.000000    130.000000     19.000000    110.000000   \n",
       "max    17873.000000    157.000000    198.000000    848.000000    990.000000   \n",
       "\n",
       "       PA DIASTOLICA  \n",
       "count   10133.000000  \n",
       "mean       62.303661  \n",
       "std         8.885555  \n",
       "min         6.000000  \n",
       "25%        60.000000  \n",
       "50%        60.000000  \n",
       "75%        70.000000  \n",
       "max       120.000000  "
      ],
      "text/html": [
       "<div>\n",
       "<style scoped>\n",
       "    .dataframe tbody tr th:only-of-type {\n",
       "        vertical-align: middle;\n",
       "    }\n",
       "\n",
       "    .dataframe tbody tr th {\n",
       "        vertical-align: top;\n",
       "    }\n",
       "\n",
       "    .dataframe thead th {\n",
       "        text-align: right;\n",
       "    }\n",
       "</style>\n",
       "<table border=\"1\" class=\"dataframe\">\n",
       "  <thead>\n",
       "    <tr style=\"text-align: right;\">\n",
       "      <th></th>\n",
       "      <th>Id</th>\n",
       "      <th>Peso</th>\n",
       "      <th>Altura</th>\n",
       "      <th>IMC</th>\n",
       "      <th>PA SISTOLICA</th>\n",
       "      <th>PA DIASTOLICA</th>\n",
       "    </tr>\n",
       "  </thead>\n",
       "  <tbody>\n",
       "    <tr>\n",
       "      <th>count</th>\n",
       "      <td>17873.000000</td>\n",
       "      <td>17555.000000</td>\n",
       "      <td>17873.000000</td>\n",
       "      <td>13146.000000</td>\n",
       "      <td>10143.000000</td>\n",
       "      <td>10133.000000</td>\n",
       "    </tr>\n",
       "    <tr>\n",
       "      <th>mean</th>\n",
       "      <td>8937.000000</td>\n",
       "      <td>21.163520</td>\n",
       "      <td>83.865216</td>\n",
       "      <td>17.806329</td>\n",
       "      <td>101.314108</td>\n",
       "      <td>62.303661</td>\n",
       "    </tr>\n",
       "    <tr>\n",
       "      <th>std</th>\n",
       "      <td>5159.635016</td>\n",
       "      <td>18.061021</td>\n",
       "      <td>56.583610</td>\n",
       "      <td>12.071950</td>\n",
       "      <td>15.510066</td>\n",
       "      <td>8.885555</td>\n",
       "    </tr>\n",
       "    <tr>\n",
       "      <th>min</th>\n",
       "      <td>1.000000</td>\n",
       "      <td>-40.000000</td>\n",
       "      <td>0.000000</td>\n",
       "      <td>0.000000</td>\n",
       "      <td>10.000000</td>\n",
       "      <td>6.000000</td>\n",
       "    </tr>\n",
       "    <tr>\n",
       "      <th>25%</th>\n",
       "      <td>4469.000000</td>\n",
       "      <td>6.600000</td>\n",
       "      <td>36.000000</td>\n",
       "      <td>15.000000</td>\n",
       "      <td>90.000000</td>\n",
       "      <td>60.000000</td>\n",
       "    </tr>\n",
       "    <tr>\n",
       "      <th>50%</th>\n",
       "      <td>8937.000000</td>\n",
       "      <td>18.000000</td>\n",
       "      <td>99.000000</td>\n",
       "      <td>17.000000</td>\n",
       "      <td>100.000000</td>\n",
       "      <td>60.000000</td>\n",
       "    </tr>\n",
       "    <tr>\n",
       "      <th>75%</th>\n",
       "      <td>13405.000000</td>\n",
       "      <td>31.000000</td>\n",
       "      <td>130.000000</td>\n",
       "      <td>19.000000</td>\n",
       "      <td>110.000000</td>\n",
       "      <td>70.000000</td>\n",
       "    </tr>\n",
       "    <tr>\n",
       "      <th>max</th>\n",
       "      <td>17873.000000</td>\n",
       "      <td>157.000000</td>\n",
       "      <td>198.000000</td>\n",
       "      <td>848.000000</td>\n",
       "      <td>990.000000</td>\n",
       "      <td>120.000000</td>\n",
       "    </tr>\n",
       "  </tbody>\n",
       "</table>\n",
       "</div>"
      ]
     },
     "execution_count": 4,
     "metadata": {},
     "output_type": "execute_result"
    }
   ],
   "execution_count": 4
  },
  {
   "metadata": {
    "ExecuteTime": {
     "end_time": "2025-01-20T19:36:16.217385Z",
     "start_time": "2025-01-20T19:36:16.212137Z"
    }
   },
   "cell_type": "code",
   "source": [
    "# padronização dos nomes das colunas\n",
    "ae.padronizar_colunas(data)"
   ],
   "outputs": [],
   "execution_count": 65
  },
  {
   "metadata": {
    "ExecuteTime": {
     "end_time": "2025-01-20T19:10:25.427456Z",
     "start_time": "2025-01-20T19:10:25.420033Z"
    }
   },
   "cell_type": "code",
   "source": [
    "# Distribuição das classes\n",
    "cols = ['convenio','pulsos','ppa','b2', 'sexo', 'sopro', 'hda_1', 'hda_2', 'motivo_1', 'motivo_2']\n",
    "\n",
    "ae.analisar_distribuicao(data,['motivo_1', 'sexo'])\n"
   ],
   "outputs": [
    {
     "name": "stdout",
     "output_type": "stream",
     "text": [
      "Distribuição de classes na coluna 'motivo_1':\n",
      "motivo_1\n",
      "5 - Parecer cardiológico           7981\n",
      "6 - Suspeita de cardiopatia        5863\n",
      "1 - Cardiopatia já estabelecida    1428\n",
      "2 - Check-up                       1048\n",
      "7 - Outro                           456\n",
      "Name: count, dtype: int64\n",
      "\n",
      "\n",
      "Distribuição de classes na coluna 'sexo':\n",
      "sexo\n",
      "M                8930\n",
      "F                6612\n",
      "Indeterminado    1417\n",
      "Masculino         584\n",
      "Feminino          247\n",
      "masculino          79\n",
      "Name: count, dtype: int64\n",
      "\n",
      "\n"
     ]
    }
   ],
   "execution_count": 55
  },
  {
   "metadata": {},
   "cell_type": "markdown",
   "source": [
    "### Entendendo os dados\n",
    "- **ID**: Identificação do paciente\n",
    "- **Peso**: Peso do paciente\n",
    "- **Altura**: Altura do paciente\n",
    "- **IMC**: Índice de Massa Corporal\n",
    "- **Atendimento**: Data do atendimento\n",
    "- **DN**: Data de nascimento\n",
    "- **Idade**: Idade do paciente\n",
    "- **Convenio**: Convênio do paciente\n",
    "- **Pulsos**: Pulso do paciente\n",
    "- **PA Sistólica**: Pressão Arterial Sistólica\n",
    "- **PA Diastólica**: Pressão Arterial Diastólica\n",
    "- **PPA**: Pressão de Pulso Arterial\n",
    "- **B2**: \n",
    "- **Sopro**: Sopro cardíaco\n",
    "- **FC**: Frequência Cardíaca\n",
    "- **HDA 1**: História de Doença Atual 1\n",
    "- **HDA 2**: História de Doença Atual 2\n",
    "- **Sexo**: Sexo do paciente\n",
    "- **Motivo 1**: Motivo 1 da consulta\n",
    "- **Motivo 2**: Motivo 2 da consulta"
   ]
  },
  {
   "metadata": {},
   "cell_type": "markdown",
   "source": "## Removendo colunas desnecessárias"
  },
  {
   "metadata": {
    "ExecuteTime": {
     "end_time": "2025-01-20T19:36:21.766729Z",
     "start_time": "2025-01-20T19:36:21.760627Z"
    }
   },
   "cell_type": "code",
   "source": [
    "#dropar colunas que não serão utilizadas\n",
    "data.drop(columns=['atendimento', 'dn','convenio'], inplace=True)"
   ],
   "outputs": [],
   "execution_count": 66
  },
  {
   "metadata": {},
   "cell_type": "markdown",
   "source": "## tratando dados nulos das colunas numericas\n"
  },
  {
   "metadata": {
    "ExecuteTime": {
     "end_time": "2025-01-20T19:36:24.083720Z",
     "start_time": "2025-01-20T19:36:24.027237Z"
    }
   },
   "cell_type": "code",
   "source": [
    "#colunas numericas\n",
    "cols_numericas = ['peso', 'altura','idade', 'imc', 'pa_sistolica', 'pa_diastolica'] #fc tratar depois\n",
    "\n",
    "#ae.tratar_dados_nulos(data, cols_numericas) todo: implementar essa função\n",
    "\n",
    "for col in cols_numericas:\n",
    "    data[col] = data[col].apply(lambda x: 0 if x == '#VALUE!' else float(x))\n",
    "    data[col] = data[col].apply(lambda x: 0 if x < 0 else x)\n",
    "    data[col] = data[col].fillna(0)\n",
    "\n",
    "    \n",
    "data[cols_numericas].isnull().sum()"
   ],
   "outputs": [
    {
     "data": {
      "text/plain": [
       "peso             0\n",
       "altura           0\n",
       "idade            0\n",
       "imc              0\n",
       "pa_sistolica     0\n",
       "pa_diastolica    0\n",
       "dtype: int64"
      ]
     },
     "execution_count": 67,
     "metadata": {},
     "output_type": "execute_result"
    }
   ],
   "execution_count": 67
  },
  {
   "metadata": {},
   "cell_type": "code",
   "outputs": [],
   "execution_count": null,
   "source": ""
  },
  {
   "metadata": {},
   "cell_type": "markdown",
   "source": "## tratando dados nulos das colunas categoricas"
  },
  {
   "metadata": {
    "ExecuteTime": {
     "end_time": "2025-01-20T19:36:26.437852Z",
     "start_time": "2025-01-20T19:36:26.385761Z"
    }
   },
   "cell_type": "code",
   "source": [
    "## TODO: implementar essa função\n",
    "#colunas categoricas\n",
    "cols_categoricas = [ 'pulsos', 'ppa', 'b2', 'sexo', 'sopro', 'hda_1', 'hda_2', 'motivo_1', 'motivo_2']\n",
    "\n",
    "for col in cols_categoricas:\n",
    "    data[col] = data[col].replace('#VALUE!', pd.NA)\n",
    "    data[col] = data[col].fillna('Nao informado')\n",
    "    data[col] = data[col].apply(lambda x: x.lower())\n",
    "\n",
    "# em sexo, substituir 'masculino' por 'm' e 'feminino' por 'f'\n",
    "data['sexo'] = data['sexo'].replace('masculino', 'm')\n",
    "data['sexo'] = data['sexo'].replace('feminino', 'f')\n",
    "\n",
    "\n",
    "\n"
   ],
   "outputs": [],
   "execution_count": 68
  },
  {
   "metadata": {},
   "cell_type": "code",
   "outputs": [],
   "execution_count": null,
   "source": ""
  },
  {
   "metadata": {},
   "cell_type": "markdown",
   "source": ""
  },
  {
   "metadata": {},
   "cell_type": "markdown",
   "source": [
    "### limpeza dos dados\n",
    "\n",
    "- Peso"
   ]
  },
  {
   "metadata": {
    "ExecuteTime": {
     "end_time": "2025-01-20T19:36:29.475433Z",
     "start_time": "2025-01-20T19:36:29.471427Z"
    }
   },
   "cell_type": "code",
   "source": "data.shape",
   "outputs": [
    {
     "data": {
      "text/plain": [
       "(17873, 17)"
      ]
     },
     "execution_count": 69,
     "metadata": {},
     "output_type": "execute_result"
    }
   ],
   "execution_count": 69
  },
  {
   "metadata": {
    "ExecuteTime": {
     "end_time": "2025-01-20T19:36:57.506861Z",
     "start_time": "2025-01-20T19:36:57.228443Z"
    }
   },
   "cell_type": "code",
   "source": [
    "# removendo valores negativos\n",
    "data = data[data['peso'] > 0] #analisando manualmente, quando os pesos sao 0, quase sempre a altura é 0 tambem, logo, são dados invalidos\n",
    "\n",
    "#plotando um grafico para verificar a distribuição dos dados\n",
    "sns.histplot(data['peso'])"
   ],
   "outputs": [
    {
     "data": {
      "text/plain": [
       "<Axes: xlabel='peso', ylabel='Count'>"
      ]
     },
     "execution_count": 70,
     "metadata": {},
     "output_type": "execute_result"
    },
    {
     "data": {
      "text/plain": [
       "<Figure size 640x480 with 1 Axes>"
      ],
      "image/png": "[encoded data removed]"
     },
     "metadata": {},
     "output_type": "display_data"
    }
   ],
   "execution_count": 70
  },
  {
   "metadata": {
    "ExecuteTime": {
     "end_time": "2025-01-20T19:37:04.965088Z",
     "start_time": "2025-01-20T19:37:04.747652Z"
    }
   },
   "cell_type": "code",
   "source": [
    "#ainda possui outliers para valores muito altos, então vamos remover\n",
    "Q1 = data['peso'].quantile(0.25)\n",
    "Q3 = data['peso'].quantile(0.75)\n",
    "IQR = Q3 - Q1\n",
    "limite_superior = Q3 + 1.5 * IQR\n",
    "data = data[data['peso'] < limite_superior]\n",
    "\n",
    "sns.histplot(data['peso'])"
   ],
   "outputs": [
    {
     "data": {
      "text/plain": [
       "<Axes: xlabel='peso', ylabel='Count'>"
      ]
     },
     "execution_count": 71,
     "metadata": {},
     "output_type": "execute_result"
    },
    {
     "data": {
      "text/plain": [
       "<Figure size 640x480 with 1 Axes>"
      ],
      "image/png": "[encoded data removed]"
     },
     "metadata": {},
     "output_type": "display_data"
    }
   ],
   "execution_count": 71
  },
  {
   "metadata": {
    "ExecuteTime": {
     "end_time": "2025-01-20T18:30:10.686517Z",
     "start_time": "2025-01-20T18:30:10.681891Z"
    }
   },
   "cell_type": "code",
   "source": [
    "#TODO: REMOVER ESSA CELULA DPS\n",
    "data.shape"
   ],
   "outputs": [
    {
     "data": {
      "text/plain": [
       "(14447, 20)"
      ]
     },
     "execution_count": 25,
     "metadata": {},
     "output_type": "execute_result"
    }
   ],
   "execution_count": 25
  },
  {
   "metadata": {},
   "cell_type": "markdown",
   "source": "### Limpando a altura"
  },
  {
   "metadata": {
    "ExecuteTime": {
     "end_time": "2025-01-20T18:55:02.821425Z",
     "start_time": "2025-01-20T18:55:02.600588Z"
    }
   },
   "cell_type": "code",
   "source": [
    "# plotando um grafico para verificar a distribuição dos dados\n",
    "sns.histplot(data['altura'])"
   ],
   "outputs": [
    {
     "data": {
      "text/plain": [
       "<Axes: xlabel='altura', ylabel='Count'>"
      ]
     },
     "execution_count": 47,
     "metadata": {},
     "output_type": "execute_result"
    },
    {
     "data": {
      "text/plain": [
       "<Figure size 640x480 with 1 Axes>"
      ],
      "image/png": "[encoded data removed]"
     },
     "metadata": {},
     "output_type": "display_data"
    }
   ],
   "execution_count": 47
  },
  {
   "metadata": {
    "ExecuteTime": {
     "end_time": "2025-01-20T19:22:04.093595Z",
     "start_time": "2025-01-20T19:22:04.083685Z"
    }
   },
   "cell_type": "code",
   "source": [
    "#ver a quantidade de valores 0\n",
    "data[(data['altura'] == 0)].shape"
   ],
   "outputs": [
    {
     "data": {
      "text/plain": [
       "(4460, 20)"
      ]
     },
     "execution_count": 61,
     "metadata": {},
     "output_type": "execute_result"
    }
   ],
   "execution_count": 61
  },
  {
   "metadata": {},
   "cell_type": "markdown",
   "source": "### Como para preencher os dados de altura usaremos a idade, vamos limpar idade antes"
  },
  {
   "metadata": {
    "ExecuteTime": {
     "end_time": "2025-01-20T19:37:51.272013Z",
     "start_time": "2025-01-20T19:37:51.266917Z"
    }
   },
   "cell_type": "code",
   "source": "data.shape",
   "outputs": [
    {
     "data": {
      "text/plain": [
       "(14541, 17)"
      ]
     },
     "execution_count": 74,
     "metadata": {},
     "output_type": "execute_result"
    }
   ],
   "execution_count": 74
  },
  {
   "metadata": {
    "ExecuteTime": {
     "end_time": "2025-01-20T19:40:28.770704Z",
     "start_time": "2025-01-20T19:40:28.744836Z"
    }
   },
   "cell_type": "code",
   "source": [
    "#todo: implementar essa função\n",
    "# tratando idade\n",
    "#colocando valores negativos como 0\n",
    "data['idade'] = data['idade'].apply(lambda x: 0 if x < 0 else x)\n",
    "\n",
    "#removendo outliers, todo: transformar em função\n",
    "Q1 = data['idade'].quantile(0.25)\n",
    "Q3 = data['idade'].quantile(0.75)\n",
    "IQR = Q3 - Q1\n",
    "limite_superior = Q3 + 1.5 * IQR\n",
    "data = data[data['idade'] < limite_superior]\n",
    "\n",
    "#removendo valores 0\n",
    "data = data[data['idade'] > 0] #todo: talvez mudar isso, 727 dados excluidos\n",
    "\n",
    "#transformando idade em inteiro\n",
    "data['idade'] = data['idade'].apply(lambda x: int(x))"
   ],
   "outputs": [],
   "execution_count": 76
  },
  {
   "metadata": {},
   "cell_type": "markdown",
   "source": "## agora com idade tratada, vamos preencher os valores de altura"
  },
  {
   "metadata": {
    "ExecuteTime": {
     "end_time": "2025-01-20T20:42:47.238525Z",
     "start_time": "2025-01-20T20:42:45.184376Z"
    }
   },
   "cell_type": "code",
   "source": [
    "#todo: implementar essa função\n",
    "def preencher_alturas(data):\n",
    "    # Filtrar dados com altura conhecida e desconhecida\n",
    "    df_treino = data[data['altura'] > 0].copy()\n",
    "    df_teste = data[data['altura'] == 0].copy()\n",
    "    \n",
    "    # Criar variáveis dummy para 'sexo' (caso seja categórico)\n",
    "    df_treino = pd.get_dummies(df_treino, columns=['sexo'], drop_first=True)\n",
    "    df_teste = pd.get_dummies(df_teste, columns=['sexo'], drop_first=True)\n",
    "\n",
    "    # Garantir que ambos os conjuntos têm as mesmas colunas\n",
    "    df_teste = df_teste.reindex(columns=df_treino.columns, fill_value=0)\n",
    "\n",
    "    # Atualizar lista de features após dummies\n",
    "    features = [col for col in df_treino.columns if col not in ['altura']]\n",
    "\n",
    "    # Dividir dados de treino\n",
    "    X_train = df_treino[features]\n",
    "    y_train = df_treino['altura']\n",
    "\n",
    "    # Treinar modelo\n",
    "    modelo = RandomForestRegressor(n_estimators=100, random_state=42)\n",
    "    modelo.fit(X_train, y_train)\n",
    "\n",
    "    # Prever alturas ausentes\n",
    "    X_test = df_teste[features]\n",
    "    data.loc[data['altura'] == 0, 'altura'] = modelo.predict(X_test)\n",
    "\n",
    "    return data\n",
    "\n",
    "data_aux = data[[ 'altura', 'sexo', 'idade']].copy()\n",
    "data_aux = preencher_alturas(data_aux)\n",
    "\n",
    "data['altura'] = data_aux['altura']\n"
   ],
   "outputs": [
    {
     "ename": "ValueError",
     "evalue": "Found array with 0 sample(s) (shape=(0, 5)) while a minimum of 1 is required by RandomForestRegressor.",
     "output_type": "error",
     "traceback": [
      "\u001B[1;31m---------------------------------------------------------------------------\u001B[0m",
      "\u001B[1;31mValueError\u001B[0m                                Traceback (most recent call last)",
      "Cell \u001B[1;32mIn[103], line 32\u001B[0m\n\u001B[0;32m     29\u001B[0m     \u001B[38;5;28;01mreturn\u001B[39;00m data\n\u001B[0;32m     31\u001B[0m data_aux \u001B[38;5;241m=\u001B[39m data[[\u001B[38;5;124m'\u001B[39m\u001B[38;5;124mid\u001B[39m\u001B[38;5;124m'\u001B[39m, \u001B[38;5;124m'\u001B[39m\u001B[38;5;124maltura\u001B[39m\u001B[38;5;124m'\u001B[39m, \u001B[38;5;124m'\u001B[39m\u001B[38;5;124msexo\u001B[39m\u001B[38;5;124m'\u001B[39m, \u001B[38;5;124m'\u001B[39m\u001B[38;5;124midade\u001B[39m\u001B[38;5;124m'\u001B[39m]]\u001B[38;5;241m.\u001B[39mcopy()\n\u001B[1;32m---> 32\u001B[0m data_aux \u001B[38;5;241m=\u001B[39m preencher_alturas(data_aux)\n\u001B[0;32m     34\u001B[0m data[\u001B[38;5;124m'\u001B[39m\u001B[38;5;124maltura\u001B[39m\u001B[38;5;124m'\u001B[39m] \u001B[38;5;241m=\u001B[39m data_aux[\u001B[38;5;124m'\u001B[39m\u001B[38;5;124maltura\u001B[39m\u001B[38;5;124m'\u001B[39m]\n",
      "Cell \u001B[1;32mIn[103], line 27\u001B[0m, in \u001B[0;36mpreencher_alturas\u001B[1;34m(data)\u001B[0m\n\u001B[0;32m     25\u001B[0m \u001B[38;5;66;03m# Prever alturas ausentes\u001B[39;00m\n\u001B[0;32m     26\u001B[0m X_test \u001B[38;5;241m=\u001B[39m df_teste[features]\n\u001B[1;32m---> 27\u001B[0m data\u001B[38;5;241m.\u001B[39mloc[data[\u001B[38;5;124m'\u001B[39m\u001B[38;5;124maltura\u001B[39m\u001B[38;5;124m'\u001B[39m] \u001B[38;5;241m==\u001B[39m \u001B[38;5;241m0\u001B[39m, \u001B[38;5;124m'\u001B[39m\u001B[38;5;124maltura\u001B[39m\u001B[38;5;124m'\u001B[39m] \u001B[38;5;241m=\u001B[39m modelo\u001B[38;5;241m.\u001B[39mpredict(X_test)\n\u001B[0;32m     29\u001B[0m \u001B[38;5;28;01mreturn\u001B[39;00m data\n",
      "File \u001B[1;32m~\\anaconda3\\Lib\\site-packages\\sklearn\\ensemble\\_forest.py:1064\u001B[0m, in \u001B[0;36mForestRegressor.predict\u001B[1;34m(self, X)\u001B[0m\n\u001B[0;32m   1062\u001B[0m check_is_fitted(\u001B[38;5;28mself\u001B[39m)\n\u001B[0;32m   1063\u001B[0m \u001B[38;5;66;03m# Check data\u001B[39;00m\n\u001B[1;32m-> 1064\u001B[0m X \u001B[38;5;241m=\u001B[39m \u001B[38;5;28mself\u001B[39m\u001B[38;5;241m.\u001B[39m_validate_X_predict(X)\n\u001B[0;32m   1066\u001B[0m \u001B[38;5;66;03m# Assign chunk of trees to jobs\u001B[39;00m\n\u001B[0;32m   1067\u001B[0m n_jobs, _, _ \u001B[38;5;241m=\u001B[39m _partition_estimators(\u001B[38;5;28mself\u001B[39m\u001B[38;5;241m.\u001B[39mn_estimators, \u001B[38;5;28mself\u001B[39m\u001B[38;5;241m.\u001B[39mn_jobs)\n",
      "File \u001B[1;32m~\\anaconda3\\Lib\\site-packages\\sklearn\\ensemble\\_forest.py:641\u001B[0m, in \u001B[0;36mBaseForest._validate_X_predict\u001B[1;34m(self, X)\u001B[0m\n\u001B[0;32m    638\u001B[0m \u001B[38;5;28;01melse\u001B[39;00m:\n\u001B[0;32m    639\u001B[0m     force_all_finite \u001B[38;5;241m=\u001B[39m \u001B[38;5;28;01mTrue\u001B[39;00m\n\u001B[1;32m--> 641\u001B[0m X \u001B[38;5;241m=\u001B[39m \u001B[38;5;28mself\u001B[39m\u001B[38;5;241m.\u001B[39m_validate_data(\n\u001B[0;32m    642\u001B[0m     X,\n\u001B[0;32m    643\u001B[0m     dtype\u001B[38;5;241m=\u001B[39mDTYPE,\n\u001B[0;32m    644\u001B[0m     accept_sparse\u001B[38;5;241m=\u001B[39m\u001B[38;5;124m\"\u001B[39m\u001B[38;5;124mcsr\u001B[39m\u001B[38;5;124m\"\u001B[39m,\n\u001B[0;32m    645\u001B[0m     reset\u001B[38;5;241m=\u001B[39m\u001B[38;5;28;01mFalse\u001B[39;00m,\n\u001B[0;32m    646\u001B[0m     force_all_finite\u001B[38;5;241m=\u001B[39mforce_all_finite,\n\u001B[0;32m    647\u001B[0m )\n\u001B[0;32m    648\u001B[0m \u001B[38;5;28;01mif\u001B[39;00m issparse(X) \u001B[38;5;129;01mand\u001B[39;00m (X\u001B[38;5;241m.\u001B[39mindices\u001B[38;5;241m.\u001B[39mdtype \u001B[38;5;241m!=\u001B[39m np\u001B[38;5;241m.\u001B[39mintc \u001B[38;5;129;01mor\u001B[39;00m X\u001B[38;5;241m.\u001B[39mindptr\u001B[38;5;241m.\u001B[39mdtype \u001B[38;5;241m!=\u001B[39m np\u001B[38;5;241m.\u001B[39mintc):\n\u001B[0;32m    649\u001B[0m     \u001B[38;5;28;01mraise\u001B[39;00m \u001B[38;5;167;01mValueError\u001B[39;00m(\u001B[38;5;124m\"\u001B[39m\u001B[38;5;124mNo support for np.int64 index based sparse matrices\u001B[39m\u001B[38;5;124m\"\u001B[39m)\n",
      "File \u001B[1;32m~\\anaconda3\\Lib\\site-packages\\sklearn\\base.py:633\u001B[0m, in \u001B[0;36mBaseEstimator._validate_data\u001B[1;34m(self, X, y, reset, validate_separately, cast_to_ndarray, **check_params)\u001B[0m\n\u001B[0;32m    631\u001B[0m         out \u001B[38;5;241m=\u001B[39m X, y\n\u001B[0;32m    632\u001B[0m \u001B[38;5;28;01melif\u001B[39;00m \u001B[38;5;129;01mnot\u001B[39;00m no_val_X \u001B[38;5;129;01mand\u001B[39;00m no_val_y:\n\u001B[1;32m--> 633\u001B[0m     out \u001B[38;5;241m=\u001B[39m check_array(X, input_name\u001B[38;5;241m=\u001B[39m\u001B[38;5;124m\"\u001B[39m\u001B[38;5;124mX\u001B[39m\u001B[38;5;124m\"\u001B[39m, \u001B[38;5;241m*\u001B[39m\u001B[38;5;241m*\u001B[39mcheck_params)\n\u001B[0;32m    634\u001B[0m \u001B[38;5;28;01melif\u001B[39;00m no_val_X \u001B[38;5;129;01mand\u001B[39;00m \u001B[38;5;129;01mnot\u001B[39;00m no_val_y:\n\u001B[0;32m    635\u001B[0m     out \u001B[38;5;241m=\u001B[39m _check_y(y, \u001B[38;5;241m*\u001B[39m\u001B[38;5;241m*\u001B[39mcheck_params)\n",
      "File \u001B[1;32m~\\anaconda3\\Lib\\site-packages\\sklearn\\utils\\validation.py:1072\u001B[0m, in \u001B[0;36mcheck_array\u001B[1;34m(array, accept_sparse, accept_large_sparse, dtype, order, copy, force_all_finite, ensure_2d, allow_nd, ensure_min_samples, ensure_min_features, estimator, input_name)\u001B[0m\n\u001B[0;32m   1070\u001B[0m     n_samples \u001B[38;5;241m=\u001B[39m _num_samples(array)\n\u001B[0;32m   1071\u001B[0m     \u001B[38;5;28;01mif\u001B[39;00m n_samples \u001B[38;5;241m<\u001B[39m ensure_min_samples:\n\u001B[1;32m-> 1072\u001B[0m         \u001B[38;5;28;01mraise\u001B[39;00m \u001B[38;5;167;01mValueError\u001B[39;00m(\n\u001B[0;32m   1073\u001B[0m             \u001B[38;5;124m\"\u001B[39m\u001B[38;5;124mFound array with \u001B[39m\u001B[38;5;132;01m%d\u001B[39;00m\u001B[38;5;124m sample(s) (shape=\u001B[39m\u001B[38;5;132;01m%s\u001B[39;00m\u001B[38;5;124m) while a\u001B[39m\u001B[38;5;124m\"\u001B[39m\n\u001B[0;32m   1074\u001B[0m             \u001B[38;5;124m\"\u001B[39m\u001B[38;5;124m minimum of \u001B[39m\u001B[38;5;132;01m%d\u001B[39;00m\u001B[38;5;124m is required\u001B[39m\u001B[38;5;132;01m%s\u001B[39;00m\u001B[38;5;124m.\u001B[39m\u001B[38;5;124m\"\u001B[39m\n\u001B[0;32m   1075\u001B[0m             \u001B[38;5;241m%\u001B[39m (n_samples, array\u001B[38;5;241m.\u001B[39mshape, ensure_min_samples, context)\n\u001B[0;32m   1076\u001B[0m         )\n\u001B[0;32m   1078\u001B[0m \u001B[38;5;28;01mif\u001B[39;00m ensure_min_features \u001B[38;5;241m>\u001B[39m \u001B[38;5;241m0\u001B[39m \u001B[38;5;129;01mand\u001B[39;00m array\u001B[38;5;241m.\u001B[39mndim \u001B[38;5;241m==\u001B[39m \u001B[38;5;241m2\u001B[39m:\n\u001B[0;32m   1079\u001B[0m     n_features \u001B[38;5;241m=\u001B[39m array\u001B[38;5;241m.\u001B[39mshape[\u001B[38;5;241m1\u001B[39m]\n",
      "\u001B[1;31mValueError\u001B[0m: Found array with 0 sample(s) (shape=(0, 5)) while a minimum of 1 is required by RandomForestRegressor."
     ]
    }
   ],
   "execution_count": 103
  },
  {
   "metadata": {
    "ExecuteTime": {
     "end_time": "2025-01-20T20:09:18.874880Z",
     "start_time": "2025-01-20T20:09:18.639438Z"
    }
   },
   "cell_type": "code",
   "source": [
    "#plotando um grafico para verificar a distribuição dos dados\n",
    "sns.histplot(data['altura'])"
   ],
   "outputs": [
    {
     "data": {
      "text/plain": [
       "<Axes: xlabel='altura', ylabel='Count'>"
      ]
     },
     "execution_count": 86,
     "metadata": {},
     "output_type": "execute_result"
    },
    {
     "data": {
      "text/plain": [
       "<Figure size 640x480 with 1 Axes>"
      ],
      "image/png": "[encoded data removed]"
     },
     "metadata": {},
     "output_type": "display_data"
    }
   ],
   "execution_count": 86
  },
  {
   "metadata": {
    "ExecuteTime": {
     "end_time": "2025-01-20T20:12:41.235203Z",
     "start_time": "2025-01-20T20:12:41.230681Z"
    }
   },
   "cell_type": "code",
   "source": "data.shape",
   "outputs": [
    {
     "data": {
      "text/plain": [
       "(13814, 17)"
      ]
     },
     "execution_count": 91,
     "metadata": {},
     "output_type": "execute_result"
    }
   ],
   "execution_count": 91
  },
  {
   "metadata": {},
   "cell_type": "markdown",
   "source": "### Limpando IMC"
  },
  {
   "metadata": {
    "ExecuteTime": {
     "end_time": "2025-01-20T20:12:08.357428Z",
     "start_time": "2025-01-20T20:12:06.293362Z"
    }
   },
   "cell_type": "code",
   "source": [
    "#plotando um grafico para verificar a distribuição dos dados\n",
    "sns.histplot(data['imc'])"
   ],
   "outputs": [
    {
     "data": {
      "text/plain": [
       "<Axes: xlabel='imc', ylabel='Count'>"
      ]
     },
     "execution_count": 90,
     "metadata": {},
     "output_type": "execute_result"
    },
    {
     "data": {
      "text/plain": [
       "<Figure size 640x480 with 1 Axes>"
      ],
      "image/png": "[encoded data removed]"
     },
     "metadata": {},
     "output_type": "display_data"
    }
   ],
   "execution_count": 90
  },
  {
   "metadata": {
    "ExecuteTime": {
     "end_time": "2025-01-20T20:21:48.540917Z",
     "start_time": "2025-01-20T20:21:48.294681Z"
    }
   },
   "cell_type": "code",
   "source": [
    "#tranformando em 0 os valores negativos\n",
    "data['imc'] = data['imc'].apply(lambda x: 0 if x < 0 else x)\n",
    "\n",
    "#transformando outliers em 0\n",
    "Q1 = data['imc'].quantile(0.25)\n",
    "Q3 = data['imc'].quantile(0.75)\n",
    "IQR = Q3 - Q1\n",
    "limite_superior = Q3 + 1.5 * IQR\n",
    "data['imc'] = data['imc'].apply(lambda x: 0 if x > limite_superior else x)\n",
    "\n",
    "#como temos altura e peso, podemos calcular o IMC para os valores 0\n",
    "data.loc[data['imc'] == 0, 'imc'] = data['peso'] / (((data['altura'])/100) ** 2)\n",
    "\n",
    "#plotando um grafico para verificar a distribuição dos dados\n",
    "sns.histplot(data['imc'])"
   ],
   "outputs": [
    {
     "data": {
      "text/plain": [
       "<Axes: xlabel='imc', ylabel='Count'>"
      ]
     },
     "execution_count": 98,
     "metadata": {},
     "output_type": "execute_result"
    },
    {
     "data": {
      "text/plain": [
       "<Figure size 640x480 with 1 Axes>"
      ],
      "image/png": "[encoded data removed]"
     },
     "metadata": {},
     "output_type": "display_data"
    }
   ],
   "execution_count": 98
  },
  {
   "metadata": {},
   "cell_type": "markdown",
   "source": "## aparentemente existem alturas inconsistentes em relacao ao peso, vamos remover esses dados"
  },
  {
   "metadata": {
    "ExecuteTime": {
     "end_time": "2025-01-20T20:52:06.275146Z",
     "start_time": "2025-01-20T20:52:06.038845Z"
    }
   },
   "cell_type": "code",
   "source": [
    "#removendo dados com imc <10, todo: talvez mudar isso, foi excluido muitos dados, +-1700\n",
    "data = data[data['imc'] > 10]\n",
    "\n",
    "#plotando um grafico para verificar a distribuição dos dados\n",
    "sns.histplot(data['imc'])"
   ],
   "outputs": [
    {
     "data": {
      "text/plain": [
       "<Axes: xlabel='imc', ylabel='Count'>"
      ]
     },
     "execution_count": 106,
     "metadata": {},
     "output_type": "execute_result"
    },
    {
     "data": {
      "text/plain": [
       "<Figure size 640x480 with 1 Axes>"
      ],
      "image/png": "[encoded data removed]"
     },
     "metadata": {},
     "output_type": "display_data"
    }
   ],
   "execution_count": 106
  },
  {
   "metadata": {},
   "cell_type": "markdown",
   "source": "## limpando pulsos"
  },
  {
   "metadata": {
    "ExecuteTime": {
     "end_time": "2025-01-20T20:57:26.269197Z",
     "start_time": "2025-01-20T20:57:26.262948Z"
    }
   },
   "cell_type": "code",
   "outputs": [
    {
     "name": "stdout",
     "output_type": "stream",
     "text": [
      "Distribuição de classes na coluna 'pulsos':\n",
      "pulsos\n",
      "normais                11452\n",
      "nao informado            301\n",
      "amplos                    23\n",
      "outro                     21\n",
      "femorais diminuidos       21\n",
      "diminuídos                 4\n",
      "Name: count, dtype: int64\n",
      "\n",
      "\n"
     ]
    }
   ],
   "execution_count": 109,
   "source": "ae.analisar_distribuicao(data, ['pulsos'])"
  },
  {
   "metadata": {
    "ExecuteTime": {
     "end_time": "2025-01-20T20:58:30.486084Z",
     "start_time": "2025-01-20T20:58:30.476941Z"
    }
   },
   "cell_type": "code",
   "outputs": [],
   "execution_count": 110,
   "source": [
    "#como são poucos dados como não informado, vamos remover\n",
    "data = data[data['pulsos'] != 'nao informado']"
   ]
  },
  {
   "metadata": {},
   "cell_type": "markdown",
   "source": "## utilizando o knn para preencher os valores faltantes das demais colunas"
  },
  {
   "metadata": {
    "ExecuteTime": {
     "end_time": "2025-01-20T21:26:20.054492Z",
     "start_time": "2025-01-20T21:26:18.724269Z"
    }
   },
   "cell_type": "code",
   "source": [
    "\n",
    "\n",
    "def preencher_valores_nulos_knn(data, k=3):\n",
    "    # Selecionar colunas que têm valores consistentes e que serão usadas para imputação\n",
    "    cols_consistentes = ['id', 'peso', 'altura', 'imc', 'idade', 'sexo', 'pulsos']\n",
    "    cols_imputar = ['pa_sistolica', 'pa_diastolica', 'ppa', 'b2', 'sopro', 'fc']\n",
    "    cols_categ = ['hda_1', 'hda_2', 'motivo_1', 'motivo_2']\n",
    "\n",
    "    # Criar uma cópia do DataFrame para não modificar o original\n",
    "    data_copy = data.copy()\n",
    "\n",
    "    # Transformar colunas categóricas em variáveis dummy\n",
    "    data_copy = pd.get_dummies(data_copy, columns=cols_categ, drop_first=True)\n",
    "\n",
    "    # Combinar colunas consistentes e colunas a serem imputadas\n",
    "    all_cols = cols_consistentes + cols_imputar + [col for col in data_copy.columns if col not in cols_consistentes + cols_imputar]\n",
    "\n",
    "    data_combined = data_copy[all_cols]\n",
    "\n",
    "    # Inicializar o KNN Imputer com k=3\n",
    "    imputer = KNNImputer(n_neighbors=k)\n",
    "\n",
    "    # Imputar os valores nulos\n",
    "    data_imputed = pd.DataFrame(imputer.fit_transform(data_combined), columns=all_cols)\n",
    "\n",
    "    # Atualizar o DataFrame original com os valores imputados\n",
    "    data_copy.update(data_imputed)\n",
    "\n",
    "    return data_copy\n",
    "\n",
    "# Exemplo de uso:\n",
    "data_aux = preencher_valores_nulos_knn(data, k=3)\n"
   ],
   "outputs": [
    {
     "ename": "ValueError",
     "evalue": "could not convert string to float: 'm'",
     "output_type": "error",
     "traceback": [
      "\u001B[1;31m---------------------------------------------------------------------------\u001B[0m",
      "\u001B[1;31mValueError\u001B[0m                                Traceback (most recent call last)",
      "Cell \u001B[1;32mIn[127], line 30\u001B[0m\n\u001B[0;32m     27\u001B[0m     \u001B[38;5;28;01mreturn\u001B[39;00m data_copy\n\u001B[0;32m     29\u001B[0m \u001B[38;5;66;03m# Exemplo de uso:\u001B[39;00m\n\u001B[1;32m---> 30\u001B[0m data_aux \u001B[38;5;241m=\u001B[39m preencher_valores_nulos_knn(data, k\u001B[38;5;241m=\u001B[39m\u001B[38;5;241m3\u001B[39m)\n",
      "Cell \u001B[1;32mIn[127], line 22\u001B[0m, in \u001B[0;36mpreencher_valores_nulos_knn\u001B[1;34m(data, k)\u001B[0m\n\u001B[0;32m     19\u001B[0m imputer \u001B[38;5;241m=\u001B[39m KNNImputer(n_neighbors\u001B[38;5;241m=\u001B[39mk)\n\u001B[0;32m     21\u001B[0m \u001B[38;5;66;03m# Imputar os valores nulos\u001B[39;00m\n\u001B[1;32m---> 22\u001B[0m data_imputed \u001B[38;5;241m=\u001B[39m pd\u001B[38;5;241m.\u001B[39mDataFrame(imputer\u001B[38;5;241m.\u001B[39mfit_transform(data_combined), columns\u001B[38;5;241m=\u001B[39mall_cols)\n\u001B[0;32m     24\u001B[0m \u001B[38;5;66;03m# Atualizar o DataFrame original com os valores imputados\u001B[39;00m\n\u001B[0;32m     25\u001B[0m data_copy\u001B[38;5;241m.\u001B[39mupdate(data_imputed)\n",
      "File \u001B[1;32m~\\anaconda3\\Lib\\site-packages\\sklearn\\utils\\_set_output.py:295\u001B[0m, in \u001B[0;36m_wrap_method_output.<locals>.wrapped\u001B[1;34m(self, X, *args, **kwargs)\u001B[0m\n\u001B[0;32m    293\u001B[0m \u001B[38;5;129m@wraps\u001B[39m(f)\n\u001B[0;32m    294\u001B[0m \u001B[38;5;28;01mdef\u001B[39;00m \u001B[38;5;21mwrapped\u001B[39m(\u001B[38;5;28mself\u001B[39m, X, \u001B[38;5;241m*\u001B[39margs, \u001B[38;5;241m*\u001B[39m\u001B[38;5;241m*\u001B[39mkwargs):\n\u001B[1;32m--> 295\u001B[0m     data_to_wrap \u001B[38;5;241m=\u001B[39m f(\u001B[38;5;28mself\u001B[39m, X, \u001B[38;5;241m*\u001B[39margs, \u001B[38;5;241m*\u001B[39m\u001B[38;5;241m*\u001B[39mkwargs)\n\u001B[0;32m    296\u001B[0m     \u001B[38;5;28;01mif\u001B[39;00m \u001B[38;5;28misinstance\u001B[39m(data_to_wrap, \u001B[38;5;28mtuple\u001B[39m):\n\u001B[0;32m    297\u001B[0m         \u001B[38;5;66;03m# only wrap the first output for cross decomposition\u001B[39;00m\n\u001B[0;32m    298\u001B[0m         return_tuple \u001B[38;5;241m=\u001B[39m (\n\u001B[0;32m    299\u001B[0m             _wrap_data_with_container(method, data_to_wrap[\u001B[38;5;241m0\u001B[39m], X, \u001B[38;5;28mself\u001B[39m),\n\u001B[0;32m    300\u001B[0m             \u001B[38;5;241m*\u001B[39mdata_to_wrap[\u001B[38;5;241m1\u001B[39m:],\n\u001B[0;32m    301\u001B[0m         )\n",
      "File \u001B[1;32m~\\anaconda3\\Lib\\site-packages\\sklearn\\base.py:1098\u001B[0m, in \u001B[0;36mTransformerMixin.fit_transform\u001B[1;34m(self, X, y, **fit_params)\u001B[0m\n\u001B[0;32m   1083\u001B[0m         warnings\u001B[38;5;241m.\u001B[39mwarn(\n\u001B[0;32m   1084\u001B[0m             (\n\u001B[0;32m   1085\u001B[0m                 \u001B[38;5;124mf\u001B[39m\u001B[38;5;124m\"\u001B[39m\u001B[38;5;124mThis object (\u001B[39m\u001B[38;5;132;01m{\u001B[39;00m\u001B[38;5;28mself\u001B[39m\u001B[38;5;241m.\u001B[39m\u001B[38;5;18m__class__\u001B[39m\u001B[38;5;241m.\u001B[39m\u001B[38;5;18m__name__\u001B[39m\u001B[38;5;132;01m}\u001B[39;00m\u001B[38;5;124m) has a `transform`\u001B[39m\u001B[38;5;124m\"\u001B[39m\n\u001B[1;32m   (...)\u001B[0m\n\u001B[0;32m   1093\u001B[0m             \u001B[38;5;167;01mUserWarning\u001B[39;00m,\n\u001B[0;32m   1094\u001B[0m         )\n\u001B[0;32m   1096\u001B[0m \u001B[38;5;28;01mif\u001B[39;00m y \u001B[38;5;129;01mis\u001B[39;00m \u001B[38;5;28;01mNone\u001B[39;00m:\n\u001B[0;32m   1097\u001B[0m     \u001B[38;5;66;03m# fit method of arity 1 (unsupervised transformation)\u001B[39;00m\n\u001B[1;32m-> 1098\u001B[0m     \u001B[38;5;28;01mreturn\u001B[39;00m \u001B[38;5;28mself\u001B[39m\u001B[38;5;241m.\u001B[39mfit(X, \u001B[38;5;241m*\u001B[39m\u001B[38;5;241m*\u001B[39mfit_params)\u001B[38;5;241m.\u001B[39mtransform(X)\n\u001B[0;32m   1099\u001B[0m \u001B[38;5;28;01melse\u001B[39;00m:\n\u001B[0;32m   1100\u001B[0m     \u001B[38;5;66;03m# fit method of arity 2 (supervised transformation)\u001B[39;00m\n\u001B[0;32m   1101\u001B[0m     \u001B[38;5;28;01mreturn\u001B[39;00m \u001B[38;5;28mself\u001B[39m\u001B[38;5;241m.\u001B[39mfit(X, y, \u001B[38;5;241m*\u001B[39m\u001B[38;5;241m*\u001B[39mfit_params)\u001B[38;5;241m.\u001B[39mtransform(X)\n",
      "File \u001B[1;32m~\\anaconda3\\Lib\\site-packages\\sklearn\\base.py:1474\u001B[0m, in \u001B[0;36m_fit_context.<locals>.decorator.<locals>.wrapper\u001B[1;34m(estimator, *args, **kwargs)\u001B[0m\n\u001B[0;32m   1467\u001B[0m     estimator\u001B[38;5;241m.\u001B[39m_validate_params()\n\u001B[0;32m   1469\u001B[0m \u001B[38;5;28;01mwith\u001B[39;00m config_context(\n\u001B[0;32m   1470\u001B[0m     skip_parameter_validation\u001B[38;5;241m=\u001B[39m(\n\u001B[0;32m   1471\u001B[0m         prefer_skip_nested_validation \u001B[38;5;129;01mor\u001B[39;00m global_skip_validation\n\u001B[0;32m   1472\u001B[0m     )\n\u001B[0;32m   1473\u001B[0m ):\n\u001B[1;32m-> 1474\u001B[0m     \u001B[38;5;28;01mreturn\u001B[39;00m fit_method(estimator, \u001B[38;5;241m*\u001B[39margs, \u001B[38;5;241m*\u001B[39m\u001B[38;5;241m*\u001B[39mkwargs)\n",
      "File \u001B[1;32m~\\anaconda3\\Lib\\site-packages\\sklearn\\impute\\_knn.py:230\u001B[0m, in \u001B[0;36mKNNImputer.fit\u001B[1;34m(self, X, y)\u001B[0m\n\u001B[0;32m    227\u001B[0m \u001B[38;5;28;01melse\u001B[39;00m:\n\u001B[0;32m    228\u001B[0m     force_all_finite \u001B[38;5;241m=\u001B[39m \u001B[38;5;124m\"\u001B[39m\u001B[38;5;124mallow-nan\u001B[39m\u001B[38;5;124m\"\u001B[39m\n\u001B[1;32m--> 230\u001B[0m X \u001B[38;5;241m=\u001B[39m \u001B[38;5;28mself\u001B[39m\u001B[38;5;241m.\u001B[39m_validate_data(\n\u001B[0;32m    231\u001B[0m     X,\n\u001B[0;32m    232\u001B[0m     accept_sparse\u001B[38;5;241m=\u001B[39m\u001B[38;5;28;01mFalse\u001B[39;00m,\n\u001B[0;32m    233\u001B[0m     dtype\u001B[38;5;241m=\u001B[39mFLOAT_DTYPES,\n\u001B[0;32m    234\u001B[0m     force_all_finite\u001B[38;5;241m=\u001B[39mforce_all_finite,\n\u001B[0;32m    235\u001B[0m     copy\u001B[38;5;241m=\u001B[39m\u001B[38;5;28mself\u001B[39m\u001B[38;5;241m.\u001B[39mcopy,\n\u001B[0;32m    236\u001B[0m )\n\u001B[0;32m    238\u001B[0m \u001B[38;5;28mself\u001B[39m\u001B[38;5;241m.\u001B[39m_fit_X \u001B[38;5;241m=\u001B[39m X\n\u001B[0;32m    239\u001B[0m \u001B[38;5;28mself\u001B[39m\u001B[38;5;241m.\u001B[39m_mask_fit_X \u001B[38;5;241m=\u001B[39m _get_mask(\u001B[38;5;28mself\u001B[39m\u001B[38;5;241m.\u001B[39m_fit_X, \u001B[38;5;28mself\u001B[39m\u001B[38;5;241m.\u001B[39mmissing_values)\n",
      "File \u001B[1;32m~\\anaconda3\\Lib\\site-packages\\sklearn\\base.py:633\u001B[0m, in \u001B[0;36mBaseEstimator._validate_data\u001B[1;34m(self, X, y, reset, validate_separately, cast_to_ndarray, **check_params)\u001B[0m\n\u001B[0;32m    631\u001B[0m         out \u001B[38;5;241m=\u001B[39m X, y\n\u001B[0;32m    632\u001B[0m \u001B[38;5;28;01melif\u001B[39;00m \u001B[38;5;129;01mnot\u001B[39;00m no_val_X \u001B[38;5;129;01mand\u001B[39;00m no_val_y:\n\u001B[1;32m--> 633\u001B[0m     out \u001B[38;5;241m=\u001B[39m check_array(X, input_name\u001B[38;5;241m=\u001B[39m\u001B[38;5;124m\"\u001B[39m\u001B[38;5;124mX\u001B[39m\u001B[38;5;124m\"\u001B[39m, \u001B[38;5;241m*\u001B[39m\u001B[38;5;241m*\u001B[39mcheck_params)\n\u001B[0;32m    634\u001B[0m \u001B[38;5;28;01melif\u001B[39;00m no_val_X \u001B[38;5;129;01mand\u001B[39;00m \u001B[38;5;129;01mnot\u001B[39;00m no_val_y:\n\u001B[0;32m    635\u001B[0m     out \u001B[38;5;241m=\u001B[39m _check_y(y, \u001B[38;5;241m*\u001B[39m\u001B[38;5;241m*\u001B[39mcheck_params)\n",
      "File \u001B[1;32m~\\anaconda3\\Lib\\site-packages\\sklearn\\utils\\validation.py:921\u001B[0m, in \u001B[0;36mcheck_array\u001B[1;34m(array, accept_sparse, accept_large_sparse, dtype, order, copy, force_all_finite, ensure_2d, allow_nd, ensure_min_samples, ensure_min_features, estimator, input_name)\u001B[0m\n\u001B[0;32m    916\u001B[0m \u001B[38;5;28;01mif\u001B[39;00m pandas_requires_conversion:\n\u001B[0;32m    917\u001B[0m     \u001B[38;5;66;03m# pandas dataframe requires conversion earlier to handle extension dtypes with\u001B[39;00m\n\u001B[0;32m    918\u001B[0m     \u001B[38;5;66;03m# nans\u001B[39;00m\n\u001B[0;32m    919\u001B[0m     \u001B[38;5;66;03m# Use the original dtype for conversion if dtype is None\u001B[39;00m\n\u001B[0;32m    920\u001B[0m     new_dtype \u001B[38;5;241m=\u001B[39m dtype_orig \u001B[38;5;28;01mif\u001B[39;00m dtype \u001B[38;5;129;01mis\u001B[39;00m \u001B[38;5;28;01mNone\u001B[39;00m \u001B[38;5;28;01melse\u001B[39;00m dtype\n\u001B[1;32m--> 921\u001B[0m     array \u001B[38;5;241m=\u001B[39m array\u001B[38;5;241m.\u001B[39mastype(new_dtype)\n\u001B[0;32m    922\u001B[0m     \u001B[38;5;66;03m# Since we converted here, we do not need to convert again later\u001B[39;00m\n\u001B[0;32m    923\u001B[0m     dtype \u001B[38;5;241m=\u001B[39m \u001B[38;5;28;01mNone\u001B[39;00m\n",
      "File \u001B[1;32m~\\anaconda3\\Lib\\site-packages\\pandas\\core\\generic.py:6643\u001B[0m, in \u001B[0;36mNDFrame.astype\u001B[1;34m(self, dtype, copy, errors)\u001B[0m\n\u001B[0;32m   6637\u001B[0m     results \u001B[38;5;241m=\u001B[39m [\n\u001B[0;32m   6638\u001B[0m         ser\u001B[38;5;241m.\u001B[39mastype(dtype, copy\u001B[38;5;241m=\u001B[39mcopy, errors\u001B[38;5;241m=\u001B[39merrors) \u001B[38;5;28;01mfor\u001B[39;00m _, ser \u001B[38;5;129;01min\u001B[39;00m \u001B[38;5;28mself\u001B[39m\u001B[38;5;241m.\u001B[39mitems()\n\u001B[0;32m   6639\u001B[0m     ]\n\u001B[0;32m   6641\u001B[0m \u001B[38;5;28;01melse\u001B[39;00m:\n\u001B[0;32m   6642\u001B[0m     \u001B[38;5;66;03m# else, only a single dtype is given\u001B[39;00m\n\u001B[1;32m-> 6643\u001B[0m     new_data \u001B[38;5;241m=\u001B[39m \u001B[38;5;28mself\u001B[39m\u001B[38;5;241m.\u001B[39m_mgr\u001B[38;5;241m.\u001B[39mastype(dtype\u001B[38;5;241m=\u001B[39mdtype, copy\u001B[38;5;241m=\u001B[39mcopy, errors\u001B[38;5;241m=\u001B[39merrors)\n\u001B[0;32m   6644\u001B[0m     res \u001B[38;5;241m=\u001B[39m \u001B[38;5;28mself\u001B[39m\u001B[38;5;241m.\u001B[39m_constructor_from_mgr(new_data, axes\u001B[38;5;241m=\u001B[39mnew_data\u001B[38;5;241m.\u001B[39maxes)\n\u001B[0;32m   6645\u001B[0m     \u001B[38;5;28;01mreturn\u001B[39;00m res\u001B[38;5;241m.\u001B[39m__finalize__(\u001B[38;5;28mself\u001B[39m, method\u001B[38;5;241m=\u001B[39m\u001B[38;5;124m\"\u001B[39m\u001B[38;5;124mastype\u001B[39m\u001B[38;5;124m\"\u001B[39m)\n",
      "File \u001B[1;32m~\\anaconda3\\Lib\\site-packages\\pandas\\core\\internals\\managers.py:430\u001B[0m, in \u001B[0;36mBaseBlockManager.astype\u001B[1;34m(self, dtype, copy, errors)\u001B[0m\n\u001B[0;32m    427\u001B[0m \u001B[38;5;28;01melif\u001B[39;00m using_copy_on_write():\n\u001B[0;32m    428\u001B[0m     copy \u001B[38;5;241m=\u001B[39m \u001B[38;5;28;01mFalse\u001B[39;00m\n\u001B[1;32m--> 430\u001B[0m \u001B[38;5;28;01mreturn\u001B[39;00m \u001B[38;5;28mself\u001B[39m\u001B[38;5;241m.\u001B[39mapply(\n\u001B[0;32m    431\u001B[0m     \u001B[38;5;124m\"\u001B[39m\u001B[38;5;124mastype\u001B[39m\u001B[38;5;124m\"\u001B[39m,\n\u001B[0;32m    432\u001B[0m     dtype\u001B[38;5;241m=\u001B[39mdtype,\n\u001B[0;32m    433\u001B[0m     copy\u001B[38;5;241m=\u001B[39mcopy,\n\u001B[0;32m    434\u001B[0m     errors\u001B[38;5;241m=\u001B[39merrors,\n\u001B[0;32m    435\u001B[0m     using_cow\u001B[38;5;241m=\u001B[39musing_copy_on_write(),\n\u001B[0;32m    436\u001B[0m )\n",
      "File \u001B[1;32m~\\anaconda3\\Lib\\site-packages\\pandas\\core\\internals\\managers.py:363\u001B[0m, in \u001B[0;36mBaseBlockManager.apply\u001B[1;34m(self, f, align_keys, **kwargs)\u001B[0m\n\u001B[0;32m    361\u001B[0m         applied \u001B[38;5;241m=\u001B[39m b\u001B[38;5;241m.\u001B[39mapply(f, \u001B[38;5;241m*\u001B[39m\u001B[38;5;241m*\u001B[39mkwargs)\n\u001B[0;32m    362\u001B[0m     \u001B[38;5;28;01melse\u001B[39;00m:\n\u001B[1;32m--> 363\u001B[0m         applied \u001B[38;5;241m=\u001B[39m \u001B[38;5;28mgetattr\u001B[39m(b, f)(\u001B[38;5;241m*\u001B[39m\u001B[38;5;241m*\u001B[39mkwargs)\n\u001B[0;32m    364\u001B[0m     result_blocks \u001B[38;5;241m=\u001B[39m extend_blocks(applied, result_blocks)\n\u001B[0;32m    366\u001B[0m out \u001B[38;5;241m=\u001B[39m \u001B[38;5;28mtype\u001B[39m(\u001B[38;5;28mself\u001B[39m)\u001B[38;5;241m.\u001B[39mfrom_blocks(result_blocks, \u001B[38;5;28mself\u001B[39m\u001B[38;5;241m.\u001B[39maxes)\n",
      "File \u001B[1;32m~\\anaconda3\\Lib\\site-packages\\pandas\\core\\internals\\blocks.py:758\u001B[0m, in \u001B[0;36mBlock.astype\u001B[1;34m(self, dtype, copy, errors, using_cow, squeeze)\u001B[0m\n\u001B[0;32m    755\u001B[0m         \u001B[38;5;28;01mraise\u001B[39;00m \u001B[38;5;167;01mValueError\u001B[39;00m(\u001B[38;5;124m\"\u001B[39m\u001B[38;5;124mCan not squeeze with more than one column.\u001B[39m\u001B[38;5;124m\"\u001B[39m)\n\u001B[0;32m    756\u001B[0m     values \u001B[38;5;241m=\u001B[39m values[\u001B[38;5;241m0\u001B[39m, :]  \u001B[38;5;66;03m# type: ignore[call-overload]\u001B[39;00m\n\u001B[1;32m--> 758\u001B[0m new_values \u001B[38;5;241m=\u001B[39m astype_array_safe(values, dtype, copy\u001B[38;5;241m=\u001B[39mcopy, errors\u001B[38;5;241m=\u001B[39merrors)\n\u001B[0;32m    760\u001B[0m new_values \u001B[38;5;241m=\u001B[39m maybe_coerce_values(new_values)\n\u001B[0;32m    762\u001B[0m refs \u001B[38;5;241m=\u001B[39m \u001B[38;5;28;01mNone\u001B[39;00m\n",
      "File \u001B[1;32m~\\anaconda3\\Lib\\site-packages\\pandas\\core\\dtypes\\astype.py:237\u001B[0m, in \u001B[0;36mastype_array_safe\u001B[1;34m(values, dtype, copy, errors)\u001B[0m\n\u001B[0;32m    234\u001B[0m     dtype \u001B[38;5;241m=\u001B[39m dtype\u001B[38;5;241m.\u001B[39mnumpy_dtype\n\u001B[0;32m    236\u001B[0m \u001B[38;5;28;01mtry\u001B[39;00m:\n\u001B[1;32m--> 237\u001B[0m     new_values \u001B[38;5;241m=\u001B[39m astype_array(values, dtype, copy\u001B[38;5;241m=\u001B[39mcopy)\n\u001B[0;32m    238\u001B[0m \u001B[38;5;28;01mexcept\u001B[39;00m (\u001B[38;5;167;01mValueError\u001B[39;00m, \u001B[38;5;167;01mTypeError\u001B[39;00m):\n\u001B[0;32m    239\u001B[0m     \u001B[38;5;66;03m# e.g. _astype_nansafe can fail on object-dtype of strings\u001B[39;00m\n\u001B[0;32m    240\u001B[0m     \u001B[38;5;66;03m#  trying to convert to float\u001B[39;00m\n\u001B[0;32m    241\u001B[0m     \u001B[38;5;28;01mif\u001B[39;00m errors \u001B[38;5;241m==\u001B[39m \u001B[38;5;124m\"\u001B[39m\u001B[38;5;124mignore\u001B[39m\u001B[38;5;124m\"\u001B[39m:\n",
      "File \u001B[1;32m~\\anaconda3\\Lib\\site-packages\\pandas\\core\\dtypes\\astype.py:182\u001B[0m, in \u001B[0;36mastype_array\u001B[1;34m(values, dtype, copy)\u001B[0m\n\u001B[0;32m    179\u001B[0m     values \u001B[38;5;241m=\u001B[39m values\u001B[38;5;241m.\u001B[39mastype(dtype, copy\u001B[38;5;241m=\u001B[39mcopy)\n\u001B[0;32m    181\u001B[0m \u001B[38;5;28;01melse\u001B[39;00m:\n\u001B[1;32m--> 182\u001B[0m     values \u001B[38;5;241m=\u001B[39m _astype_nansafe(values, dtype, copy\u001B[38;5;241m=\u001B[39mcopy)\n\u001B[0;32m    184\u001B[0m \u001B[38;5;66;03m# in pandas we don't store numpy str dtypes, so convert to object\u001B[39;00m\n\u001B[0;32m    185\u001B[0m \u001B[38;5;28;01mif\u001B[39;00m \u001B[38;5;28misinstance\u001B[39m(dtype, np\u001B[38;5;241m.\u001B[39mdtype) \u001B[38;5;129;01mand\u001B[39;00m \u001B[38;5;28missubclass\u001B[39m(values\u001B[38;5;241m.\u001B[39mdtype\u001B[38;5;241m.\u001B[39mtype, \u001B[38;5;28mstr\u001B[39m):\n",
      "File \u001B[1;32m~\\anaconda3\\Lib\\site-packages\\pandas\\core\\dtypes\\astype.py:133\u001B[0m, in \u001B[0;36m_astype_nansafe\u001B[1;34m(arr, dtype, copy, skipna)\u001B[0m\n\u001B[0;32m    129\u001B[0m     \u001B[38;5;28;01mraise\u001B[39;00m \u001B[38;5;167;01mValueError\u001B[39;00m(msg)\n\u001B[0;32m    131\u001B[0m \u001B[38;5;28;01mif\u001B[39;00m copy \u001B[38;5;129;01mor\u001B[39;00m arr\u001B[38;5;241m.\u001B[39mdtype \u001B[38;5;241m==\u001B[39m \u001B[38;5;28mobject\u001B[39m \u001B[38;5;129;01mor\u001B[39;00m dtype \u001B[38;5;241m==\u001B[39m \u001B[38;5;28mobject\u001B[39m:\n\u001B[0;32m    132\u001B[0m     \u001B[38;5;66;03m# Explicit copy, or required since NumPy can't view from / to object.\u001B[39;00m\n\u001B[1;32m--> 133\u001B[0m     \u001B[38;5;28;01mreturn\u001B[39;00m arr\u001B[38;5;241m.\u001B[39mastype(dtype, copy\u001B[38;5;241m=\u001B[39m\u001B[38;5;28;01mTrue\u001B[39;00m)\n\u001B[0;32m    135\u001B[0m \u001B[38;5;28;01mreturn\u001B[39;00m arr\u001B[38;5;241m.\u001B[39mastype(dtype, copy\u001B[38;5;241m=\u001B[39mcopy)\n",
      "\u001B[1;31mValueError\u001B[0m: could not convert string to float: 'm'"
     ]
    }
   ],
   "execution_count": 127
  },
  {
   "metadata": {
    "ExecuteTime": {
     "end_time": "2025-01-20T21:15:57.423215Z",
     "start_time": "2025-01-20T21:15:57.404991Z"
    }
   },
   "cell_type": "code",
   "source": [
    "#plotando graficos com sns para verificar a distribuição dos dados\n",
    "for col in colunas_nulas:\n",
    "    sns.histplot(df_filled[col])\n",
    "    plt.title(col)\n",
    "    plt.show()\n",
    "\n"
   ],
   "outputs": [
    {
     "ename": "NameError",
     "evalue": "name 'colunas_nulas' is not defined",
     "output_type": "error",
     "traceback": [
      "\u001B[1;31m---------------------------------------------------------------------------\u001B[0m",
      "\u001B[1;31mNameError\u001B[0m                                 Traceback (most recent call last)",
      "Cell \u001B[1;32mIn[119], line 2\u001B[0m\n\u001B[0;32m      1\u001B[0m \u001B[38;5;66;03m#plotando graficos com sns para verificar a distribuição dos dados\u001B[39;00m\n\u001B[1;32m----> 2\u001B[0m \u001B[38;5;28;01mfor\u001B[39;00m col \u001B[38;5;129;01min\u001B[39;00m colunas_nulas:\n\u001B[0;32m      3\u001B[0m     sns\u001B[38;5;241m.\u001B[39mhistplot(df_filled[col])\n\u001B[0;32m      4\u001B[0m     plt\u001B[38;5;241m.\u001B[39mtitle(col)\n",
      "\u001B[1;31mNameError\u001B[0m: name 'colunas_nulas' is not defined"
     ]
    }
   ],
   "execution_count": 119
  },
  {
   "cell_type": "markdown",
   "metadata": {},
   "source": [
    "---\n",
    "### Pré-processamento\n",
    "\n",
    "Nesta seção, as funções da etapa de pré-processamento dos dados devem ser implementadas e aplicadas (se necessário)."
   ]
  },
  {
   "cell_type": "code",
   "metadata": {
    "ExecuteTime": {
     "end_time": "2025-01-20T18:12:29.100354Z",
     "start_time": "2025-01-20T18:12:29.097190Z"
    }
   },
   "source": [],
   "outputs": [],
   "execution_count": null
  },
  {
   "cell_type": "markdown",
   "metadata": {},
   "source": [
    "---\n",
    "### Experimento\n",
    "\n",
    "Nesta seção, o experimento deve ser conduzido, utilizando os protocolos experimentais padrões e testando diferentes modelos."
   ]
  },
  {
   "cell_type": "code",
   "metadata": {
    "ExecuteTime": {
     "end_time": "2025-01-20T18:12:29.314734Z",
     "start_time": "2025-01-20T18:12:29.312095Z"
    }
   },
   "source": [],
   "outputs": [],
   "execution_count": null
  },
  {
   "cell_type": "markdown",
   "metadata": {},
   "source": [
    "---\n",
    "### Análise dos Resultados\n",
    "\n",
    "Nesta seção, os resultados devem ser exibidos através de tabelas e gráficos, comparados e profundamente analisados."
   ]
  },
  {
   "cell_type": "code",
   "metadata": {
    "ExecuteTime": {
     "end_time": "2025-01-20T18:12:29.446877Z",
     "start_time": "2025-01-20T18:12:29.443583Z"
    }
   },
   "source": [],
   "outputs": [],
   "execution_count": null
  }
 ],
 "metadata": {
  "kernelspec": {
   "display_name": "Python 3 (ipykernel)",
   "language": "python",
   "name": "python3"
  },
  "language_info": {
   "codemirror_mode": {
    "name": "ipython",
    "version": 3
   },
   "file_extension": ".py",
   "mimetype": "text/x-python",
   "name": "python",
   "nbconvert_exporter": "python",
   "pygments_lexer": "ipython3",
   "version": "3.11.10"
  }
 },
 "nbformat": 4,
 "nbformat_minor": 4
}
