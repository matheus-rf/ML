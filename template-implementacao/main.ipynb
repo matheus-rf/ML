{
 "cells": [
  {
   "cell_type": "markdown",
   "metadata": {},
   "source": [
    "# <center> <img src=\"figs/LogoUFSCar.jpg\" alt=\"Logo UFScar\" width=\"110\" align=\"left\"/>  <br/> <center>Universidade Federal de São Carlos (UFSCar)<br/><font size=\"4\"> Departamento de Computação, campus Sorocaba</center></font>\n",
    "</p>\n",
    "\n",
    "<font size=\"4\"><center><b>Disciplina: Aprendizado de Máquina</b></center></font>\n",
    "  \n",
    "<font size=\"3\"><center>Prof. Dr. Tiago A. Almeida</center></font>\n",
    "\n",
    "## <center>Projeto Final</center>\n",
    "\n",
    "**Nome**:\n",
    "\n",
    "**RA**: \n"
   ]
  },
  {
   "cell_type": "markdown",
   "metadata": {},
   "source": [
    "---\n",
    "### Análise exploratória\n",
    "\n",
    "Nesta seção, deve ser feita a leitura da base de dados e todas as análises necessárias para interpretar e analisar os dados, tais como:\n",
    "* Significado de cada atributo\n",
    "* Medidas descritivas\n",
    "* Gráficos"
   ]
  },
  {
   "cell_type": "code",
   "metadata": {
    "ExecuteTime": {
     "end_time": "2025-01-23T02:27:18.437060Z",
     "start_time": "2025-01-23T02:27:18.432720Z"
    }
   },
   "source": [
    "#import das bibliotecas\n",
    "import pandas as pd\n",
    "import numpy as np\n",
    "import matplotlib.pyplot as plt\n",
    "import seaborn as sns\n",
    "\n",
    "import sys\n",
    "import analise_exploratoria as ae\n",
    "from sklearn.ensemble import RandomForestRegressor\n",
    "from sklearn.impute import KNNImputer\n",
    "from sklearn.preprocessing import LabelEncoder\n",
    "from sklearn.model_selection import train_test_split, GridSearchCV, cross_val_score, RandomizedSearchCV\n",
    "from sklearn.metrics import accuracy_score\n",
    "from sklearn.linear_model import LogisticRegression\n",
    "from sklearn.ensemble import RandomForestClassifier, VotingClassifier, StackingClassifier\n",
    "from xgboost import XGBClassifier\n",
    "from lightgbm import LGBMClassifier\n",
    "from catboost import CatBoostClassifier\n",
    "from sklearn.neighbors import KNeighborsClassifier\n",
    "from sklearn.svm import SVC\n",
    "from sklearn.naive_bayes import GaussianNB\n",
    "from sklearn.neural_network import MLPClassifier\n",
    "from sklearn.preprocessing import StandardScaler\n"
   ],
   "outputs": [],
   "execution_count": 129
  },
  {
   "metadata": {
    "ExecuteTime": {
     "end_time": "2025-01-23T02:27:18.530786Z",
     "start_time": "2025-01-23T02:27:18.480139Z"
    }
   },
   "cell_type": "code",
   "source": [
    "# Leitura dos dados\n",
    "data = pd.read_csv('datasets/RHP_data.csv')\n",
    "\n",
    "# Visualização dos dados\n",
    "data.head()"
   ],
   "outputs": [
    {
     "data": {
      "text/plain": [
       "   Id  Peso  Altura   IMC Atendimento        DN  IDADE Convenio   PULSOS  \\\n",
       "0   1   5.0      51  19.0    11/05/06  30/03/06   0.12       GS  Normais   \n",
       "1   2   3.5      50  14.0    25/05/05  19/05/05   0.02       GS  Normais   \n",
       "2   3   0.0       0   NaN    12/06/01  08/05/05  -4.05     SULA  Normais   \n",
       "3   4   8.1      65  19.0    15/10/09  21/04/09    0.5      NaN  Normais   \n",
       "4   5  39.5     142  20.0    23/01/09  24/10/99    9.6    Sulam  Normais   \n",
       "\n",
       "   PA SISTOLICA  PA DIASTOLICA            PPA      B2      SOPRO   FC  \\\n",
       "0           NaN            NaN  Não Calculado  Normal  Sistólico  112   \n",
       "1           NaN            NaN  Não Calculado  Normal    ausente  128   \n",
       "2           NaN            NaN  Não Calculado  Normal  Sistólico   88   \n",
       "3           NaN            NaN  Não Calculado  Normal    ausente   92   \n",
       "4          85.0           50.0         Normal  Normal    ausente   90   \n",
       "\n",
       "           HDA 1 HDA2 SEXO                      MOTIVO1  \\\n",
       "0     Palpitacao  NaN    M  6 - Suspeita de cardiopatia   \n",
       "1       Dispneia  NaN    M  6 - Suspeita de cardiopatia   \n",
       "2  Assintomático  NaN    M                 2 - Check-up   \n",
       "3  Assintomático  NaN    M     5 - Parecer cardiológico   \n",
       "4            NaN  NaN    M     5 - Parecer cardiológico   \n",
       "\n",
       "                               MOTIVO2  \n",
       "0  6 - Palpitação/taquicardia/arritmia  \n",
       "1                         6 - Dispnéia  \n",
       "2                                  NaN  \n",
       "3                                  NaN  \n",
       "4                 5 - Atividade física  "
      ],
      "text/html": [
       "<div>\n",
       "<style scoped>\n",
       "    .dataframe tbody tr th:only-of-type {\n",
       "        vertical-align: middle;\n",
       "    }\n",
       "\n",
       "    .dataframe tbody tr th {\n",
       "        vertical-align: top;\n",
       "    }\n",
       "\n",
       "    .dataframe thead th {\n",
       "        text-align: right;\n",
       "    }\n",
       "</style>\n",
       "<table border=\"1\" class=\"dataframe\">\n",
       "  <thead>\n",
       "    <tr style=\"text-align: right;\">\n",
       "      <th></th>\n",
       "      <th>Id</th>\n",
       "      <th>Peso</th>\n",
       "      <th>Altura</th>\n",
       "      <th>IMC</th>\n",
       "      <th>Atendimento</th>\n",
       "      <th>DN</th>\n",
       "      <th>IDADE</th>\n",
       "      <th>Convenio</th>\n",
       "      <th>PULSOS</th>\n",
       "      <th>PA SISTOLICA</th>\n",
       "      <th>PA DIASTOLICA</th>\n",
       "      <th>PPA</th>\n",
       "      <th>B2</th>\n",
       "      <th>SOPRO</th>\n",
       "      <th>FC</th>\n",
       "      <th>HDA 1</th>\n",
       "      <th>HDA2</th>\n",
       "      <th>SEXO</th>\n",
       "      <th>MOTIVO1</th>\n",
       "      <th>MOTIVO2</th>\n",
       "    </tr>\n",
       "  </thead>\n",
       "  <tbody>\n",
       "    <tr>\n",
       "      <th>0</th>\n",
       "      <td>1</td>\n",
       "      <td>5.0</td>\n",
       "      <td>51</td>\n",
       "      <td>19.0</td>\n",
       "      <td>11/05/06</td>\n",
       "      <td>30/03/06</td>\n",
       "      <td>0.12</td>\n",
       "      <td>GS</td>\n",
       "      <td>Normais</td>\n",
       "      <td>NaN</td>\n",
       "      <td>NaN</td>\n",
       "      <td>Não Calculado</td>\n",
       "      <td>Normal</td>\n",
       "      <td>Sistólico</td>\n",
       "      <td>112</td>\n",
       "      <td>Palpitacao</td>\n",
       "      <td>NaN</td>\n",
       "      <td>M</td>\n",
       "      <td>6 - Suspeita de cardiopatia</td>\n",
       "      <td>6 - Palpitação/taquicardia/arritmia</td>\n",
       "    </tr>\n",
       "    <tr>\n",
       "      <th>1</th>\n",
       "      <td>2</td>\n",
       "      <td>3.5</td>\n",
       "      <td>50</td>\n",
       "      <td>14.0</td>\n",
       "      <td>25/05/05</td>\n",
       "      <td>19/05/05</td>\n",
       "      <td>0.02</td>\n",
       "      <td>GS</td>\n",
       "      <td>Normais</td>\n",
       "      <td>NaN</td>\n",
       "      <td>NaN</td>\n",
       "      <td>Não Calculado</td>\n",
       "      <td>Normal</td>\n",
       "      <td>ausente</td>\n",
       "      <td>128</td>\n",
       "      <td>Dispneia</td>\n",
       "      <td>NaN</td>\n",
       "      <td>M</td>\n",
       "      <td>6 - Suspeita de cardiopatia</td>\n",
       "      <td>6 - Dispnéia</td>\n",
       "    </tr>\n",
       "    <tr>\n",
       "      <th>2</th>\n",
       "      <td>3</td>\n",
       "      <td>0.0</td>\n",
       "      <td>0</td>\n",
       "      <td>NaN</td>\n",
       "      <td>12/06/01</td>\n",
       "      <td>08/05/05</td>\n",
       "      <td>-4.05</td>\n",
       "      <td>SULA</td>\n",
       "      <td>Normais</td>\n",
       "      <td>NaN</td>\n",
       "      <td>NaN</td>\n",
       "      <td>Não Calculado</td>\n",
       "      <td>Normal</td>\n",
       "      <td>Sistólico</td>\n",
       "      <td>88</td>\n",
       "      <td>Assintomático</td>\n",
       "      <td>NaN</td>\n",
       "      <td>M</td>\n",
       "      <td>2 - Check-up</td>\n",
       "      <td>NaN</td>\n",
       "    </tr>\n",
       "    <tr>\n",
       "      <th>3</th>\n",
       "      <td>4</td>\n",
       "      <td>8.1</td>\n",
       "      <td>65</td>\n",
       "      <td>19.0</td>\n",
       "      <td>15/10/09</td>\n",
       "      <td>21/04/09</td>\n",
       "      <td>0.5</td>\n",
       "      <td>NaN</td>\n",
       "      <td>Normais</td>\n",
       "      <td>NaN</td>\n",
       "      <td>NaN</td>\n",
       "      <td>Não Calculado</td>\n",
       "      <td>Normal</td>\n",
       "      <td>ausente</td>\n",
       "      <td>92</td>\n",
       "      <td>Assintomático</td>\n",
       "      <td>NaN</td>\n",
       "      <td>M</td>\n",
       "      <td>5 - Parecer cardiológico</td>\n",
       "      <td>NaN</td>\n",
       "    </tr>\n",
       "    <tr>\n",
       "      <th>4</th>\n",
       "      <td>5</td>\n",
       "      <td>39.5</td>\n",
       "      <td>142</td>\n",
       "      <td>20.0</td>\n",
       "      <td>23/01/09</td>\n",
       "      <td>24/10/99</td>\n",
       "      <td>9.6</td>\n",
       "      <td>Sulam</td>\n",
       "      <td>Normais</td>\n",
       "      <td>85.0</td>\n",
       "      <td>50.0</td>\n",
       "      <td>Normal</td>\n",
       "      <td>Normal</td>\n",
       "      <td>ausente</td>\n",
       "      <td>90</td>\n",
       "      <td>NaN</td>\n",
       "      <td>NaN</td>\n",
       "      <td>M</td>\n",
       "      <td>5 - Parecer cardiológico</td>\n",
       "      <td>5 - Atividade física</td>\n",
       "    </tr>\n",
       "  </tbody>\n",
       "</table>\n",
       "</div>"
      ]
     },
     "execution_count": 130,
     "metadata": {},
     "output_type": "execute_result"
    }
   ],
   "execution_count": 130
  },
  {
   "metadata": {
    "ExecuteTime": {
     "end_time": "2025-01-23T02:27:18.649672Z",
     "start_time": "2025-01-23T02:27:18.638054Z"
    }
   },
   "cell_type": "code",
   "source": [
    "# Quantidade de dados nulos\n",
    "data.isnull().sum()"
   ],
   "outputs": [
    {
     "data": {
      "text/plain": [
       "Id                   0\n",
       "Peso               318\n",
       "Altura               0\n",
       "IMC               4727\n",
       "Atendimento        983\n",
       "DN                1376\n",
       "IDADE             1376\n",
       "Convenio          5304\n",
       "PULSOS            1198\n",
       "PA SISTOLICA      7730\n",
       "PA DIASTOLICA     7740\n",
       "PPA                217\n",
       "B2                1179\n",
       "SOPRO             1167\n",
       "FC                2041\n",
       "HDA 1             5414\n",
       "HDA2             17221\n",
       "SEXO                 4\n",
       "MOTIVO1           1097\n",
       "MOTIVO2           4778\n",
       "dtype: int64"
      ]
     },
     "execution_count": 131,
     "metadata": {},
     "output_type": "execute_result"
    }
   ],
   "execution_count": 131
  },
  {
   "metadata": {
    "ExecuteTime": {
     "end_time": "2025-01-23T02:27:18.848803Z",
     "start_time": "2025-01-23T02:27:18.831324Z"
    }
   },
   "cell_type": "code",
   "source": [
    "# Estatísticas descritivas\n",
    "data.describe()"
   ],
   "outputs": [
    {
     "data": {
      "text/plain": [
       "                 Id          Peso        Altura           IMC  PA SISTOLICA  \\\n",
       "count  17873.000000  17555.000000  17873.000000  13146.000000  10143.000000   \n",
       "mean    8937.000000     21.163520     83.865216     17.806329    101.314108   \n",
       "std     5159.635016     18.061021     56.583610     12.071950     15.510066   \n",
       "min        1.000000    -40.000000      0.000000      0.000000     10.000000   \n",
       "25%     4469.000000      6.600000     36.000000     15.000000     90.000000   \n",
       "50%     8937.000000     18.000000     99.000000     17.000000    100.000000   \n",
       "75%    13405.000000     31.000000    130.000000     19.000000    110.000000   \n",
       "max    17873.000000    157.000000    198.000000    848.000000    990.000000   \n",
       "\n",
       "       PA DIASTOLICA  \n",
       "count   10133.000000  \n",
       "mean       62.303661  \n",
       "std         8.885555  \n",
       "min         6.000000  \n",
       "25%        60.000000  \n",
       "50%        60.000000  \n",
       "75%        70.000000  \n",
       "max       120.000000  "
      ],
      "text/html": [
       "<div>\n",
       "<style scoped>\n",
       "    .dataframe tbody tr th:only-of-type {\n",
       "        vertical-align: middle;\n",
       "    }\n",
       "\n",
       "    .dataframe tbody tr th {\n",
       "        vertical-align: top;\n",
       "    }\n",
       "\n",
       "    .dataframe thead th {\n",
       "        text-align: right;\n",
       "    }\n",
       "</style>\n",
       "<table border=\"1\" class=\"dataframe\">\n",
       "  <thead>\n",
       "    <tr style=\"text-align: right;\">\n",
       "      <th></th>\n",
       "      <th>Id</th>\n",
       "      <th>Peso</th>\n",
       "      <th>Altura</th>\n",
       "      <th>IMC</th>\n",
       "      <th>PA SISTOLICA</th>\n",
       "      <th>PA DIASTOLICA</th>\n",
       "    </tr>\n",
       "  </thead>\n",
       "  <tbody>\n",
       "    <tr>\n",
       "      <th>count</th>\n",
       "      <td>17873.000000</td>\n",
       "      <td>17555.000000</td>\n",
       "      <td>17873.000000</td>\n",
       "      <td>13146.000000</td>\n",
       "      <td>10143.000000</td>\n",
       "      <td>10133.000000</td>\n",
       "    </tr>\n",
       "    <tr>\n",
       "      <th>mean</th>\n",
       "      <td>8937.000000</td>\n",
       "      <td>21.163520</td>\n",
       "      <td>83.865216</td>\n",
       "      <td>17.806329</td>\n",
       "      <td>101.314108</td>\n",
       "      <td>62.303661</td>\n",
       "    </tr>\n",
       "    <tr>\n",
       "      <th>std</th>\n",
       "      <td>5159.635016</td>\n",
       "      <td>18.061021</td>\n",
       "      <td>56.583610</td>\n",
       "      <td>12.071950</td>\n",
       "      <td>15.510066</td>\n",
       "      <td>8.885555</td>\n",
       "    </tr>\n",
       "    <tr>\n",
       "      <th>min</th>\n",
       "      <td>1.000000</td>\n",
       "      <td>-40.000000</td>\n",
       "      <td>0.000000</td>\n",
       "      <td>0.000000</td>\n",
       "      <td>10.000000</td>\n",
       "      <td>6.000000</td>\n",
       "    </tr>\n",
       "    <tr>\n",
       "      <th>25%</th>\n",
       "      <td>4469.000000</td>\n",
       "      <td>6.600000</td>\n",
       "      <td>36.000000</td>\n",
       "      <td>15.000000</td>\n",
       "      <td>90.000000</td>\n",
       "      <td>60.000000</td>\n",
       "    </tr>\n",
       "    <tr>\n",
       "      <th>50%</th>\n",
       "      <td>8937.000000</td>\n",
       "      <td>18.000000</td>\n",
       "      <td>99.000000</td>\n",
       "      <td>17.000000</td>\n",
       "      <td>100.000000</td>\n",
       "      <td>60.000000</td>\n",
       "    </tr>\n",
       "    <tr>\n",
       "      <th>75%</th>\n",
       "      <td>13405.000000</td>\n",
       "      <td>31.000000</td>\n",
       "      <td>130.000000</td>\n",
       "      <td>19.000000</td>\n",
       "      <td>110.000000</td>\n",
       "      <td>70.000000</td>\n",
       "    </tr>\n",
       "    <tr>\n",
       "      <th>max</th>\n",
       "      <td>17873.000000</td>\n",
       "      <td>157.000000</td>\n",
       "      <td>198.000000</td>\n",
       "      <td>848.000000</td>\n",
       "      <td>990.000000</td>\n",
       "      <td>120.000000</td>\n",
       "    </tr>\n",
       "  </tbody>\n",
       "</table>\n",
       "</div>"
      ]
     },
     "execution_count": 132,
     "metadata": {},
     "output_type": "execute_result"
    }
   ],
   "execution_count": 132
  },
  {
   "metadata": {
    "ExecuteTime": {
     "end_time": "2025-01-23T02:27:19.118815Z",
     "start_time": "2025-01-23T02:27:19.114751Z"
    }
   },
   "cell_type": "code",
   "source": [
    "# padronização dos nomes das colunas\n",
    "ae.padronizar_colunas(data)"
   ],
   "outputs": [],
   "execution_count": 133
  },
  {
   "metadata": {
    "ExecuteTime": {
     "end_time": "2025-01-23T02:27:19.338859Z",
     "start_time": "2025-01-23T02:27:19.332457Z"
    }
   },
   "cell_type": "code",
   "source": [
    "# Distribuição das classes\n",
    "cols = ['convenio','pulsos','ppa','b2', 'sexo', 'sopro', 'hda_1', 'hda_2', 'motivo_1', 'motivo_2']\n",
    "\n",
    "ae.analisar_distribuicao(data,['motivo_1', 'sexo'])\n"
   ],
   "outputs": [
    {
     "name": "stdout",
     "output_type": "stream",
     "text": [
      "Distribuição de classes na coluna 'motivo_1':\n",
      "motivo_1\n",
      "5 - Parecer cardiológico           7981\n",
      "6 - Suspeita de cardiopatia        5863\n",
      "1 - Cardiopatia já estabelecida    1428\n",
      "2 - Check-up                       1048\n",
      "7 - Outro                           456\n",
      "Name: count, dtype: int64\n",
      "\n",
      "\n",
      "Distribuição de classes na coluna 'sexo':\n",
      "sexo\n",
      "M                8930\n",
      "F                6612\n",
      "Indeterminado    1417\n",
      "Masculino         584\n",
      "Feminino          247\n",
      "masculino          79\n",
      "Name: count, dtype: int64\n",
      "\n",
      "\n"
     ]
    }
   ],
   "execution_count": 134
  },
  {
   "metadata": {},
   "cell_type": "markdown",
   "source": [
    "### Entendendo os dados\n",
    "- **ID**: Identificação do paciente\n",
    "- **Peso**: Peso do paciente\n",
    "- **Altura**: Altura do paciente\n",
    "- **IMC**: Índice de Massa Corporal\n",
    "- **Atendimento**: Data do atendimento\n",
    "- **DN**: Data de nascimento\n",
    "- **Idade**: Idade do paciente\n",
    "- **Convenio**: Convênio do paciente\n",
    "- **Pulsos**: Pulso do paciente\n",
    "- **PA Sistólica**: Pressão Arterial Sistólica\n",
    "- **PA Diastólica**: Pressão Arterial Diastólica\n",
    "- **PPA**: Pressão de Pulso Arterial\n",
    "- **B2**: \n",
    "- **Sopro**: Sopro cardíaco\n",
    "- **FC**: Frequência Cardíaca\n",
    "- **HDA 1**: História de Doença Atual 1\n",
    "- **HDA 2**: História de Doença Atual 2\n",
    "- **Sexo**: Sexo do paciente\n",
    "- **Motivo 1**: Motivo 1 da consulta\n",
    "- **Motivo 2**: Motivo 2 da consulta"
   ]
  },
  {
   "metadata": {},
   "cell_type": "markdown",
   "source": "## Removendo colunas desnecessárias"
  },
  {
   "metadata": {
    "ExecuteTime": {
     "end_time": "2025-01-23T02:27:19.725822Z",
     "start_time": "2025-01-23T02:27:19.718935Z"
    }
   },
   "cell_type": "code",
   "source": [
    "#dropar colunas que não serão utilizadas\n",
    "data.drop(columns=['atendimento', 'dn','convenio','hda_2'], inplace=True)"
   ],
   "outputs": [],
   "execution_count": 135
  },
  {
   "metadata": {},
   "cell_type": "markdown",
   "source": "## tratando dados nulos das colunas numericas\n"
  },
  {
   "metadata": {
    "ExecuteTime": {
     "end_time": "2025-01-23T02:27:19.906122Z",
     "start_time": "2025-01-23T02:27:19.851296Z"
    }
   },
   "cell_type": "code",
   "source": [
    "#colunas numericas\n",
    "cols_numericas = ['peso', 'altura','idade', 'imc', 'pa_sistolica', 'pa_diastolica'] #fc tratar depois\n",
    "\n",
    "#ae.tratar_dados_nulos(data, cols_numericas) todo: implementar essa função\n",
    "\n",
    "for col in cols_numericas:\n",
    "    data[col] = data[col].apply(lambda x: 0 if x == '#VALUE!' else float(x))\n",
    "    data[col] = data[col].apply(lambda x: 0 if x < 0 else x)\n",
    "    data[col] = data[col].fillna(0)\n",
    "\n",
    "    \n",
    "data[cols_numericas].isnull().sum()"
   ],
   "outputs": [
    {
     "data": {
      "text/plain": [
       "peso             0\n",
       "altura           0\n",
       "idade            0\n",
       "imc              0\n",
       "pa_sistolica     0\n",
       "pa_diastolica    0\n",
       "dtype: int64"
      ]
     },
     "execution_count": 136,
     "metadata": {},
     "output_type": "execute_result"
    }
   ],
   "execution_count": 136
  },
  {
   "metadata": {
    "ExecuteTime": {
     "end_time": "2025-01-23T02:27:20.009558Z",
     "start_time": "2025-01-23T02:27:20.006451Z"
    }
   },
   "cell_type": "code",
   "source": "",
   "outputs": [],
   "execution_count": null
  },
  {
   "metadata": {},
   "cell_type": "markdown",
   "source": "## tratando dados nulos das colunas categoricas"
  },
  {
   "metadata": {
    "ExecuteTime": {
     "end_time": "2025-01-23T02:27:20.116331Z",
     "start_time": "2025-01-23T02:27:20.056238Z"
    }
   },
   "cell_type": "code",
   "source": [
    "## TODO: implementar essa função\n",
    "#colunas categoricas\n",
    "cols_categoricas = [ 'pulsos', 'ppa', 'b2', 'sexo', 'sopro', 'hda_1', 'motivo_1', 'motivo_2']\n",
    "\n",
    "for col in cols_categoricas:\n",
    "    data[col] = data[col].replace('#VALUE!', pd.NA)\n",
    "    data[col] = data[col].fillna('Nao informado')\n",
    "    data[col] = data[col].apply(lambda x: x.lower())\n",
    "\n",
    "# em sexo, substituir 'masculino' por 'm' e 'feminino' por 'f'\n",
    "data['sexo'] = data['sexo'].replace('masculino', 'm')\n",
    "data['sexo'] = data['sexo'].replace('feminino', 'f')\n",
    "\n",
    "\n",
    "\n"
   ],
   "outputs": [],
   "execution_count": 137
  },
  {
   "metadata": {},
   "cell_type": "markdown",
   "source": [
    "### limpeza dos dados\n",
    "\n",
    "- Peso"
   ]
  },
  {
   "metadata": {
    "ExecuteTime": {
     "end_time": "2025-01-23T02:27:20.215045Z",
     "start_time": "2025-01-23T02:27:20.210075Z"
    }
   },
   "cell_type": "code",
   "source": "data.shape",
   "outputs": [
    {
     "data": {
      "text/plain": [
       "(17873, 16)"
      ]
     },
     "execution_count": 138,
     "metadata": {},
     "output_type": "execute_result"
    }
   ],
   "execution_count": 138
  },
  {
   "metadata": {
    "ExecuteTime": {
     "end_time": "2025-01-23T02:27:20.322364Z",
     "start_time": "2025-01-23T02:27:20.311815Z"
    }
   },
   "cell_type": "code",
   "source": "data_antes_drop = data.copy()",
   "outputs": [],
   "execution_count": 139
  },
  {
   "metadata": {
    "ExecuteTime": {
     "end_time": "2025-01-23T02:27:20.684351Z",
     "start_time": "2025-01-23T02:27:20.395107Z"
    }
   },
   "cell_type": "code",
   "source": [
    "# removendo valores negativos\n",
    "data = data[data['peso'] > 0] #analisando manualmente, quando os pesos sao 0, quase sempre a altura é 0 tambem, logo, são dados invalidos\n",
    "\n",
    "#plotando um grafico para verificar a distribuição dos dados\n",
    "sns.histplot(data['peso'])"
   ],
   "outputs": [
    {
     "data": {
      "text/plain": [
       "<Axes: xlabel='peso', ylabel='Count'>"
      ]
     },
     "execution_count": 140,
     "metadata": {},
     "output_type": "execute_result"
    },
    {
     "data": {
      "text/plain": [
       "<Figure size 640x480 with 1 Axes>"
      ],
      "image/png": "[encoded data removed]"
     },
     "metadata": {},
     "output_type": "display_data"
    }
   ],
   "execution_count": 140
  },
  {
   "metadata": {
    "ExecuteTime": {
     "end_time": "2025-01-23T02:27:21.045012Z",
     "start_time": "2025-01-23T02:27:20.766338Z"
    }
   },
   "cell_type": "code",
   "source": [
    "#ainda possui outliers para valores muito altos, então vamos remover\n",
    "Q1 = data['peso'].quantile(0.25)\n",
    "Q3 = data['peso'].quantile(0.75)\n",
    "IQR = Q3 - Q1\n",
    "limite_superior = Q3 + 1.5 * IQR\n",
    "data = data[data['peso'] < limite_superior]\n",
    "\n",
    "sns.histplot(data['peso'])"
   ],
   "outputs": [
    {
     "data": {
      "text/plain": [
       "<Axes: xlabel='peso', ylabel='Count'>"
      ]
     },
     "execution_count": 141,
     "metadata": {},
     "output_type": "execute_result"
    },
    {
     "data": {
      "text/plain": [
       "<Figure size 640x480 with 1 Axes>"
      ],
      "image/png": "[encoded data removed]"
     },
     "metadata": {},
     "output_type": "display_data"
    }
   ],
   "execution_count": 141
  },
  {
   "metadata": {
    "ExecuteTime": {
     "end_time": "2025-01-23T02:27:21.122533Z",
     "start_time": "2025-01-23T02:27:21.118266Z"
    }
   },
   "cell_type": "code",
   "source": [
    "#TODO: REMOVER ESSA CELULA DPS\n",
    "data.shape"
   ],
   "outputs": [
    {
     "data": {
      "text/plain": [
       "(14570, 16)"
      ]
     },
     "execution_count": 142,
     "metadata": {},
     "output_type": "execute_result"
    }
   ],
   "execution_count": 142
  },
  {
   "metadata": {},
   "cell_type": "markdown",
   "source": "### Limpando a altura"
  },
  {
   "metadata": {
    "ExecuteTime": {
     "end_time": "2025-01-23T02:27:21.546834Z",
     "start_time": "2025-01-23T02:27:21.200175Z"
    }
   },
   "cell_type": "code",
   "source": [
    "# plotando um grafico para verificar a distribuição dos dados\n",
    "sns.histplot(data['altura'])"
   ],
   "outputs": [
    {
     "data": {
      "text/plain": [
       "<Axes: xlabel='altura', ylabel='Count'>"
      ]
     },
     "execution_count": 143,
     "metadata": {},
     "output_type": "execute_result"
    },
    {
     "data": {
      "text/plain": [
       "<Figure size 640x480 with 1 Axes>"
      ],
      "image/png": "[encoded data removed]"
     },
     "metadata": {},
     "output_type": "display_data"
    }
   ],
   "execution_count": 143
  },
  {
   "metadata": {
    "ExecuteTime": {
     "end_time": "2025-01-23T02:27:21.670705Z",
     "start_time": "2025-01-23T02:27:21.663895Z"
    }
   },
   "cell_type": "code",
   "source": [
    "#ver a quantidade de valores 0\n",
    "data[(data['altura'] == 0)].shape"
   ],
   "outputs": [
    {
     "data": {
      "text/plain": [
       "(1891, 16)"
      ]
     },
     "execution_count": 144,
     "metadata": {},
     "output_type": "execute_result"
    }
   ],
   "execution_count": 144
  },
  {
   "metadata": {},
   "cell_type": "markdown",
   "source": "### Como para preencher os dados de altura usaremos a idade, vamos limpar idade antes"
  },
  {
   "metadata": {
    "ExecuteTime": {
     "end_time": "2025-01-23T02:27:21.745066Z",
     "start_time": "2025-01-23T02:27:21.741082Z"
    }
   },
   "cell_type": "code",
   "source": "data.shape",
   "outputs": [
    {
     "data": {
      "text/plain": [
       "(14570, 16)"
      ]
     },
     "execution_count": 145,
     "metadata": {},
     "output_type": "execute_result"
    }
   ],
   "execution_count": 145
  },
  {
   "metadata": {
    "ExecuteTime": {
     "end_time": "2025-01-23T02:27:21.841081Z",
     "start_time": "2025-01-23T02:27:21.818265Z"
    }
   },
   "cell_type": "code",
   "source": [
    "#todo: implementar essa função\n",
    "# tratando idade\n",
    "#colocando valores negativos como 0\n",
    "data['idade'] = data['idade'].apply(lambda x: 0 if x < 0 else x)\n",
    "\n",
    "data = data[data['idade'] <= 19]\n",
    "\n",
    "#removendo valores 0\n",
    "data = data[data['idade'] > 0] #todo: talvez mudar isso, 727 dados excluidos\n",
    "\n",
    "#transformando idade em inteiro\n",
    "data['idade'] = data['idade'].apply(lambda x: int(x))"
   ],
   "outputs": [],
   "execution_count": 146
  },
  {
   "metadata": {},
   "cell_type": "markdown",
   "source": "## agora com idade tratada, vamos preencher os valores de altura"
  },
  {
   "metadata": {
    "ExecuteTime": {
     "end_time": "2025-01-23T02:27:22.252116Z",
     "start_time": "2025-01-23T02:27:21.963161Z"
    }
   },
   "cell_type": "code",
   "source": [
    "#todo: implementar essa função\n",
    "def preencher_alturas(data):\n",
    "    # Filtrar dados com altura conhecida e desconhecida\n",
    "    df_treino = data[data['altura'] > 0].copy()\n",
    "    df_teste = data[data['altura'] == 0].copy()\n",
    "    \n",
    "    # Criar variáveis dummy para 'sexo' (caso seja categórico)\n",
    "    df_treino = pd.get_dummies(df_treino, columns=['sexo'], drop_first=True)\n",
    "    df_teste = pd.get_dummies(df_teste, columns=['sexo'], drop_first=True)\n",
    "\n",
    "    # Garantir que ambos os conjuntos têm as mesmas colunas\n",
    "    df_teste = df_teste.reindex(columns=df_treino.columns, fill_value=0)\n",
    "\n",
    "    # Atualizar lista de features após dummies\n",
    "    features = [col for col in df_treino.columns if col not in ['altura']]\n",
    "\n",
    "    # Dividir dados de treino\n",
    "    X_train = df_treino[features]\n",
    "    y_train = df_treino['altura']\n",
    "\n",
    "    # Treinar modelo\n",
    "    modelo = RandomForestRegressor(n_estimators=100, random_state=42)\n",
    "    modelo.fit(X_train, y_train)\n",
    "\n",
    "    # Prever alturas ausentes\n",
    "    X_test = df_teste[features]\n",
    "    data.loc[data['altura'] == 0, 'altura'] = modelo.predict(X_test)\n",
    "\n",
    "    return data\n",
    "\n",
    "data_aux = data[[ 'altura', 'sexo', 'idade']].copy()\n",
    "data_aux = preencher_alturas(data_aux)\n",
    "\n",
    "data['altura'] = data_aux['altura']\n"
   ],
   "outputs": [],
   "execution_count": 147
  },
  {
   "metadata": {
    "ExecuteTime": {
     "end_time": "2025-01-23T02:27:22.582947Z",
     "start_time": "2025-01-23T02:27:22.329401Z"
    }
   },
   "cell_type": "code",
   "source": [
    "#plotando um grafico para verificar a distribuição dos dados\n",
    "sns.histplot(data['altura'])"
   ],
   "outputs": [
    {
     "data": {
      "text/plain": [
       "<Axes: xlabel='altura', ylabel='Count'>"
      ]
     },
     "execution_count": 148,
     "metadata": {},
     "output_type": "execute_result"
    },
    {
     "data": {
      "text/plain": [
       "<Figure size 640x480 with 1 Axes>"
      ],
      "image/png": "[encoded data removed]"
     },
     "metadata": {},
     "output_type": "display_data"
    }
   ],
   "execution_count": 148
  },
  {
   "metadata": {
    "ExecuteTime": {
     "end_time": "2025-01-23T02:27:22.655673Z",
     "start_time": "2025-01-23T02:27:22.651162Z"
    }
   },
   "cell_type": "code",
   "source": "data.shape",
   "outputs": [
    {
     "data": {
      "text/plain": [
       "(13796, 16)"
      ]
     },
     "execution_count": 149,
     "metadata": {},
     "output_type": "execute_result"
    }
   ],
   "execution_count": 149
  },
  {
   "metadata": {},
   "cell_type": "markdown",
   "source": "### Limpando IMC"
  },
  {
   "metadata": {
    "ExecuteTime": {
     "end_time": "2025-01-23T02:27:25.989645Z",
     "start_time": "2025-01-23T02:27:22.728938Z"
    }
   },
   "cell_type": "code",
   "source": [
    "#plotando um grafico para verificar a distribuição dos dados\n",
    "sns.histplot(data['imc'])"
   ],
   "outputs": [
    {
     "data": {
      "text/plain": [
       "<Axes: xlabel='imc', ylabel='Count'>"
      ]
     },
     "execution_count": 150,
     "metadata": {},
     "output_type": "execute_result"
    },
    {
     "data": {
      "text/plain": [
       "<Figure size 640x480 with 1 Axes>"
      ],
      "image/png": "[encoded data removed]"
     },
     "metadata": {},
     "output_type": "display_data"
    }
   ],
   "execution_count": 150
  },
  {
   "metadata": {
    "ExecuteTime": {
     "end_time": "2025-01-23T02:27:29.070880Z",
     "start_time": "2025-01-23T02:27:26.069526Z"
    }
   },
   "cell_type": "code",
   "source": [
    "#tranformando em 0 os valores negativos\n",
    "data['imc'] = data['imc'].apply(lambda x: 0 if x < 0 else x)\n",
    "\n",
    "#como temos altura e peso, podemos calcular o IMC para os valores 0\n",
    "data.loc[data['imc'] == 0, 'imc'] = data['peso'] / (((data['altura'])/100) ** 2)\n",
    "\n",
    "#plotando um grafico para verificar a distribuição dos dados\n",
    "sns.histplot(data['imc'])"
   ],
   "outputs": [
    {
     "data": {
      "text/plain": [
       "<Axes: xlabel='imc', ylabel='Count'>"
      ]
     },
     "execution_count": 151,
     "metadata": {},
     "output_type": "execute_result"
    },
    {
     "data": {
      "text/plain": [
       "<Figure size 640x480 with 1 Axes>"
      ],
      "image/png": "[encoded data removed]"
     },
     "metadata": {},
     "output_type": "display_data"
    }
   ],
   "execution_count": 151
  },
  {
   "metadata": {},
   "cell_type": "markdown",
   "source": "## aparentemente existem alturas inconsistentes em relacao ao peso, vamos remover esses dados"
  },
  {
   "metadata": {
    "ExecuteTime": {
     "end_time": "2025-01-23T02:27:29.449073Z",
     "start_time": "2025-01-23T02:27:29.141937Z"
    }
   },
   "cell_type": "code",
   "source": [
    "#removendo dados com imc <10, todo: talvez mudar isso, foi excluido muitos dados, +-1700\n",
    "data = data[data['imc'] > 10]\n",
    "data = data[data['imc'] < 50]\n",
    "\n",
    "#plotando um grafico para verificar a distribuição dos dados\n",
    "sns.histplot(data['imc'])"
   ],
   "outputs": [
    {
     "data": {
      "text/plain": [
       "<Axes: xlabel='imc', ylabel='Count'>"
      ]
     },
     "execution_count": 152,
     "metadata": {},
     "output_type": "execute_result"
    },
    {
     "data": {
      "text/plain": [
       "<Figure size 640x480 with 1 Axes>"
      ],
      "image/png": "[encoded data removed]"
     },
     "metadata": {},
     "output_type": "display_data"
    }
   ],
   "execution_count": 152
  },
  {
   "metadata": {},
   "cell_type": "markdown",
   "source": "## limpando pulsos"
  },
  {
   "metadata": {
    "ExecuteTime": {
     "end_time": "2025-01-23T02:27:29.524356Z",
     "start_time": "2025-01-23T02:27:29.519053Z"
    }
   },
   "cell_type": "code",
   "source": "ae.analisar_distribuicao(data, ['pulsos'])",
   "outputs": [
    {
     "name": "stdout",
     "output_type": "stream",
     "text": [
      "Distribuição de classes na coluna 'pulsos':\n",
      "pulsos\n",
      "normais                13200\n",
      "nao informado            331\n",
      "amplos                    32\n",
      "outro                     29\n",
      "femorais diminuidos       28\n",
      "diminuídos                11\n",
      "Name: count, dtype: int64\n",
      "\n",
      "\n"
     ]
    }
   ],
   "execution_count": 153
  },
  {
   "metadata": {
    "ExecuteTime": {
     "end_time": "2025-01-23T02:27:29.669177Z",
     "start_time": "2025-01-23T02:27:29.661461Z"
    }
   },
   "cell_type": "code",
   "source": [
    "#como são poucos dados como não informado, vamos remover\n",
    "data = data[data['pulsos'] != 'nao informado']"
   ],
   "outputs": [],
   "execution_count": 154
  },
  {
   "metadata": {
    "ExecuteTime": {
     "end_time": "2025-01-23T02:27:29.687861Z",
     "start_time": "2025-01-23T02:27:29.683184Z"
    }
   },
   "cell_type": "code",
   "source": "data.shape",
   "outputs": [
    {
     "data": {
      "text/plain": [
       "(13300, 16)"
      ]
     },
     "execution_count": 155,
     "metadata": {},
     "output_type": "execute_result"
    }
   ],
   "execution_count": 155
  },
  {
   "metadata": {
    "ExecuteTime": {
     "end_time": "2025-01-23T02:27:29.773871Z",
     "start_time": "2025-01-23T02:27:29.757828Z"
    }
   },
   "cell_type": "code",
   "source": [
    "#breve limpeza dos dados medicos\n",
    "\n",
    "#se fc tiver numero-numero, pegar o primeiro numero\n",
    "data['fc'] = data['fc'].fillna(0)  # Substitui NaN por 0\n",
    "data['fc'] = data['fc'].astype(str).str.split('-').str[0]  # Converte para string e pega a primeira parte antes do '-'\n",
    "data['fc'] = data['fc'].astype(float)  # Converte de volta para float"
   ],
   "outputs": [],
   "execution_count": 156
  },
  {
   "metadata": {
    "ExecuteTime": {
     "end_time": "2025-01-23T02:27:29.860961Z",
     "start_time": "2025-01-23T02:27:29.842106Z"
    }
   },
   "cell_type": "code",
   "source": [
    "#removendo outliers das colunas numericas\n",
    "cols_numericas = ['pa_sistolica', 'pa_diastolica', 'fc']\n",
    "\n",
    "for col in cols_numericas:\n",
    "    Q1 = data[col].quantile(0.25)\n",
    "    Q3 = data[col].quantile(0.75)\n",
    "    IQR = Q3 - Q1\n",
    "    limite_superior = Q3 + 1.5 * IQR\n",
    "    data = data[data[col] < limite_superior]"
   ],
   "outputs": [],
   "execution_count": 157
  },
  {
   "metadata": {},
   "cell_type": "markdown",
   "source": "## utilizando o knn para preencher os valores faltantes das demais colunas"
  },
  {
   "metadata": {
    "ExecuteTime": {
     "end_time": "2025-01-23T02:27:33.566976Z",
     "start_time": "2025-01-23T02:27:29.930565Z"
    }
   },
   "cell_type": "code",
   "source": [
    "\n",
    "# Definir os valores que representam nulos\n",
    "null_values = {\n",
    "    'pa_sistolica': 0.0,\n",
    "    'pa_diastolica': 0.0,\n",
    "    'fc': 0.0,\n",
    "    'ppa': 'não calculado',\n",
    "    'b2': 'nao informado',\n",
    "    'sopro': 'ausente',\n",
    "    'hda_1': 'nao informado',\n",
    "    'motivo_1': 'nao informado',\n",
    "    'motivo_2': 'nao informado'\n",
    "}\n",
    "\n",
    "encoded_df = data.copy()\n",
    "\n",
    "# Substituir os valores que representam nulos por NaN\n",
    "for col, null_val in null_values.items():\n",
    "    encoded_df[col] = encoded_df[col].replace(null_val, np.nan)\n",
    "\n",
    "# Separar as colunas numéricas e categóricas\n",
    "numerical_cols = ['pa_sistolica', 'pa_diastolica', 'fc']\n",
    "categorical_cols = ['ppa', 'b2', 'sopro', 'hda_1', 'motivo_1', 'motivo_2']\n",
    "\n",
    "# Codificar as colunas categóricas como números para usar no KNN\n",
    "categorical_mappings = {}\n",
    "for col in categorical_cols:\n",
    "    encoded_df[col], mapping = encoded_df[col].factorize()\n",
    "    categorical_mappings[col] = mapping\n",
    "\n",
    "# Aplicar KNNImputer\n",
    "imputer = KNNImputer(n_neighbors=3)\n",
    "imputed_data = imputer.fit_transform(encoded_df[numerical_cols + categorical_cols])\n",
    "\n",
    "# Restaurar os valores imputados no DataFrame original\n",
    "imputed_df = pd.DataFrame(imputed_data, columns=numerical_cols + categorical_cols)\n",
    "\n",
    "# Reverter a codificação das colunas categóricas\n",
    "for col in categorical_cols:\n",
    "    imputed_df[col] = imputed_df[col].round().astype(int)  # Arredondar para inteiros\n",
    "    imputed_df[col] = categorical_mappings[col][imputed_df[col]].values\n",
    "\n",
    "\n"
   ],
   "outputs": [],
   "execution_count": 158
  },
  {
   "metadata": {
    "ExecuteTime": {
     "end_time": "2025-01-23T02:27:37.112590Z",
     "start_time": "2025-01-23T02:27:33.644021Z"
    }
   },
   "cell_type": "code",
   "source": [
    "cols_graf = ['pa_sistolica', 'pa_diastolica', 'fc', 'ppa', 'b2', 'sopro', 'hda_1', 'motivo_1', 'motivo_2']\n",
    "\n",
    "#faça graficos lado a lado de data e imputed_df\n",
    "\n",
    "for col in cols_graf:\n",
    "    fig, axes = plt.subplots(1, 2, figsize=(10, 5))\n",
    "    sns.histplot(data[col], ax=axes[0])\n",
    "    axes[0].set_title('Original')\n",
    "    sns.histplot(imputed_df[col], ax=axes[1])\n",
    "    axes[1].set_title('Imputado')\n",
    "    plt.show()"
   ],
   "outputs": [
    {
     "data": {
      "text/plain": [
       "<Figure size 1000x500 with 2 Axes>"
      ],
      "image/png": "[encoded data removed]"
     },
     "metadata": {},
     "output_type": "display_data"
    },
    {
     "data": {
      "text/plain": [
       "<Figure size 1000x500 with 2 Axes>"
      ],
      "image/png": "[encoded data removed]"
     },
     "metadata": {},
     "output_type": "display_data"
    },
    {
     "data": {
      "text/plain": [
       "<Figure size 1000x500 with 2 Axes>"
      ],
      "image/png": "[encoded data removed]"
     },
     "metadata": {},
     "output_type": "display_data"
    },
    {
     "data": {
      "text/plain": [
       "<Figure size 1000x500 with 2 Axes>"
      ],
      "image/png": "[encoded data removed]"
     },
     "metadata": {},
     "output_type": "display_data"
    },
    {
     "data": {
      "text/plain": [
       "<Figure size 1000x500 with 2 Axes>"
      ],
      "image/png": "[encoded data removed]"
     },
     "metadata": {},
     "output_type": "display_data"
    },
    {
     "data": {
      "text/plain": [
       "<Figure size 1000x500 with 2 Axes>"
      ],
      "image/png": "[encoded data removed]"
     },
     "metadata": {},
     "output_type": "display_data"
    },
    {
     "data": {
      "text/plain": [
       "<Figure size 1000x500 with 2 Axes>"
      ],
      "image/png": "[encoded data removed]"
     },
     "metadata": {},
     "output_type": "display_data"
    },
    {
     "data": {
      "text/plain": [
       "<Figure size 1000x500 with 2 Axes>"
      ],
      "image/png": "[encoded data removed]"
     },
     "metadata": {},
     "output_type": "display_data"
    },
    {
     "data": {
      "text/plain": [
       "<Figure size 1000x500 with 2 Axes>"
      ],
      "image/png": "[encoded data removed]"
     },
     "metadata": {},
     "output_type": "display_data"
    }
   ],
   "execution_count": 159
  },
  {
   "metadata": {
    "ExecuteTime": {
     "end_time": "2025-01-23T02:27:37.195033Z",
     "start_time": "2025-01-23T02:27:37.185764Z"
    }
   },
   "cell_type": "code",
   "source": [
    "data = data.reset_index(drop=True)\n",
    "imputed_df = imputed_df.reset_index(drop=True)\n",
    "\n",
    "# Substituir os valores imputados no DataFrame original\n",
    "for col in numerical_cols + categorical_cols:\n",
    "    data[col] = imputed_df[col]"
   ],
   "outputs": [],
   "execution_count": 160
  },
  {
   "metadata": {
    "ExecuteTime": {
     "end_time": "2025-01-23T02:27:37.290682Z",
     "start_time": "2025-01-23T02:27:37.262014Z"
    }
   },
   "cell_type": "code",
   "source": [
    "categorical_cols=categorical_cols+['sexo', 'pulsos']\n",
    "#transformando as colunas categoricas em dummies\n",
    "data = pd.get_dummies(data, columns=categorical_cols, drop_first=True)\n",
    "\n",
    "data.head()"
   ],
   "outputs": [
    {
     "data": {
      "text/plain": [
       "   id  peso  altura   imc  idade  pa_sistolica  pa_diastolica     fc  \\\n",
       "0   1   5.0    51.0  19.0      0    103.333333      63.333333  112.0   \n",
       "1   2   3.5    50.0  14.0      0     98.333333      60.000000  128.0   \n",
       "2   4   8.1    65.0  19.0      0     93.333333      60.000000   92.0   \n",
       "3   5  39.5   142.0  20.0      9     85.000000      50.000000   90.0   \n",
       "4   6  26.0   112.0  21.0      4    100.000000      60.000000  100.0   \n",
       "\n",
       "   ppa_has-1 pas  ppa_has-2 pad  ...  \\\n",
       "0          False          False  ...   \n",
       "1          False          False  ...   \n",
       "2          False          False  ...   \n",
       "3          False          False  ...   \n",
       "4          False          False  ...   \n",
       "\n",
       "   motivo_2_6 - palpitação/taquicardia/arritmia  motivo_2_6 - sopro  \\\n",
       "0                                          True               False   \n",
       "1                                         False               False   \n",
       "2                                         False               False   \n",
       "3                                         False               False   \n",
       "4                                         False               False   \n",
       "\n",
       "   motivo_2_outro  sexo_indeterminado  sexo_m  sexo_nao informado  \\\n",
       "0           False               False    True               False   \n",
       "1           False               False    True               False   \n",
       "2           False               False    True               False   \n",
       "3           False               False    True               False   \n",
       "4           False               False    True               False   \n",
       "\n",
       "   pulsos_diminuídos   pulsos_femorais diminuidos  pulsos_normais  \\\n",
       "0               False                       False            True   \n",
       "1               False                       False            True   \n",
       "2               False                       False            True   \n",
       "3               False                       False            True   \n",
       "4               False                       False            True   \n",
       "\n",
       "   pulsos_outro  \n",
       "0         False  \n",
       "1         False  \n",
       "2         False  \n",
       "3         False  \n",
       "4         False  \n",
       "\n",
       "[5 rows x 56 columns]"
      ],
      "text/html": [
       "<div>\n",
       "<style scoped>\n",
       "    .dataframe tbody tr th:only-of-type {\n",
       "        vertical-align: middle;\n",
       "    }\n",
       "\n",
       "    .dataframe tbody tr th {\n",
       "        vertical-align: top;\n",
       "    }\n",
       "\n",
       "    .dataframe thead th {\n",
       "        text-align: right;\n",
       "    }\n",
       "</style>\n",
       "<table border=\"1\" class=\"dataframe\">\n",
       "  <thead>\n",
       "    <tr style=\"text-align: right;\">\n",
       "      <th></th>\n",
       "      <th>id</th>\n",
       "      <th>peso</th>\n",
       "      <th>altura</th>\n",
       "      <th>imc</th>\n",
       "      <th>idade</th>\n",
       "      <th>pa_sistolica</th>\n",
       "      <th>pa_diastolica</th>\n",
       "      <th>fc</th>\n",
       "      <th>ppa_has-1 pas</th>\n",
       "      <th>ppa_has-2 pad</th>\n",
       "      <th>...</th>\n",
       "      <th>motivo_2_6 - palpitação/taquicardia/arritmia</th>\n",
       "      <th>motivo_2_6 - sopro</th>\n",
       "      <th>motivo_2_outro</th>\n",
       "      <th>sexo_indeterminado</th>\n",
       "      <th>sexo_m</th>\n",
       "      <th>sexo_nao informado</th>\n",
       "      <th>pulsos_diminuídos</th>\n",
       "      <th>pulsos_femorais diminuidos</th>\n",
       "      <th>pulsos_normais</th>\n",
       "      <th>pulsos_outro</th>\n",
       "    </tr>\n",
       "  </thead>\n",
       "  <tbody>\n",
       "    <tr>\n",
       "      <th>0</th>\n",
       "      <td>1</td>\n",
       "      <td>5.0</td>\n",
       "      <td>51.0</td>\n",
       "      <td>19.0</td>\n",
       "      <td>0</td>\n",
       "      <td>103.333333</td>\n",
       "      <td>63.333333</td>\n",
       "      <td>112.0</td>\n",
       "      <td>False</td>\n",
       "      <td>False</td>\n",
       "      <td>...</td>\n",
       "      <td>True</td>\n",
       "      <td>False</td>\n",
       "      <td>False</td>\n",
       "      <td>False</td>\n",
       "      <td>True</td>\n",
       "      <td>False</td>\n",
       "      <td>False</td>\n",
       "      <td>False</td>\n",
       "      <td>True</td>\n",
       "      <td>False</td>\n",
       "    </tr>\n",
       "    <tr>\n",
       "      <th>1</th>\n",
       "      <td>2</td>\n",
       "      <td>3.5</td>\n",
       "      <td>50.0</td>\n",
       "      <td>14.0</td>\n",
       "      <td>0</td>\n",
       "      <td>98.333333</td>\n",
       "      <td>60.000000</td>\n",
       "      <td>128.0</td>\n",
       "      <td>False</td>\n",
       "      <td>False</td>\n",
       "      <td>...</td>\n",
       "      <td>False</td>\n",
       "      <td>False</td>\n",
       "      <td>False</td>\n",
       "      <td>False</td>\n",
       "      <td>True</td>\n",
       "      <td>False</td>\n",
       "      <td>False</td>\n",
       "      <td>False</td>\n",
       "      <td>True</td>\n",
       "      <td>False</td>\n",
       "    </tr>\n",
       "    <tr>\n",
       "      <th>2</th>\n",
       "      <td>4</td>\n",
       "      <td>8.1</td>\n",
       "      <td>65.0</td>\n",
       "      <td>19.0</td>\n",
       "      <td>0</td>\n",
       "      <td>93.333333</td>\n",
       "      <td>60.000000</td>\n",
       "      <td>92.0</td>\n",
       "      <td>False</td>\n",
       "      <td>False</td>\n",
       "      <td>...</td>\n",
       "      <td>False</td>\n",
       "      <td>False</td>\n",
       "      <td>False</td>\n",
       "      <td>False</td>\n",
       "      <td>True</td>\n",
       "      <td>False</td>\n",
       "      <td>False</td>\n",
       "      <td>False</td>\n",
       "      <td>True</td>\n",
       "      <td>False</td>\n",
       "    </tr>\n",
       "    <tr>\n",
       "      <th>3</th>\n",
       "      <td>5</td>\n",
       "      <td>39.5</td>\n",
       "      <td>142.0</td>\n",
       "      <td>20.0</td>\n",
       "      <td>9</td>\n",
       "      <td>85.000000</td>\n",
       "      <td>50.000000</td>\n",
       "      <td>90.0</td>\n",
       "      <td>False</td>\n",
       "      <td>False</td>\n",
       "      <td>...</td>\n",
       "      <td>False</td>\n",
       "      <td>False</td>\n",
       "      <td>False</td>\n",
       "      <td>False</td>\n",
       "      <td>True</td>\n",
       "      <td>False</td>\n",
       "      <td>False</td>\n",
       "      <td>False</td>\n",
       "      <td>True</td>\n",
       "      <td>False</td>\n",
       "    </tr>\n",
       "    <tr>\n",
       "      <th>4</th>\n",
       "      <td>6</td>\n",
       "      <td>26.0</td>\n",
       "      <td>112.0</td>\n",
       "      <td>21.0</td>\n",
       "      <td>4</td>\n",
       "      <td>100.000000</td>\n",
       "      <td>60.000000</td>\n",
       "      <td>100.0</td>\n",
       "      <td>False</td>\n",
       "      <td>False</td>\n",
       "      <td>...</td>\n",
       "      <td>False</td>\n",
       "      <td>False</td>\n",
       "      <td>False</td>\n",
       "      <td>False</td>\n",
       "      <td>True</td>\n",
       "      <td>False</td>\n",
       "      <td>False</td>\n",
       "      <td>False</td>\n",
       "      <td>True</td>\n",
       "      <td>False</td>\n",
       "    </tr>\n",
       "  </tbody>\n",
       "</table>\n",
       "<p>5 rows × 56 columns</p>\n",
       "</div>"
      ]
     },
     "execution_count": 161,
     "metadata": {},
     "output_type": "execute_result"
    }
   ],
   "execution_count": 161
  },
  {
   "cell_type": "markdown",
   "metadata": {},
   "source": [
    "---\n",
    "### Pré-processamento\n",
    "\n",
    "Nesta seção, as funções da etapa de pré-processamento dos dados devem ser implementadas e aplicadas (se necessário)."
   ]
  },
  {
   "cell_type": "code",
   "metadata": {
    "ExecuteTime": {
     "end_time": "2025-01-23T02:27:37.395563Z",
     "start_time": "2025-01-23T02:27:37.392759Z"
    }
   },
   "source": [],
   "outputs": [],
   "execution_count": null
  },
  {
   "cell_type": "markdown",
   "metadata": {},
   "source": [
    "---\n",
    "### Experimento\n",
    "\n",
    "Nesta seção, o experimento deve ser conduzido, utilizando os protocolos experimentais padrões e testando diferentes modelos."
   ]
  },
  {
   "metadata": {
    "ExecuteTime": {
     "end_time": "2025-01-23T02:27:37.489102Z",
     "start_time": "2025-01-23T02:27:37.462716Z"
    }
   },
   "cell_type": "code",
   "source": [
    "# Divisão dos dados em treino e teste\n",
    "df_train = pd.read_csv('train.csv')\n",
    "df_test = pd.read_csv('test.csv')\n",
    "\n",
    "#troca a coluna de nome Id por id para poder dar merge\n",
    "df_train.rename(columns={'Id': 'id'}, inplace=True)\n",
    "\n",
    "#se classe é Normais, trocar para Normal\n",
    "df_train['CLASSE'] = df_train['CLASSE'].replace('Normais', 'Normal')\n",
    "\n",
    "# Merge the 'CLASSE' column from df_train into data\n",
    "data = data.merge(df_train[['id', 'CLASSE']], on='id', how='left')\n",
    "\n",
    "# Filter the data to include only the IDs present in df_train\n",
    "train_ids = df_train['id']\n",
    "data_filtered = data[data['id'].isin(train_ids)]\n",
    "\n",
    "# Split the filtered data into features (X) and target (y)\n",
    "X_train = data_filtered.drop(columns=['CLASSE'])\n",
    "Y_train = data_filtered['CLASSE']\n",
    "\n",
    "# Initialize the LabelEncoder\n",
    "label_encoder = LabelEncoder()\n",
    "\n",
    "# Fit and transform Y_train\n",
    "Y_train = label_encoder.fit_transform(Y_train)"
   ],
   "outputs": [],
   "execution_count": 162
  },
  {
   "metadata": {
    "ExecuteTime": {
     "end_time": "2025-01-23T02:27:37.704016Z",
     "start_time": "2025-01-23T02:27:37.697853Z"
    }
   },
   "cell_type": "code",
   "source": [
    "# ver a quantidade de valores de y\n",
    "pd.Series(Y_train).value_counts()"
   ],
   "outputs": [
    {
     "data": {
      "text/plain": [
       "1    6303\n",
       "0    3976\n",
       "2      18\n",
       "Name: count, dtype: int64"
      ]
     },
     "execution_count": 163,
     "metadata": {},
     "output_type": "execute_result"
    }
   ],
   "execution_count": 163
  },
  {
   "metadata": {
    "ExecuteTime": {
     "end_time": "2025-01-23T02:27:37.879239Z",
     "start_time": "2025-01-23T02:27:37.872287Z"
    }
   },
   "cell_type": "code",
   "source": [
    "# Converter Y_train para Series com o mesmo índice de X_train\n",
    "Y_train = pd.Series(Y_train, index=X_train.index)\n",
    "\n",
    "# Encontrar os índices onde Y_train é 2\n",
    "indices = Y_train[Y_train == 2].index\n",
    "\n",
    "# Remover as linhas correspondentes de X_train e Y_train\n",
    "Y_train = Y_train.drop(indices)\n",
    "X_train = X_train.drop(indices)\n",
    "\n",
    "# Verificar se os tamanhos agora estão corretos\n",
    "print(Y_train.value_counts())\n",
    "print(X_train.shape, Y_train.shape)"
   ],
   "outputs": [
    {
     "name": "stdout",
     "output_type": "stream",
     "text": [
      "1    6303\n",
      "0    3976\n",
      "Name: count, dtype: int64\n",
      "(10279, 56) (10279,)\n"
     ]
    }
   ],
   "execution_count": 164
  },
  {
   "metadata": {
    "ExecuteTime": {
     "end_time": "2025-01-23T02:27:38.025330Z",
     "start_time": "2025-01-23T02:27:38.020315Z"
    }
   },
   "cell_type": "code",
   "source": "X_train.shape",
   "outputs": [
    {
     "data": {
      "text/plain": [
       "(10279, 56)"
      ]
     },
     "execution_count": 165,
     "metadata": {},
     "output_type": "execute_result"
    }
   ],
   "execution_count": 165
  },
  {
   "metadata": {
    "ExecuteTime": {
     "end_time": "2025-01-23T02:27:38.159070Z",
     "start_time": "2025-01-23T02:27:38.154427Z"
    }
   },
   "cell_type": "code",
   "source": "Y_train.shape",
   "outputs": [
    {
     "data": {
      "text/plain": [
       "(10279,)"
      ]
     },
     "execution_count": 166,
     "metadata": {},
     "output_type": "execute_result"
    }
   ],
   "execution_count": 166
  },
  {
   "metadata": {},
   "cell_type": "markdown",
   "source": "#### Treinamento e avaliação dos modelos"
  },
  {
   "metadata": {
    "ExecuteTime": {
     "end_time": "2025-01-23T02:27:38.318475Z",
     "start_time": "2025-01-23T02:27:38.296452Z"
    }
   },
   "cell_type": "code",
   "source": [
    "# Padronização dos dados\n",
    "scaler = StandardScaler()\n",
    "X_train_scaled = scaler.fit_transform(X_train)"
   ],
   "outputs": [],
   "execution_count": 167
  },
  {
   "metadata": {
    "ExecuteTime": {
     "end_time": "2025-01-23T02:33:48.458552Z",
     "start_time": "2025-01-23T02:27:38.394477Z"
    }
   },
   "cell_type": "code",
   "source": [
    "def evaluate_logistic_regression():\n",
    "    model = LogisticRegression(max_iter=2000, solver='liblinear', random_state=42)\n",
    "    param_grid = {'C': [0.01, 0.1, 1, 10, 100]}\n",
    "    grid_search = GridSearchCV(estimator=model, param_grid=param_grid, cv=5, scoring='accuracy', n_jobs=-1)\n",
    "    grid_search.fit(X_train_scaled, Y_train)  \n",
    "    return grid_search.best_estimator_, np.mean(cross_val_score(grid_search.best_estimator_, X_train_scaled, Y_train, cv=5, scoring='accuracy'))\n",
    "\n",
    "def evaluate_random_forest():\n",
    "    model = RandomForestClassifier(random_state=42)\n",
    "    param_grid = {'n_estimators': [50, 100, 200], 'max_depth': [None, 10, 20, 30]}\n",
    "    grid_search = GridSearchCV(estimator=model, param_grid=param_grid, cv=5, scoring='accuracy', n_jobs=-1)\n",
    "    grid_search.fit(X_train, Y_train)\n",
    "    return grid_search.best_estimator_, np.mean(cross_val_score(grid_search.best_estimator_, X_train, Y_train, cv=5, scoring='accuracy'))\n",
    "\n",
    "def evaluate_xgboost():\n",
    "    model = XGBClassifier(eval_metric='logloss', tree_method=\"hist\", random_state=42)\n",
    "    param_grid = {'n_estimators': [50, 100, 200], 'learning_rate': [0.01, 0.1, 0.2], 'max_depth': [3, 5, 7]}\n",
    "    grid_search = GridSearchCV(estimator=model, param_grid=param_grid, cv=5, scoring='accuracy', n_jobs=-1)\n",
    "    grid_search.fit(X_train, Y_train)\n",
    "    return grid_search.best_estimator_, np.mean(cross_val_score(grid_search.best_estimator_, X_train, Y_train, cv=5, scoring='accuracy'))\n",
    "\n",
    "def evaluate_lightgbm():\n",
    "    X_train_fixed = X_train.rename(columns=lambda x: x.replace(\" \", \"_\"))\n",
    "    \n",
    "    model = LGBMClassifier(random_state=42, verbose=-1)\n",
    "    param_grid = {'n_estimators': [50, 100, 200], 'learning_rate': [0.01, 0.1, 0.2], 'max_depth': [-1, 10, 20]}\n",
    "    grid_search = GridSearchCV(estimator=model, param_grid=param_grid, cv=5, scoring='accuracy', n_jobs=-1)\n",
    "    grid_search.fit(X_train_fixed, Y_train)\n",
    "    return grid_search.best_estimator_, np.mean(cross_val_score(grid_search.best_estimator_, X_train_fixed, Y_train, cv=5, scoring='accuracy'))\n",
    "\n",
    "def evaluate_catboost():\n",
    "    model = CatBoostClassifier(verbose=0, random_state=42)\n",
    "    param_grid = {'iterations': [100, 200, 300], 'learning_rate': [0.01, 0.1, 0.2], 'depth': [4, 6, 8]}\n",
    "    grid_search = GridSearchCV(estimator=model, param_grid=param_grid, cv=5, scoring='accuracy', n_jobs=-1)\n",
    "    grid_search.fit(X_train, Y_train)\n",
    "    return grid_search.best_estimator_, np.mean(cross_val_score(grid_search.best_estimator_, X_train, Y_train, cv=5, scoring='accuracy'))\n",
    "\n",
    "def evaluate_knn():\n",
    "    model = KNeighborsClassifier()\n",
    "    param_grid = {'n_neighbors': [3, 5, 7, 9], 'weights': ['uniform', 'distance']}\n",
    "    grid_search = GridSearchCV(estimator=model, param_grid=param_grid, cv=5, scoring='accuracy', n_jobs=-1)\n",
    "    grid_search.fit(X_train, Y_train)\n",
    "    return grid_search.best_estimator_, np.mean(cross_val_score(grid_search.best_estimator_, X_train, Y_train, cv=5, scoring='accuracy'))\n",
    "\n",
    "def evaluate_svm():\n",
    "    model = SVC(probability=True, random_state=42)\n",
    "    param_grid = {'C': [0.1, 1, 10], 'kernel': ['linear', 'rbf']}\n",
    "    randomized_search = RandomizedSearchCV(estimator=model, param_distributions=param_grid, cv=3, scoring='accuracy', n_jobs=-1, n_iter=5, random_state=42)\n",
    "    randomized_search.fit(X_train, Y_train)\n",
    "    return randomized_search.best_estimator_, np.mean(cross_val_score(randomized_search.best_estimator_, X_train, Y_train, cv=3, scoring='accuracy'))\n",
    "\n",
    "def evaluate_neural_network():\n",
    "    model = MLPClassifier(max_iter=1000, random_state=42)\n",
    "    param_grid = {'hidden_layer_sizes': [(50,), (100,), (50, 50)], 'activation': ['tanh', 'relu'], 'alpha': [0.0001, 0.001, 0.01]}\n",
    "    grid_search = GridSearchCV(estimator=model, param_grid=param_grid, cv=5, scoring='accuracy', n_jobs=-1)\n",
    "    grid_search.fit(X_train_scaled, Y_train)\n",
    "    return grid_search.best_estimator_, np.mean(cross_val_score(grid_search.best_estimator_, X_train_scaled, Y_train, cv=5, scoring='accuracy'))\n",
    "\n",
    "def evaluate_naive_bayes():\n",
    "    model = GaussianNB()\n",
    "    return model, np.mean(cross_val_score(model, X_train, Y_train, cv=5, scoring='accuracy'))\n",
    "\n",
    "def evaluate_stacking():\n",
    "    stacking = StackingClassifier(\n",
    "        estimators=[\n",
    "            (\"lr\", LogisticRegression(max_iter=1000, solver='liblinear', random_state=42)),\n",
    "            (\"rf\", RandomForestClassifier(random_state=42)),\n",
    "            (\"xgb\", XGBClassifier(eval_metric='logloss', tree_method=\"hist\", random_state=42))\n",
    "        ],\n",
    "        final_estimator=LogisticRegression(max_iter=1000, solver='liblinear', random_state=42)\n",
    "    )\n",
    "    stacking.fit(X_train, Y_train)\n",
    "    return stacking, np.mean(cross_val_score(stacking, X_train, Y_train, cv=5, scoring='accuracy'))\n",
    "\n",
    "def evaluate_voting():\n",
    "    voting = VotingClassifier(\n",
    "        estimators=[\n",
    "            (\"lr\", LogisticRegression(max_iter=1000, solver='liblinear', random_state=42)),\n",
    "            (\"rf\", RandomForestClassifier(random_state=42)),\n",
    "            (\"xgb\", XGBClassifier(eval_metric='logloss', tree_method=\"hist\", random_state=42))\n",
    "        ],\n",
    "        voting=\"soft\"\n",
    "    )\n",
    "    voting.fit(X_train, Y_train)\n",
    "    return voting, np.mean(cross_val_score(voting, X_train, Y_train, cv=5, scoring='accuracy'))\n",
    "\n",
    "# Avaliação de cada modelo\n",
    "results = {}\n",
    "models = {\n",
    "    \"Logistic Regression\": evaluate_logistic_regression,\n",
    "    \"Random Forest\": evaluate_random_forest,\n",
    "    \"XGBoost\": evaluate_xgboost,\n",
    "    \"LightGBM\": evaluate_lightgbm,\n",
    "    \"CatBoost\": evaluate_catboost,\n",
    "    \"KNN\": evaluate_knn,\n",
    "# \"SVM\": evaluate_svm, todo: demora muito, talvez testar mais tarde\n",
    "    \"Neural Network\": evaluate_neural_network,\n",
    "    \"Naive Bayes\": evaluate_naive_bayes,\n",
    "    \"Stacking\": evaluate_stacking,\n",
    "    \"Voting\": evaluate_voting\n",
    "}\n",
    "\n",
    "for name, func in models.items():\n",
    "    print(f\"Avaliando {name}...\")\n",
    "    model, mean_cv_score = func()\n",
    "    results[name] = mean_cv_score\n",
    "\n",
    "sorted_results = dict(sorted(results.items(), key=lambda item: item[1], reverse=True))\n",
    "for model, acc in sorted_results.items():\n",
    "    print(f\"{model}: {acc:.4f}\")"
   ],
   "outputs": [
    {
     "name": "stdout",
     "output_type": "stream",
     "text": [
      "Avaliando Logistic Regression...\n",
      "Avaliando Random Forest...\n",
      "Avaliando XGBoost...\n",
      "Avaliando LightGBM...\n",
      "Avaliando CatBoost...\n",
      "Avaliando KNN...\n",
      "Avaliando Neural Network...\n",
      "Avaliando Naive Bayes...\n",
      "Avaliando Stacking...\n",
      "Avaliando Voting...\n",
      "XGBoost: 0.9371\n",
      "Logistic Regression: 0.9358\n",
      "LightGBM: 0.9358\n",
      "CatBoost: 0.9358\n",
      "Random Forest: 0.9354\n",
      "Stacking: 0.9328\n",
      "Naive Bayes: 0.9316\n",
      "Neural Network: 0.9213\n",
      "Voting: 0.9204\n",
      "KNN: 0.4961\n"
     ]
    }
   ],
   "execution_count": 168
  },
  {
   "metadata": {
    "ExecuteTime": {
     "end_time": "2025-01-23T02:33:48.564920Z",
     "start_time": "2025-01-23T02:33:48.562235Z"
    }
   },
   "cell_type": "code",
   "source": "",
   "outputs": [],
   "execution_count": null
  },
  {
   "metadata": {
    "ExecuteTime": {
     "end_time": "2025-01-23T02:33:48.641840Z",
     "start_time": "2025-01-23T02:33:48.639083Z"
    }
   },
   "cell_type": "code",
   "source": "",
   "outputs": [],
   "execution_count": null
  },
  {
   "cell_type": "markdown",
   "metadata": {},
   "source": [
    "---\n",
    "### Análise dos Resultados\n",
    "\n",
    "Nesta seção, os resultados devem ser exibidos através de tabelas e gráficos, comparados e profundamente analisados."
   ]
  },
  {
   "metadata": {
    "ExecuteTime": {
     "end_time": "2025-01-23T02:33:48.719915Z",
     "start_time": "2025-01-23T02:33:48.713727Z"
    }
   },
   "cell_type": "code",
   "source": "df_test.head()",
   "outputs": [
    {
     "data": {
      "text/plain": [
       "      Id\n",
       "0   8957\n",
       "1   4246\n",
       "2   9089\n",
       "3  10606\n",
       "4   9863"
      ],
      "text/html": [
       "<div>\n",
       "<style scoped>\n",
       "    .dataframe tbody tr th:only-of-type {\n",
       "        vertical-align: middle;\n",
       "    }\n",
       "\n",
       "    .dataframe tbody tr th {\n",
       "        vertical-align: top;\n",
       "    }\n",
       "\n",
       "    .dataframe thead th {\n",
       "        text-align: right;\n",
       "    }\n",
       "</style>\n",
       "<table border=\"1\" class=\"dataframe\">\n",
       "  <thead>\n",
       "    <tr style=\"text-align: right;\">\n",
       "      <th></th>\n",
       "      <th>Id</th>\n",
       "    </tr>\n",
       "  </thead>\n",
       "  <tbody>\n",
       "    <tr>\n",
       "      <th>0</th>\n",
       "      <td>8957</td>\n",
       "    </tr>\n",
       "    <tr>\n",
       "      <th>1</th>\n",
       "      <td>4246</td>\n",
       "    </tr>\n",
       "    <tr>\n",
       "      <th>2</th>\n",
       "      <td>9089</td>\n",
       "    </tr>\n",
       "    <tr>\n",
       "      <th>3</th>\n",
       "      <td>10606</td>\n",
       "    </tr>\n",
       "    <tr>\n",
       "      <th>4</th>\n",
       "      <td>9863</td>\n",
       "    </tr>\n",
       "  </tbody>\n",
       "</table>\n",
       "</div>"
      ]
     },
     "execution_count": 169,
     "metadata": {},
     "output_type": "execute_result"
    }
   ],
   "execution_count": 169
  },
  {
   "cell_type": "code",
   "metadata": {
    "ExecuteTime": {
     "end_time": "2025-01-23T02:33:48.823478Z",
     "start_time": "2025-01-23T02:33:48.818291Z"
    }
   },
   "source": [
    "# Verificar se todos os IDs de df_test estão presentes em data\n",
    "ids_test = df_test['Id']  # IDs de df_test\n",
    "ids_data = data['id']     # IDs de data\n",
    "\n",
    "# Encontrar IDs ausentes\n",
    "ids_ausentes = ids_test[~ids_test.isin(ids_data)]\n",
    "\n",
    "# Verificar se há IDs ausentes\n",
    "if not ids_ausentes.empty:\n",
    "    print(\"Os seguintes IDs de df_test estão ausentes em data:\")\n",
    "    print(ids_ausentes.tolist())\n",
    "else:\n",
    "    print(\"Todos os IDs de df_test estão presentes em data.\")\n"
   ],
   "outputs": [
    {
     "name": "stdout",
     "output_type": "stream",
     "text": [
      "Os seguintes IDs de df_test estão ausentes em data:\n",
      "[11627, 1643, 6957, 15712, 2870, 15067, 17323, 2497, 4697, 17197, 3009, 15635, 17576, 10996, 14656, 10894, 11794, 11158, 10933, 17018, 17644, 2876, 13631, 1305, 15070, 4692, 8796, 6295, 16022, 10251, 12538, 13758, 9654, 850, 4958, 1177, 7085, 5572, 13472, 7713, 1828, 7418, 16241, 6204, 3897, 17451, 9064, 1087, 3327, 1602, 6452, 14870, 11460, 17531, 3747, 1810, 14866, 7592, 6261, 13608, 9615, 614, 903, 16186, 11688, 15813, 2396, 12520, 9556, 1774, 17709, 53, 11235, 3731, 10146, 10346, 14988, 7118, 1166, 12936, 13085, 9649, 14272, 14405, 2496, 13497, 15355, 12762, 14990, 15183, 10963, 5305, 15358, 15383, 9679, 12807, 15077, 10132, 6979, 1012, 4951, 8378, 12759, 7020, 15144, 8748, 6663, 15448, 12162, 13162, 7509, 12132, 11159, 3224, 1148, 2971, 7648, 1563, 11271, 3850, 16910, 10383, 8191, 11605, 12021, 3256, 3183, 8976, 4115, 897, 2293, 15108, 1289, 10055, 4540, 10074, 6604, 15091, 7690, 16811, 5730, 1977, 5815, 11633, 4876, 2538, 6203, 16874, 1421, 15281, 3706, 10039, 17542, 12740, 3587, 9753, 5450, 10403, 5233, 11246, 7506, 17690, 4271, 16927, 8548, 15774, 16456, 15640, 309, 6672, 9914, 11449, 8449, 13258, 21, 1261, 341, 15893, 2572, 15761, 8955, 5984, 12938, 2034, 455, 12661, 12113, 10384, 2629, 6741, 4345, 9410, 12640, 1334, 2464, 3557, 17347, 10020, 3839, 4251, 11256, 17604, 14758, 9836, 8774, 6208, 6885, 2991, 4955, 15074, 1413, 14334, 383, 14626, 10744, 15053, 456, 7425, 2616, 7661, 6649, 11574, 8458, 10012, 1665, 12658, 5475, 5478, 1642, 4598, 17327, 15131, 17388, 1233, 10511, 9019, 15057, 12630, 6857, 8019, 15303, 12186, 13330, 6384, 3171, 1520, 12634, 14807, 13384, 12311, 17480, 8092, 14111, 4652, 9736, 6387, 14297, 7472, 12446, 92, 16925, 12764, 1660, 8525, 336, 14971, 2346, 4615, 10156, 10917, 9182, 10633, 15652, 12540, 3347, 12359, 15581, 15381, 14127, 5668, 4934, 6541, 1648, 10510, 12386, 539, 8688, 15168, 1182, 9900, 9904, 6552, 2940, 805, 10378, 17063, 2787, 9605, 17632, 8874, 5436, 1469, 15134, 14050, 2713, 9591, 9572, 4608, 2135, 11054, 13124, 9358, 13178, 15347, 2372, 12422, 14764, 11315, 6267, 8228, 6493, 12612, 5232, 10111, 4250, 14209, 4949, 286, 14674, 14286, 12017, 1683, 14321, 9324, 2884, 14473, 14836, 14361, 2359, 6128, 15272, 5477, 7032, 14128, 14772, 7613, 15797, 7256, 17620, 8850, 1199, 12261, 7413, 7233, 10211, 8898, 14806, 5440, 9768, 1720, 11093, 16940, 6612, 12560, 9726, 13957, 5209, 6321, 15620, 5280, 16604, 2248, 10279, 13404, 14250, 14544, 4300, 12492, 7148, 16532, 13040, 4041, 14208, 16250, 3375, 2469, 431, 7175, 12018, 7554, 17160, 9108, 49, 798, 10912, 13364, 15003, 9707, 15169, 16655, 15365, 15150, 14349, 10978, 1589, 5492, 12915, 15130, 12424, 14993, 4280, 1497, 13636, 15596, 7708, 7749, 8848, 12703, 10718, 474, 15940, 17183, 5142, 12108, 15456, 10682, 6987, 5362, 12281, 424, 12865, 9941, 4172, 17582, 2302, 1547, 2635, 5589, 15235, 4332, 10267, 1922, 9763, 17073, 16008, 9131, 113, 141, 1229, 12165, 9018, 9727, 984, 8747, 13110, 4135, 12182, 16858, 11930, 15113, 16599, 10197, 3660, 17503, 8922, 3843, 12714, 7469, 10113, 2596, 7957, 9908, 4166, 11273, 17102, 11804, 606, 17450, 548, 7835, 8714, 16044, 13837, 306, 5845, 8502, 15546, 3724, 3611, 17060, 10229, 15076, 13533, 13931, 14777, 9926, 3855, 13577, 7394, 7981, 3239, 2959, 3577, 17535, 7343, 11887, 10206, 2911, 2107, 15060, 3561, 15728, 8008, 13835, 17335, 1795, 1292, 15177, 4860, 1258, 6079, 6605, 7268, 15018, 14371, 13114, 12284, 6801, 13940, 16462, 2268, 4104, 3869, 16098, 15246, 15166, 1669, 16118, 4126, 10560, 11131, 5545, 3702, 16223, 17181, 16516, 15040, 5665, 3516, 8121, 3069, 4498, 4221, 17028, 9204, 12282, 16142, 10765, 10008, 10233, 1482, 3893, 11972, 3216, 10599, 13541, 4781, 999, 14636, 10666, 11534, 14730, 3279, 7828, 6818, 7619, 9835, 8970, 6870, 13515, 16, 12245, 17238, 9371, 703, 3778, 33, 329, 6038, 137, 2087, 12090, 14907, 15035, 12655, 898, 5277, 8602, 14053, 9000, 15107]\n"
     ]
    }
   ],
   "execution_count": 170
  },
  {
   "metadata": {
    "ExecuteTime": {
     "end_time": "2025-01-23T02:33:48.875569Z",
     "start_time": "2025-01-23T02:33:48.863571Z"
    }
   },
   "cell_type": "code",
   "source": [
    "\n",
    "# Recuperar as linhas dos IDs ausentes\n",
    "linhas_restauradas = data_antes_drop[data_antes_drop['id'].isin(ids_ausentes)]\n",
    "\n",
    "#limpar os dados das linhas restauradas transformando as colunas categoricas em dummies\n",
    "linhas_restauradas = pd.get_dummies(linhas_restauradas, columns=categorical_cols, drop_first=True)"
   ],
   "outputs": [],
   "execution_count": 171
  },
  {
   "metadata": {
    "ExecuteTime": {
     "end_time": "2025-01-23T02:33:48.987650Z",
     "start_time": "2025-01-23T02:33:48.979179Z"
    }
   },
   "cell_type": "code",
   "source": [
    "# Reindexar diretamente linhas_restauradas para ter as mesmas colunas que data\n",
    "linhas_restauradas_ajustadas = linhas_restauradas.reindex(columns=data.columns)\n",
    "\n",
    "# Adicionar as linhas restauradas ao data\n",
    "data_restaurado = pd.concat([data, linhas_restauradas_ajustadas], ignore_index=True)\n"
   ],
   "outputs": [],
   "execution_count": 172
  },
  {
   "metadata": {
    "ExecuteTime": {
     "end_time": "2025-01-23T02:33:49.069252Z",
     "start_time": "2025-01-23T02:33:49.061004Z"
    }
   },
   "cell_type": "code",
   "source": [
    "#transformar as colunas sopro_sistolico e diastólico, motivo_2_6 - alterações de pulso/perfusão, motivo_2_6 - cansaço, motivo_2_6 - cianose e dispnéia e pulsos_diminuídos em bool\n",
    "# Lista de colunas a serem convertidas para bool\n",
    "colunas_para_bool = [\n",
    "    'sopro_sistolico e diastólico', \n",
    "    'motivo_2_6 - alterações de pulso/perfusão', \n",
    "    'motivo_2_6 - cansaço', \n",
    "    'motivo_2_6 - cianose e dispnéia', \n",
    "    'pulsos_diminuídos '\n",
    "]\n",
    "\n",
    "# Converter as colunas para o tipo bool\n",
    "data_restaurado[colunas_para_bool] = data_restaurado[colunas_para_bool].astype(bool)"
   ],
   "outputs": [],
   "execution_count": 173
  },
  {
   "metadata": {
    "ExecuteTime": {
     "end_time": "2025-01-23T02:33:49.156426Z",
     "start_time": "2025-01-23T02:33:49.143383Z"
    }
   },
   "cell_type": "code",
   "source": [
    "\n",
    "#se o tipo da coluna for bool, preencher com False os valores faltantes\n",
    "for col in data_restaurado.columns:\n",
    "    if data_restaurado[col].dtype == 'bool':\n",
    "        data_restaurado[col] = data_restaurado[col].fillna(False)\n",
    "\n",
    "data_restaurado.drop(columns=['CLASSE'], inplace=True)\n"
   ],
   "outputs": [],
   "execution_count": 174
  },
  {
   "metadata": {
    "ExecuteTime": {
     "end_time": "2025-01-23T02:33:49.245227Z",
     "start_time": "2025-01-23T02:33:49.228258Z"
    }
   },
   "cell_type": "code",
   "source": "data_restaurado.tail()",
   "outputs": [
    {
     "data": {
      "text/plain": [
       "          id  peso  altura   imc  idade  pa_sistolica  pa_diastolica   fc  \\\n",
       "13438  17620   0.0     0.0   0.0   2.77           0.0            0.0   88   \n",
       "13439  17632   3.1    50.0  12.0   0.00           0.0            0.0   90   \n",
       "13440  17644  31.0   143.0  15.0   0.00          90.0           60.0   84   \n",
       "13441  17690  87.0   179.0  27.0  17.91         140.0          100.0   90   \n",
       "13442  17709  59.0   152.0  26.0  12.91           0.0            0.0  NaN   \n",
       "\n",
       "       ppa_has-1 pas  ppa_has-2 pad  ...  \\\n",
       "13438          False          False  ...   \n",
       "13439          False          False  ...   \n",
       "13440          False          False  ...   \n",
       "13441          False          False  ...   \n",
       "13442          False          False  ...   \n",
       "\n",
       "       motivo_2_6 - palpitação/taquicardia/arritmia  motivo_2_6 - sopro  \\\n",
       "13438                                         False                True   \n",
       "13439                                         False                True   \n",
       "13440                                         False               False   \n",
       "13441                                         False               False   \n",
       "13442                                         False               False   \n",
       "\n",
       "       motivo_2_outro  sexo_indeterminado  sexo_m  sexo_nao informado  \\\n",
       "13438           False               False    True               False   \n",
       "13439           False               False   False               False   \n",
       "13440           False               False    True               False   \n",
       "13441           False               False    True               False   \n",
       "13442           False               False    True               False   \n",
       "\n",
       "       pulsos_diminuídos   pulsos_femorais diminuidos  pulsos_normais  \\\n",
       "13438                True                       False            True   \n",
       "13439                True                       False            True   \n",
       "13440                True                       False            True   \n",
       "13441                True                       False            True   \n",
       "13442                True                       False           False   \n",
       "\n",
       "       pulsos_outro  \n",
       "13438         False  \n",
       "13439         False  \n",
       "13440         False  \n",
       "13441         False  \n",
       "13442         False  \n",
       "\n",
       "[5 rows x 56 columns]"
      ],
      "text/html": [
       "<div>\n",
       "<style scoped>\n",
       "    .dataframe tbody tr th:only-of-type {\n",
       "        vertical-align: middle;\n",
       "    }\n",
       "\n",
       "    .dataframe tbody tr th {\n",
       "        vertical-align: top;\n",
       "    }\n",
       "\n",
       "    .dataframe thead th {\n",
       "        text-align: right;\n",
       "    }\n",
       "</style>\n",
       "<table border=\"1\" class=\"dataframe\">\n",
       "  <thead>\n",
       "    <tr style=\"text-align: right;\">\n",
       "      <th></th>\n",
       "      <th>id</th>\n",
       "      <th>peso</th>\n",
       "      <th>altura</th>\n",
       "      <th>imc</th>\n",
       "      <th>idade</th>\n",
       "      <th>pa_sistolica</th>\n",
       "      <th>pa_diastolica</th>\n",
       "      <th>fc</th>\n",
       "      <th>ppa_has-1 pas</th>\n",
       "      <th>ppa_has-2 pad</th>\n",
       "      <th>...</th>\n",
       "      <th>motivo_2_6 - palpitação/taquicardia/arritmia</th>\n",
       "      <th>motivo_2_6 - sopro</th>\n",
       "      <th>motivo_2_outro</th>\n",
       "      <th>sexo_indeterminado</th>\n",
       "      <th>sexo_m</th>\n",
       "      <th>sexo_nao informado</th>\n",
       "      <th>pulsos_diminuídos</th>\n",
       "      <th>pulsos_femorais diminuidos</th>\n",
       "      <th>pulsos_normais</th>\n",
       "      <th>pulsos_outro</th>\n",
       "    </tr>\n",
       "  </thead>\n",
       "  <tbody>\n",
       "    <tr>\n",
       "      <th>13438</th>\n",
       "      <td>17620</td>\n",
       "      <td>0.0</td>\n",
       "      <td>0.0</td>\n",
       "      <td>0.0</td>\n",
       "      <td>2.77</td>\n",
       "      <td>0.0</td>\n",
       "      <td>0.0</td>\n",
       "      <td>88</td>\n",
       "      <td>False</td>\n",
       "      <td>False</td>\n",
       "      <td>...</td>\n",
       "      <td>False</td>\n",
       "      <td>True</td>\n",
       "      <td>False</td>\n",
       "      <td>False</td>\n",
       "      <td>True</td>\n",
       "      <td>False</td>\n",
       "      <td>True</td>\n",
       "      <td>False</td>\n",
       "      <td>True</td>\n",
       "      <td>False</td>\n",
       "    </tr>\n",
       "    <tr>\n",
       "      <th>13439</th>\n",
       "      <td>17632</td>\n",
       "      <td>3.1</td>\n",
       "      <td>50.0</td>\n",
       "      <td>12.0</td>\n",
       "      <td>0.00</td>\n",
       "      <td>0.0</td>\n",
       "      <td>0.0</td>\n",
       "      <td>90</td>\n",
       "      <td>False</td>\n",
       "      <td>False</td>\n",
       "      <td>...</td>\n",
       "      <td>False</td>\n",
       "      <td>True</td>\n",
       "      <td>False</td>\n",
       "      <td>False</td>\n",
       "      <td>False</td>\n",
       "      <td>False</td>\n",
       "      <td>True</td>\n",
       "      <td>False</td>\n",
       "      <td>True</td>\n",
       "      <td>False</td>\n",
       "    </tr>\n",
       "    <tr>\n",
       "      <th>13440</th>\n",
       "      <td>17644</td>\n",
       "      <td>31.0</td>\n",
       "      <td>143.0</td>\n",
       "      <td>15.0</td>\n",
       "      <td>0.00</td>\n",
       "      <td>90.0</td>\n",
       "      <td>60.0</td>\n",
       "      <td>84</td>\n",
       "      <td>False</td>\n",
       "      <td>False</td>\n",
       "      <td>...</td>\n",
       "      <td>False</td>\n",
       "      <td>False</td>\n",
       "      <td>False</td>\n",
       "      <td>False</td>\n",
       "      <td>True</td>\n",
       "      <td>False</td>\n",
       "      <td>True</td>\n",
       "      <td>False</td>\n",
       "      <td>True</td>\n",
       "      <td>False</td>\n",
       "    </tr>\n",
       "    <tr>\n",
       "      <th>13441</th>\n",
       "      <td>17690</td>\n",
       "      <td>87.0</td>\n",
       "      <td>179.0</td>\n",
       "      <td>27.0</td>\n",
       "      <td>17.91</td>\n",
       "      <td>140.0</td>\n",
       "      <td>100.0</td>\n",
       "      <td>90</td>\n",
       "      <td>False</td>\n",
       "      <td>False</td>\n",
       "      <td>...</td>\n",
       "      <td>False</td>\n",
       "      <td>False</td>\n",
       "      <td>False</td>\n",
       "      <td>False</td>\n",
       "      <td>True</td>\n",
       "      <td>False</td>\n",
       "      <td>True</td>\n",
       "      <td>False</td>\n",
       "      <td>True</td>\n",
       "      <td>False</td>\n",
       "    </tr>\n",
       "    <tr>\n",
       "      <th>13442</th>\n",
       "      <td>17709</td>\n",
       "      <td>59.0</td>\n",
       "      <td>152.0</td>\n",
       "      <td>26.0</td>\n",
       "      <td>12.91</td>\n",
       "      <td>0.0</td>\n",
       "      <td>0.0</td>\n",
       "      <td>NaN</td>\n",
       "      <td>False</td>\n",
       "      <td>False</td>\n",
       "      <td>...</td>\n",
       "      <td>False</td>\n",
       "      <td>False</td>\n",
       "      <td>False</td>\n",
       "      <td>False</td>\n",
       "      <td>True</td>\n",
       "      <td>False</td>\n",
       "      <td>True</td>\n",
       "      <td>False</td>\n",
       "      <td>False</td>\n",
       "      <td>False</td>\n",
       "    </tr>\n",
       "  </tbody>\n",
       "</table>\n",
       "<p>5 rows × 56 columns</p>\n",
       "</div>"
      ]
     },
     "execution_count": 175,
     "metadata": {},
     "output_type": "execute_result"
    }
   ],
   "execution_count": 175
  },
  {
   "metadata": {
    "ExecuteTime": {
     "end_time": "2025-01-23T02:41:12.518465Z",
     "start_time": "2025-01-23T02:41:12.497192Z"
    }
   },
   "cell_type": "code",
   "source": [
    "# se peso, altura,idade,pa_sistolica, pa diastolica, imc forem 0, preencher com a mediana\n",
    "cols_numericas = ['peso', 'altura', 'idade', 'pa_sistolica', 'pa_diastolica', 'imc']\n",
    "\n",
    "for col in cols_numericas:\n",
    "    data_restaurado[col] = data_restaurado[col].replace(0, np.nan)\n",
    "    data_restaurado[col] = data_restaurado[col].fillna(data[col].median())\n",
    "    #colocar o tipo como float\n",
    "data_restaurado['fc'] = data_restaurado['fc'].astype(str).str.split('-').str[0]  # Converte para string e pega a primeira parte antes do '-'\n",
    "data_restaurado['fc'] = data_restaurado['fc'].astype(float)  # Converte de volta para float\n",
    "    "
   ],
   "outputs": [],
   "execution_count": 183
  },
  {
   "metadata": {
    "ExecuteTime": {
     "end_time": "2025-01-23T02:42:20.150245Z",
     "start_time": "2025-01-23T02:41:17.874125Z"
    }
   },
   "cell_type": "code",
   "source": [
    "# Passo 1: Definir os parâmetros a serem testados\n",
    "param_grid = {\n",
    "    'n_estimators': [50, 100, 200],\n",
    "    'learning_rate': [0.01, 0.1, 0.2],\n",
    "    'max_depth': [3, 5, 7],\n",
    "    'subsample': [0.8, 1.0],\n",
    "    'colsample_bytree': [0.8, 1.0],\n",
    "    'gamma': [0, 0.1, 0.2]\n",
    "}\n",
    "\n",
    "# Passo 2: Configurar o GridSearchCV para otimização\n",
    "grid_search = GridSearchCV(estimator=XGBClassifier(eval_metric='logloss', tree_method=\"hist\", random_state=42),\n",
    "                           param_grid=param_grid, cv=5, scoring='accuracy', n_jobs=-1)\n",
    "\n",
    "# Passo 3: Ajustar o GridSearchCV nos dados de treino\n",
    "grid_search.fit(X_train, Y_train)\n",
    "\n",
    "# Passo 4: Obter o melhor modelo após a otimização\n",
    "best_model = grid_search.best_estimator_\n",
    "\n",
    "# Passo 5: Fazer previsões no X_test com o melhor modelo\n",
    "df_test_ids = df_test['Id']\n",
    "X_test_preparado = data_restaurado[data_restaurado['id'].isin(df_test_ids)]\n",
    "\n",
    "# Remover a coluna 'id' para a previsão e alinhar as colunas com X_train\n",
    "X_test_preparado = X_test_preparado.drop(columns=['id'], errors='ignore')\n",
    "X_test_preparado = X_test_preparado.reindex(columns=X_train.columns, fill_value=0)\n",
    "\n",
    "# Previsão no X_test\n",
    "y_test_pred_prob = best_model.predict_proba(X_test_preparado)[:, 1]  # Pegando a probabilidade da classe positiva (1)\n",
    "\n",
    "y_train_pred = best_model.predict(X_train)\n",
    "train_accuracy = accuracy_score(Y_train, y_train_pred)\n",
    "\n",
    "print(f\"Acurácia no conjunto de treino: {train_accuracy:.4f}\")\n"
   ],
   "outputs": [
    {
     "name": "stdout",
     "output_type": "stream",
     "text": [
      "Acurácia no conjunto de treino: 0.9393\n"
     ]
    }
   ],
   "execution_count": 184
  },
  {
   "metadata": {
    "ExecuteTime": {
     "end_time": "2025-01-23T02:49:20.535762Z",
     "start_time": "2025-01-23T02:49:20.526398Z"
    }
   },
   "cell_type": "code",
   "source": [
    "# Passo 3: Salvar as previsões no formato desejado (id e CLASSE)\n",
    "df_test['Predicted'] = y_test_pred_prob\n",
    "df_test[['Id', 'Predicted']].to_csv('submission.csv', index=False)"
   ],
   "outputs": [],
   "execution_count": 190
  },
  {
   "metadata": {},
   "cell_type": "code",
   "outputs": [],
   "execution_count": null,
   "source": ""
  }
 ],
 "metadata": {
  "kernelspec": {
   "display_name": "Python 3 (ipykernel)",
   "language": "python",
   "name": "python3"
  },
  "language_info": {
   "codemirror_mode": {
    "name": "ipython",
    "version": 3
   },
   "file_extension": ".py",
   "mimetype": "text/x-python",
   "name": "python",
   "nbconvert_exporter": "python",
   "pygments_lexer": "ipython3",
   "version": "3.11.10"
  }
 },
 "nbformat": 4,
 "nbformat_minor": 4
}
